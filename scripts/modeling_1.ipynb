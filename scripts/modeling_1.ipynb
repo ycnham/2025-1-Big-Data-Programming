{
 "cells": [
  {
   "cell_type": "code",
   "execution_count": 21,
   "id": "d30f9f2a",
   "metadata": {},
   "outputs": [],
   "source": [
    "import pandas as pd\n",
    "import numpy as np\n",
    "from sklearn.cluster import KMeans\n",
    "from sklearn.model_selection import train_test_split\n",
    "from sklearn.metrics import mean_absolute_error, mean_squared_error, r2_score\n",
    "from xgboost import XGBRegressor\n",
    "from pulp import LpProblem, LpMaximize, LpVariable, lpSum\n",
    "import matplotlib.pyplot as plt"
   ]
  },
  {
   "cell_type": "code",
   "execution_count": 23,
   "id": "9e80e555",
   "metadata": {},
   "outputs": [],
   "source": [
    "# _processed 파일 불러오기\n",
    "grid = pd.read_csv(\"../data/processed/grid_system_processed.csv\")\n",
    "charging = pd.read_csv(\"../data/processed/charging_stations_processed.csv\")\n",
    "ev = pd.read_csv(\"../data/processed/ev_registration_processed.csv\")\n",
    "commercial = pd.read_csv(\"../data/processed/commercial_facilities_processed.csv\")"
   ]
  },
  {
   "cell_type": "code",
   "execution_count": 24,
   "id": "596d02e5",
   "metadata": {},
   "outputs": [],
   "source": [
    "df = grid.copy()\n",
    "df['facility_count'] = np.random.randint(10, 100, len(df))\n",
    "df['charging_station_count'] = np.random.randint(0, 20, len(df))\n",
    "df['registered_vehicles'] = np.random.randint(100, 1000, len(df))"
   ]
  },
  {
   "cell_type": "code",
   "execution_count": 25,
   "id": "2a8da888",
   "metadata": {},
   "outputs": [],
   "source": [
    "kmeans = KMeans(n_clusters=5, random_state=42)\n",
    "df['cluster'] = kmeans.fit_predict(df[['center_lat', 'center_lon']])"
   ]
  },
  {
   "cell_type": "code",
   "execution_count": 26,
   "id": "96cd2f71",
   "metadata": {},
   "outputs": [
    {
     "name": "stdout",
     "output_type": "stream",
     "text": [
      "MAE: 188.84071187441427\n",
      "RMSE: 388.4649593138933\n",
      "R²: -0.032444385229416506\n"
     ]
    }
   ],
   "source": [
    "features = ['supply_score', 'facility_count', 'charging_station_count', 'registered_vehicles']\n",
    "target = 'demand_score'\n",
    "\n",
    "X_train, X_test, y_train, y_test = train_test_split(df[features], df[target], test_size=0.2, random_state=42)\n",
    "\n",
    "xgb_model = XGBRegressor(random_state=42)\n",
    "xgb_model.fit(X_train, y_train)\n",
    "preds = xgb_model.predict(X_test)\n",
    "\n",
    "print(\"MAE:\", mean_absolute_error(y_test, preds))\n",
    "print(\"RMSE:\", np.sqrt(mean_squared_error(y_test, preds)))\n",
    "print(\"R²:\", r2_score(y_test, preds))\n"
   ]
  },
  {
   "cell_type": "code",
   "execution_count": 28,
   "id": "83bba494",
   "metadata": {},
   "outputs": [
    {
     "name": "stderr",
     "output_type": "stream",
     "text": [
      "커버리지 매트릭스 구성 중: 100%|██████████| 5963/5963 [32:47<00:00,  3.03it/s]   \n",
      "제약 조건 생성 중: 100%|██████████| 5963/5963 [00:12<00:00, 481.45it/s]\n"
     ]
    },
    {
     "name": "stdout",
     "output_type": "stream",
     "text": [
      "Welcome to the CBC MILP Solver \n",
      "Version: 2.10.3 \n",
      "Build Date: Dec 15 2019 \n",
      "\n",
      "command line - /opt/anaconda3/envs/25bigdata/lib/python3.10/site-packages/pulp/apis/../solverdir/cbc/osx/i64/cbc /var/folders/g0/wf5k560d45g5_rq_z1jbdpq40000gn/T/a28af090d4804132bbfb24241a497390-pulp.mps -max -timeMode elapsed -branch -printingOptions all -solution /var/folders/g0/wf5k560d45g5_rq_z1jbdpq40000gn/T/a28af090d4804132bbfb24241a497390-pulp.sol (default strategy 1)\n",
      "At line 2 NAME          MODEL\n",
      "At line 3 ROWS\n",
      "At line 5969 COLUMNS\n",
      "At line 338312 RHS\n",
      "At line 344277 BOUNDS\n",
      "At line 356204 ENDATA\n",
      "Problem MODEL has 5964 rows, 11926 columns and 302527 elements\n",
      "Coin0008I MODEL read with 0 errors\n",
      "Option for timeMode changed from cpu to elapsed\n",
      "Continuous objective value is 510 - 0.34 seconds\n",
      "Cgl0004I processed model has 5964 rows, 11926 columns (11926 integer (11926 of which binary)) and 302527 elements\n",
      "Cutoff increment increased from 1e-05 to 0.9999\n",
      "Cbc0038I Initial state - 0 integers unsatisfied sum - 0\n",
      "Cbc0038I Solution found of -510\n",
      "Cbc0038I Before mini branch and bound, 11926 integers at bound fixed and 0 continuous\n",
      "Cbc0038I Mini branch and bound did not improve solution (0.58 seconds)\n",
      "Cbc0038I After 0.58 seconds - Feasibility pump exiting with objective of -510 - took 0.02 seconds\n",
      "Cbc0012I Integer solution of -510 found by feasibility pump after 0 iterations and 0 nodes (0.58 seconds)\n",
      "Cbc0001I Search completed - best objective -510, took 0 iterations and 0 nodes (0.59 seconds)\n",
      "Cbc0035I Maximum depth 0, 0 variables fixed on reduced cost\n",
      "Cuts at root node changed objective from -510 to -510\n",
      "Probing was tried 0 times and created 0 cuts of which 0 were active after adding rounds of cuts (0.000 seconds)\n",
      "Gomory was tried 0 times and created 0 cuts of which 0 were active after adding rounds of cuts (0.000 seconds)\n",
      "Knapsack was tried 0 times and created 0 cuts of which 0 were active after adding rounds of cuts (0.000 seconds)\n",
      "Clique was tried 0 times and created 0 cuts of which 0 were active after adding rounds of cuts (0.000 seconds)\n",
      "MixedIntegerRounding2 was tried 0 times and created 0 cuts of which 0 were active after adding rounds of cuts (0.000 seconds)\n",
      "FlowCover was tried 0 times and created 0 cuts of which 0 were active after adding rounds of cuts (0.000 seconds)\n",
      "TwoMirCuts was tried 0 times and created 0 cuts of which 0 were active after adding rounds of cuts (0.000 seconds)\n",
      "ZeroHalf was tried 0 times and created 0 cuts of which 0 were active after adding rounds of cuts (0.000 seconds)\n",
      "\n",
      "Result - Optimal solution found\n",
      "\n",
      "Objective value:                510.00000000\n",
      "Enumerated nodes:               0\n",
      "Total iterations:               0\n",
      "Time (CPU seconds):             0.57\n",
      "Time (Wallclock seconds):       0.61\n",
      "\n",
      "Option for printingOptions changed from normal to all\n",
      "Total time (CPU seconds):       0.68   (Wallclock seconds):       0.74\n",
      "\n",
      "선정된 입지 grid_id: ['GRID_5_52', 'GRID_11_21', 'GRID_11_79', 'GRID_22_76', 'GRID_39_37', 'GRID_53_56', 'GRID_53_71', 'GRID_54_11', 'GRID_59_64', 'GRID_62_85']\n"
     ]
    }
   ],
   "source": [
    "from tqdm import tqdm\n",
    "from pulp import LpProblem, LpMaximize, LpVariable, lpSum\n",
    "import numpy as np\n",
    "\n",
    "# tqdm 설정\n",
    "tqdm.pandas()\n",
    "\n",
    "coverage_radius = 0.02  # 약 2km\n",
    "sites = list(df.index)\n",
    "demand_points = list(df.index)\n",
    "\n",
    "# tqdm 적용된 coverage_matrix 계산\n",
    "coverage_matrix = {}\n",
    "for i in tqdm(sites, desc=\"커버리지 매트릭스 구성 중\"):\n",
    "    coverage_matrix[i] = [\n",
    "        j for j in demand_points\n",
    "        if np.sqrt((df.loc[i, 'center_lat'] - df.loc[j, 'center_lat'])**2 + \n",
    "                   (df.loc[i, 'center_lon'] - df.loc[j, 'center_lon'])**2) <= coverage_radius\n",
    "    ]\n",
    "\n",
    "# 최적화 문제 정의\n",
    "prob = LpProblem(\"Maximize_Coverage\", LpMaximize)\n",
    "x = LpVariable.dicts('Site', sites, 0, 1, cat='Binary')\n",
    "y = LpVariable.dicts('Demand', demand_points, 0, 1, cat='Binary')\n",
    "\n",
    "max_sites = 10\n",
    "prob += lpSum([y[j] for j in demand_points])\n",
    "prob += lpSum([x[i] for i in sites]) <= max_sites\n",
    "\n",
    "# tqdm 적용된 제약조건 생성\n",
    "for j in tqdm(demand_points, desc=\"제약 조건 생성 중\"):\n",
    "    prob += y[j] <= lpSum([x[i] for i in sites if j in coverage_matrix[i]])\n",
    "\n",
    "# 최적화 수행\n",
    "prob.solve()\n",
    "\n",
    "selected_sites = [i for i in sites if x[i].varValue == 1]\n",
    "print(\"선정된 입지 grid_id:\", df.loc[selected_sites, 'grid_id'].tolist())\n"
   ]
  },
  {
   "cell_type": "code",
   "execution_count": 29,
   "id": "e69d59bc",
   "metadata": {},
   "outputs": [
    {
     "data": {
      "image/png": "[encoded data removed]",
      "text/plain": [
       "<Figure size 640x480 with 1 Axes>"
      ]
     },
     "metadata": {},
     "output_type": "display_data"
    }
   ],
   "source": [
    "plt.scatter(df['center_lon'], df['center_lat'], c='gray', alpha=0.3, label='전체 그리드')\n",
    "plt.scatter(df.loc[selected_sites, 'center_lon'], df.loc[selected_sites, 'center_lat'], c='red', label='선정 입지')\n",
    "plt.xlabel(\"Longitude\")\n",
    "plt.ylabel(\"Latitude\")\n",
    "plt.title(\"최적 입지 선정 결과 (MCLP)\")\n",
    "plt.legend()\n",
    "plt.show()"
   ]
  },
  {
   "cell_type": "code",
   "execution_count": null,
   "id": "bf7c984a",
   "metadata": {},
   "outputs": [],
   "source": []
  }
 ],
 "metadata": {
  "kernelspec": {
   "display_name": "25bigdata",
   "language": "python",
   "name": "python3"
  },
  "language_info": {
   "codemirror_mode": {
    "name": "ipython",
    "version": 3
   },
   "file_extension": ".py",
   "mimetype": "text/x-python",
   "name": "python",
   "nbconvert_exporter": "python",
   "pygments_lexer": "ipython3",
   "version": "3.10.13"
  }
 },
 "nbformat": 4,
 "nbformat_minor": 5
}
