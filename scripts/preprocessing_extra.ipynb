{
 "cells": [
  {
   "cell_type": "code",
   "execution_count": 3,
   "id": "8347e12b",
   "metadata": {},
   "outputs": [
    {
     "name": "stdout",
     "output_type": "stream",
     "text": [
      "✅ 저장 완료: ../data/processed/grid_features_extended.csv\n"
     ]
    }
   ],
   "source": [
    "import pandas as pd\n",
    "import os\n",
    "\n",
    "# 기본 설정\n",
    "DATA_DIR = \"../data/processed\"\n",
    "OUTPUT_PATH = os.path.join(DATA_DIR, \"grid_features_extended.csv\")\n",
    "\n",
    "# ① 기준 데이터\n",
    "df = pd.read_csv(os.path.join(DATA_DIR, \"demand_supply_analysis.csv\"))\n",
    "\n",
    "# ② 전기차 등록 수 (시군구/읍면동 → grid_id 매핑 불가 시 생략)\n",
    "# (※ 현재는 직접 매핑된 데이터 없으므로 보류 또는 추후 spatial join 필요)\n",
    "\n",
    "# ③ 공영주차장 수 (grid_id 기준)\n",
    "parking_df = pd.read_csv(os.path.join(DATA_DIR, \"charging_stations_seoul_gridded.csv\"))\n",
    "parking_count = (\n",
    "    parking_df[parking_df['시설구분(소)'] == \"공영주차장\"]\n",
    "    .groupby(\"grid_id\")\n",
    "    .size()\n",
    "    .reset_index(name=\"public_parking_count\")\n",
    ")\n",
    "\n",
    "df = df.merge(parking_count, on=\"grid_id\", how=\"left\")\n",
    "df[\"public_parking_count\"] = df[\"public_parking_count\"].fillna(0).astype(int)\n",
    "\n",
    "# ① 데이터 로드\n",
    "hourly_df = pd.read_csv(os.path.join(DATA_DIR, \"charging_hourly_processed.csv\"))\n",
    "\n",
    "# ② '정보없음' 필터링\n",
    "hourly_df = hourly_df[\n",
    "    (hourly_df['충전시작시간'] != '정보없음') &\n",
    "    (hourly_df['충전종료시간'] != '정보없음')\n",
    "]\n",
    "\n",
    "# ③ 문자열을 datetime으로 변환\n",
    "hourly_df['충전시작시간'] = pd.to_datetime(hourly_df['충전시작시간'], errors='coerce')\n",
    "hourly_df['충전종료시간'] = pd.to_datetime(hourly_df['충전종료시간'], errors='coerce')\n",
    "\n",
    "# ④ NaT가 된 행 제거\n",
    "hourly_df = hourly_df.dropna(subset=['충전시작시간', '충전종료시간'])\n",
    "\n",
    "# ⑤ 평균 시간당 충전량 계산\n",
    "hourly_df['duration_hours'] = (hourly_df['충전종료시간'] - hourly_df['충전시작시간']).dt.total_seconds() / 3600\n",
    "hourly_df = hourly_df[hourly_df['duration_hours'] > 0]  # 음수 제거\n",
    "hourly_df['charging_rate'] = hourly_df['충전량(kW)'] / hourly_df['duration_hours']\n",
    "avg_charging_rate = hourly_df['charging_rate'].mean()\n",
    "\n",
    "\n",
    "df[\"avg_hourly_load\"] = avg_charging_rate\n",
    "\n",
    "# 저장\n",
    "df.to_csv(OUTPUT_PATH, index=False)\n",
    "print(f\"✅ 저장 완료: {OUTPUT_PATH}\")"
   ]
  },
  {
   "cell_type": "code",
   "execution_count": null,
   "id": "65be8923",
   "metadata": {},
   "outputs": [],
   "source": []
  }
 ],
 "metadata": {
  "kernelspec": {
   "display_name": "25bigdata",
   "language": "python",
   "name": "python3"
  },
  "language_info": {
   "codemirror_mode": {
    "name": "ipython",
    "version": 3
   },
   "file_extension": ".py",
   "mimetype": "text/x-python",
   "name": "python",
   "nbconvert_exporter": "python",
   "pygments_lexer": "ipython3",
   "version": "3.10.13"
  }
 },
 "nbformat": 4,
 "nbformat_minor": 5
}
