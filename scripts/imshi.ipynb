{
 "cells": [
  {
   "cell_type": "code",
   "execution_count": 1,
   "id": "47e87bc5",
   "metadata": {},
   "outputs": [
    {
     "name": "stdout",
     "output_type": "stream",
     "text": [
      "✅ 결과가 저장되었습니다: ../data/processed/processed_files_summary.txt\n"
     ]
    }
   ],
   "source": [
    "import pandas as pd\n",
    "from pathlib import Path\n",
    "\n",
    "# 디렉토리 설정\n",
    "processed_dir = Path(\"../data/processed\")\n",
    "csv_files = list(processed_dir.glob(\"*.csv\"))\n",
    "\n",
    "# 저장할 텍스트 파일 경로\n",
    "output_txt = processed_dir / \"processed_files_summary.txt\"\n",
    "\n",
    "# 결과 기록\n",
    "with open(output_txt, \"w\", encoding=\"utf-8\") as f:\n",
    "    if not csv_files:\n",
    "        f.write(\"❌ CSV 파일이 없습니다.\\n\")\n",
    "    else:\n",
    "        for file_path in csv_files:\n",
    "            f.write(f\"\\n📁 파일명: {file_path.name}\\n\")\n",
    "            try:\n",
    "                df = pd.read_csv(file_path)\n",
    "                f.write(f\"🔢 shape: {df.shape}\\n\")\n",
    "                f.write(\"🔑 컬럼 목록:\\n\")\n",
    "                f.write(f\"{df.columns.tolist()}\\n\")\n",
    "                f.write(\"🧾 예시 5개:\\n\")\n",
    "                f.write(df.head().to_string(index=False))\n",
    "                f.write(\"\\n\" + \"-\"*60 + \"\\n\")\n",
    "            except Exception as e:\n",
    "                f.write(f\"❌ 파일 열기 실패: {e}\\n\")\n",
    "\n",
    "print(f\"✅ 결과가 저장되었습니다: {output_txt}\")"
   ]
  },
  {
   "cell_type": "code",
   "execution_count": 5,
   "id": "ac4b422a",
   "metadata": {},
   "outputs": [
    {
     "name": "stdout",
     "output_type": "stream",
     "text": [
      "Requirement already satisfied: xlrd in /opt/anaconda3/envs/25bigdata/lib/python3.10/site-packages (2.0.1)\n",
      "Requirement already satisfied: openpyxl in /opt/anaconda3/envs/25bigdata/lib/python3.10/site-packages (3.1.5)\n",
      "Requirement already satisfied: et-xmlfile in /opt/anaconda3/envs/25bigdata/lib/python3.10/site-packages (from openpyxl) (2.0.0)\n",
      "Requirement already satisfied: openpyxl in /opt/anaconda3/envs/25bigdata/lib/python3.10/site-packages (3.1.5)\n",
      "Requirement already satisfied: xlrd in /opt/anaconda3/envs/25bigdata/lib/python3.10/site-packages (2.0.1)\n",
      "Requirement already satisfied: et-xmlfile in /opt/anaconda3/envs/25bigdata/lib/python3.10/site-packages (from openpyxl) (2.0.0)\n"
     ]
    },
    {
     "name": "stderr",
     "output_type": "stream",
     "text": [
      "/var/folders/g0/wf5k560d45g5_rq_z1jbdpq40000gn/T/ipykernel_99136/2708452441.py:31: DtypeWarning: Columns (11) have mixed types. Specify dtype option on import or set low_memory=False.\n",
      "  df = pd.read_csv(file_path, encoding=\"cp949\")\n"
     ]
    },
    {
     "name": "stdout",
     "output_type": "stream",
     "text": [
      "✅ 결과가 저장되었습니다: ../data/raw/raw_files_summary.txt\n"
     ]
    }
   ],
   "source": [
    "# .xls 파일용\n",
    "!pip install xlrd\n",
    "# .xlsx 파일용\n",
    "!pip install openpyxl\n",
    "\n",
    "!pip install openpyxl xlrd\n",
    "\n",
    "\n",
    "import pandas as pd\n",
    "from pathlib import Path\n",
    "\n",
    "# 디렉토리 설정\n",
    "raw_dir = Path(\"../data/raw\")\n",
    "raw_files = list(raw_dir.glob(\"*.csv\")) + list(raw_dir.glob(\"*.xls\")) + list(raw_dir.glob(\"*.xlsx\"))\n",
    "\n",
    "# 저장할 텍스트 파일 경로\n",
    "output_txt = raw_dir / \"raw_files_summary.txt\"\n",
    "\n",
    "# 결과 기록\n",
    "with open(output_txt, \"w\", encoding=\"utf-8\") as f:\n",
    "    if not raw_files:\n",
    "        f.write(\"❌ 파일이 없습니다.\\n\")\n",
    "    else:\n",
    "        for file_path in raw_files:\n",
    "            f.write(f\"\\n📁 파일명: {file_path.name}\\n\")\n",
    "            try:\n",
    "                if file_path.suffix == \".csv\":\n",
    "                    try:\n",
    "                        df = pd.read_csv(file_path, encoding=\"utf-8\")\n",
    "                    except UnicodeDecodeError:\n",
    "                        df = pd.read_csv(file_path, encoding=\"cp949\")\n",
    "                elif file_path.suffix == \".xls\":\n",
    "                    df = pd.read_excel(file_path, engine=\"xlrd\")\n",
    "                elif file_path.suffix == \".xlsx\":\n",
    "                    df = pd.read_excel(file_path, engine=\"openpyxl\")\n",
    "                else:\n",
    "                    f.write(\"❌ 지원하지 않는 파일 형식입니다.\\n\")\n",
    "                    continue\n",
    "\n",
    "                f.write(f\"🔢 shape: {df.shape}\\n\")\n",
    "                f.write(\"🔑 컬럼 목록:\\n\")\n",
    "                f.write(f\"{df.columns.tolist()}\\n\")\n",
    "                f.write(\"🧾 예시 5개:\\n\")\n",
    "                f.write(df.head().to_string(index=False))\n",
    "                f.write(\"\\n\" + \"-\"*60 + \"\\n\")\n",
    "\n",
    "            except Exception as e:\n",
    "                f.write(f\"❌ 파일 열기 실패: {e}\\n\")\n",
    "\n",
    "print(f\"✅ 결과가 저장되었습니다: {output_txt}\")\n"
   ]
  },
  {
   "cell_type": "code",
   "execution_count": 2,
   "id": "818184b5",
   "metadata": {},
   "outputs": [
    {
     "name": "stderr",
     "output_type": "stream",
     "text": [
      "/var/folders/g0/wf5k560d45g5_rq_z1jbdpq40000gn/T/ipykernel_194/1158136360.py:6: DtypeWarning: Columns (11) have mixed types. Specify dtype option on import or set low_memory=False.\n",
      "  env_station = pd.read_csv(\n",
      "100%|██████████| 56351/56351 [00:08<00:00, 6665.49it/s]\n"
     ]
    },
    {
     "name": "stdout",
     "output_type": "stream",
     "text": [
      "✅ 저장 완료: ../data/processed/charging_stations_seoul_gridded.csv\n"
     ]
    }
   ],
   "source": [
    "import pandas as pd\n",
    "import numpy as np\n",
    "from tqdm import tqdm\n",
    "\n",
    "# 📂 데이터 로드\n",
    "env_station = pd.read_csv(\n",
    "    \"../data/raw/한국환경공단_전기차 충전소 위치 및 운영정보(충전소 ID 포함)_20230531.csv\",\n",
    "    encoding='cp949'  # 또는 'euc-kr'\n",
    ")\n",
    "grid = pd.read_csv(\"../data/processed/grid_system_processed.csv\")\n",
    "\n",
    "tqdm.pandas()\n",
    "\n",
    "# ✅ 1. 결측치 제거 (주소, 위도경도 등 필수 정보 기준)\n",
    "env_station = env_station.dropna(subset=[\"주소\", \"위도경도\"])\n",
    "\n",
    "# ✅ 2. '서울특별시' 데이터만 필터링\n",
    "env_station = env_station[env_station[\"시도\"] == \"서울특별시\"].copy()\n",
    "\n",
    "# ✅ 3. 위도/경도 분리\n",
    "env_station[['위도', '경도']] = env_station[\"위도경도\"].str.split(\",\", expand=True).astype(float)\n",
    "\n",
    "# ✅ 4. 가장 가까운 격자 grid_id 반환 함수 정의\n",
    "def find_nearest_grid(lat, lon):\n",
    "    dists = ((grid['center_lat'] - lat) ** 2 + (grid['center_lon'] - lon) ** 2)\n",
    "    return grid.loc[dists.idxmin(), 'grid_id']\n",
    "\n",
    "# ✅ 5. tqdm 적용하여 격자 매핑 수행\n",
    "env_station['grid_id'] = env_station.progress_apply(\n",
    "    lambda row: find_nearest_grid(row['위도'], row['경도']),\n",
    "    axis=1\n",
    ")\n",
    "\n",
    "# ✅ 6. 필요한 컬럼만 정제\n",
    "processed = env_station[[\n",
    "    '설치년도', '시도', '군구', '주소', '충전소명',\n",
    "    '시설구분(대)', '시설구분(소)', '기종(대)', '기종(소)',\n",
    "    '운영기관(대)', '운영기관(소)', '충전기타입',\n",
    "    '이용자제한', '위도', '경도', 'grid_id'\n",
    "]].copy()\n",
    "\n",
    "# ✅ 7. 결과 저장\n",
    "output_path = \"../data/processed/charging_stations_seoul_gridded.csv\"\n",
    "processed.to_csv(output_path, index=False)\n",
    "print(f\"✅ 저장 완료: {output_path}\")"
   ]
  },
  {
   "cell_type": "code",
   "execution_count": null,
   "id": "0bdab4e7",
   "metadata": {},
   "outputs": [],
   "source": []
  }
 ],
 "metadata": {
  "kernelspec": {
   "display_name": "25bigdata",
   "language": "python",
   "name": "python3"
  },
  "language_info": {
   "codemirror_mode": {
    "name": "ipython",
    "version": 3
   },
   "file_extension": ".py",
   "mimetype": "text/x-python",
   "name": "python",
   "nbconvert_exporter": "python",
   "pygments_lexer": "ipython3",
   "version": "3.10.13"
  }
 },
 "nbformat": 4,
 "nbformat_minor": 5
}
