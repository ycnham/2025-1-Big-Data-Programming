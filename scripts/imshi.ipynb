{
 "cells": [
  {
   "cell_type": "code",
   "execution_count": 1,
   "id": "47e87bc5",
   "metadata": {},
   "outputs": [
    {
     "name": "stdout",
     "output_type": "stream",
     "text": [
      "✅ 결과가 저장되었습니다: ../data/processed/processed_files_summary.txt\n"
     ]
    }
   ],
   "source": [
    "import pandas as pd\n",
    "from pathlib import Path\n",
    "\n",
    "# 디렉토리 설정\n",
    "processed_dir = Path(\"../data/processed\")\n",
    "csv_files = list(processed_dir.glob(\"*.csv\"))\n",
    "\n",
    "# 저장할 텍스트 파일 경로\n",
    "output_txt = processed_dir / \"processed_files_summary.txt\"\n",
    "\n",
    "# 결과 기록\n",
    "with open(output_txt, \"w\", encoding=\"utf-8\") as f:\n",
    "    if not csv_files:\n",
    "        f.write(\"❌ CSV 파일이 없습니다.\\n\")\n",
    "    else:\n",
    "        for file_path in csv_files:\n",
    "            f.write(f\"\\n📁 파일명: {file_path.name}\\n\")\n",
    "            try:\n",
    "                df = pd.read_csv(file_path)\n",
    "                f.write(f\"🔢 shape: {df.shape}\\n\")\n",
    "                f.write(\"🔑 컬럼 목록:\\n\")\n",
    "                f.write(f\"{df.columns.tolist()}\\n\")\n",
    "                f.write(\"🧾 예시 5개:\\n\")\n",
    "                f.write(df.head().to_string(index=False))\n",
    "                f.write(\"\\n\" + \"-\"*60 + \"\\n\")\n",
    "            except Exception as e:\n",
    "                f.write(f\"❌ 파일 열기 실패: {e}\\n\")\n",
    "\n",
    "print(f\"✅ 결과가 저장되었습니다: {output_txt}\")"
   ]
  },
  {
   "cell_type": "code",
   "execution_count": 5,
   "id": "ac4b422a",
   "metadata": {},
   "outputs": [
    {
     "name": "stdout",
     "output_type": "stream",
     "text": [
      "Requirement already satisfied: xlrd in /opt/anaconda3/envs/25bigdata/lib/python3.10/site-packages (2.0.1)\n",
      "Requirement already satisfied: openpyxl in /opt/anaconda3/envs/25bigdata/lib/python3.10/site-packages (3.1.5)\n",
      "Requirement already satisfied: et-xmlfile in /opt/anaconda3/envs/25bigdata/lib/python3.10/site-packages (from openpyxl) (2.0.0)\n",
      "Requirement already satisfied: openpyxl in /opt/anaconda3/envs/25bigdata/lib/python3.10/site-packages (3.1.5)\n",
      "Requirement already satisfied: xlrd in /opt/anaconda3/envs/25bigdata/lib/python3.10/site-packages (2.0.1)\n",
      "Requirement already satisfied: et-xmlfile in /opt/anaconda3/envs/25bigdata/lib/python3.10/site-packages (from openpyxl) (2.0.0)\n"
     ]
    },
    {
     "name": "stderr",
     "output_type": "stream",
     "text": [
      "/var/folders/g0/wf5k560d45g5_rq_z1jbdpq40000gn/T/ipykernel_99136/2708452441.py:31: DtypeWarning: Columns (11) have mixed types. Specify dtype option on import or set low_memory=False.\n",
      "  df = pd.read_csv(file_path, encoding=\"cp949\")\n"
     ]
    },
    {
     "name": "stdout",
     "output_type": "stream",
     "text": [
      "✅ 결과가 저장되었습니다: ../data/raw/raw_files_summary.txt\n"
     ]
    }
   ],
   "source": [
    "# .xls 파일용\n",
    "!pip install xlrd\n",
    "# .xlsx 파일용\n",
    "!pip install openpyxl\n",
    "\n",
    "!pip install openpyxl xlrd\n",
    "\n",
    "\n",
    "import pandas as pd\n",
    "from pathlib import Path\n",
    "\n",
    "# 디렉토리 설정\n",
    "raw_dir = Path(\"../data/raw\")\n",
    "raw_files = list(raw_dir.glob(\"*.csv\")) + list(raw_dir.glob(\"*.xls\")) + list(raw_dir.glob(\"*.xlsx\"))\n",
    "\n",
    "# 저장할 텍스트 파일 경로\n",
    "output_txt = raw_dir / \"raw_files_summary.txt\"\n",
    "\n",
    "# 결과 기록\n",
    "with open(output_txt, \"w\", encoding=\"utf-8\") as f:\n",
    "    if not raw_files:\n",
    "        f.write(\"❌ 파일이 없습니다.\\n\")\n",
    "    else:\n",
    "        for file_path in raw_files:\n",
    "            f.write(f\"\\n📁 파일명: {file_path.name}\\n\")\n",
    "            try:\n",
    "                if file_path.suffix == \".csv\":\n",
    "                    try:\n",
    "                        df = pd.read_csv(file_path, encoding=\"utf-8\")\n",
    "                    except UnicodeDecodeError:\n",
    "                        df = pd.read_csv(file_path, encoding=\"cp949\")\n",
    "                elif file_path.suffix == \".xls\":\n",
    "                    df = pd.read_excel(file_path, engine=\"xlrd\")\n",
    "                elif file_path.suffix == \".xlsx\":\n",
    "                    df = pd.read_excel(file_path, engine=\"openpyxl\")\n",
    "                else:\n",
    "                    f.write(\"❌ 지원하지 않는 파일 형식입니다.\\n\")\n",
    "                    continue\n",
    "\n",
    "                f.write(f\"🔢 shape: {df.shape}\\n\")\n",
    "                f.write(\"🔑 컬럼 목록:\\n\")\n",
    "                f.write(f\"{df.columns.tolist()}\\n\")\n",
    "                f.write(\"🧾 예시 5개:\\n\")\n",
    "                f.write(df.head().to_string(index=False))\n",
    "                f.write(\"\\n\" + \"-\"*60 + \"\\n\")\n",
    "\n",
    "            except Exception as e:\n",
    "                f.write(f\"❌ 파일 열기 실패: {e}\\n\")\n",
    "\n",
    "print(f\"✅ 결과가 저장되었습니다: {output_txt}\")\n"
   ]
  },
  {
   "cell_type": "code",
   "execution_count": 1,
   "id": "818184b5",
   "metadata": {},
   "outputs": [
    {
     "name": "stderr",
     "output_type": "stream",
     "text": [
      "/var/folders/g0/wf5k560d45g5_rq_z1jbdpq40000gn/T/ipykernel_71035/1158136360.py:6: DtypeWarning: Columns (11) have mixed types. Specify dtype option on import or set low_memory=False.\n",
      "  env_station = pd.read_csv(\n",
      "100%|██████████| 56351/56351 [00:09<00:00, 6170.53it/s]\n"
     ]
    },
    {
     "name": "stdout",
     "output_type": "stream",
     "text": [
      "✅ 저장 완료: ../data/processed/charging_stations_seoul_gridded.csv\n"
     ]
    }
   ],
   "source": [
    "import pandas as pd\n",
    "import numpy as np\n",
    "from tqdm import tqdm\n",
    "\n",
    "# 📂 데이터 로드\n",
    "env_station = pd.read_csv(\n",
    "    \"../data/raw/한국환경공단_전기차 충전소 위치 및 운영정보(충전소 ID 포함)_20230531.csv\",\n",
    "    encoding='cp949'  # 또는 'euc-kr'\n",
    ")\n",
    "grid = pd.read_csv(\"../data/processed/grid_system_processed.csv\")\n",
    "\n",
    "tqdm.pandas()\n",
    "\n",
    "# ✅ 1. 결측치 제거 (주소, 위도경도 등 필수 정보 기준)\n",
    "env_station = env_station.dropna(subset=[\"주소\", \"위도경도\"])\n",
    "\n",
    "# ✅ 2. '서울특별시' 데이터만 필터링\n",
    "env_station = env_station[env_station[\"시도\"] == \"서울특별시\"].copy()\n",
    "\n",
    "# ✅ 3. 위도/경도 분리\n",
    "env_station[['위도', '경도']] = env_station[\"위도경도\"].str.split(\",\", expand=True).astype(float)\n",
    "\n",
    "# ✅ 4. 가장 가까운 격자 grid_id 반환 함수 정의\n",
    "def find_nearest_grid(lat, lon):\n",
    "    dists = ((grid['center_lat'] - lat) ** 2 + (grid['center_lon'] - lon) ** 2)\n",
    "    return grid.loc[dists.idxmin(), 'grid_id']\n",
    "\n",
    "# ✅ 5. tqdm 적용하여 격자 매핑 수행\n",
    "env_station['grid_id'] = env_station.progress_apply(\n",
    "    lambda row: find_nearest_grid(row['위도'], row['경도']),\n",
    "    axis=1\n",
    ")\n",
    "\n",
    "# ✅ 6. 필요한 컬럼만 정제\n",
    "processed = env_station[[\n",
    "    '설치년도', '시도', '군구', '주소', '충전소명',\n",
    "    '시설구분(대)', '시설구분(소)', '기종(대)', '기종(소)',\n",
    "    '운영기관(대)', '운영기관(소)', '충전기타입',\n",
    "    '이용자제한', '위도', '경도', 'grid_id'\n",
    "]].copy()\n",
    "\n",
    "# ✅ 7. 결과 저장\n",
    "output_path = \"../data/processed/charging_stations_seoul_gridded.csv\"\n",
    "processed.to_csv(output_path, index=False)\n",
    "print(f\"✅ 저장 완료: {output_path}\")"
   ]
  },
  {
   "cell_type": "code",
   "execution_count": 2,
   "id": "0bdab4e7",
   "metadata": {},
   "outputs": [
    {
     "name": "stdout",
     "output_type": "stream",
     "text": [
      "📈 불균형 점수 요약:\n",
      "count    6030.000000\n",
      "mean        1.931382\n",
      "std         6.249614\n",
      "min         0.000000\n",
      "25%         0.000000\n",
      "50%         0.000000\n",
      "75%         0.466189\n",
      "max       117.706487\n",
      "Name: imbalance_score, dtype: float64\n"
     ]
    },
    {
     "name": "stderr",
     "output_type": "stream",
     "text": [
      "/var/folders/g0/wf5k560d45g5_rq_z1jbdpq40000gn/T/ipykernel_1785/3208051797.py:30: UserWarning: Glyph 48712 (\\N{HANGUL SYLLABLE BIN}) missing from font(s) DejaVu Sans.\n",
      "  plt.tight_layout()\n",
      "/var/folders/g0/wf5k560d45g5_rq_z1jbdpq40000gn/T/ipykernel_1785/3208051797.py:30: UserWarning: Glyph 46020 (\\N{HANGUL SYLLABLE DO}) missing from font(s) DejaVu Sans.\n",
      "  plt.tight_layout()\n",
      "/var/folders/g0/wf5k560d45g5_rq_z1jbdpq40000gn/T/ipykernel_1785/3208051797.py:30: UserWarning: Glyph 49688 (\\N{HANGUL SYLLABLE SU}) missing from font(s) DejaVu Sans.\n",
      "  plt.tight_layout()\n",
      "/var/folders/g0/wf5k560d45g5_rq_z1jbdpq40000gn/T/ipykernel_1785/3208051797.py:30: UserWarning: Glyph 50836 (\\N{HANGUL SYLLABLE YO}) missing from font(s) DejaVu Sans.\n",
      "  plt.tight_layout()\n",
      "/var/folders/g0/wf5k560d45g5_rq_z1jbdpq40000gn/T/ipykernel_1785/3208051797.py:30: UserWarning: Glyph 44277 (\\N{HANGUL SYLLABLE GONG}) missing from font(s) DejaVu Sans.\n",
      "  plt.tight_layout()\n",
      "/var/folders/g0/wf5k560d45g5_rq_z1jbdpq40000gn/T/ipykernel_1785/3208051797.py:30: UserWarning: Glyph 44553 (\\N{HANGUL SYLLABLE GEUB}) missing from font(s) DejaVu Sans.\n",
      "  plt.tight_layout()\n",
      "/var/folders/g0/wf5k560d45g5_rq_z1jbdpq40000gn/T/ipykernel_1785/3208051797.py:30: UserWarning: Glyph 48520 (\\N{HANGUL SYLLABLE BUL}) missing from font(s) DejaVu Sans.\n",
      "  plt.tight_layout()\n",
      "/var/folders/g0/wf5k560d45g5_rq_z1jbdpq40000gn/T/ipykernel_1785/3208051797.py:30: UserWarning: Glyph 44512 (\\N{HANGUL SYLLABLE GYUN}) missing from font(s) DejaVu Sans.\n",
      "  plt.tight_layout()\n",
      "/var/folders/g0/wf5k560d45g5_rq_z1jbdpq40000gn/T/ipykernel_1785/3208051797.py:30: UserWarning: Glyph 54805 (\\N{HANGUL SYLLABLE HYEONG}) missing from font(s) DejaVu Sans.\n",
      "  plt.tight_layout()\n",
      "/var/folders/g0/wf5k560d45g5_rq_z1jbdpq40000gn/T/ipykernel_1785/3208051797.py:30: UserWarning: Glyph 51216 (\\N{HANGUL SYLLABLE JEOM}) missing from font(s) DejaVu Sans.\n",
      "  plt.tight_layout()\n",
      "/var/folders/g0/wf5k560d45g5_rq_z1jbdpq40000gn/T/ipykernel_1785/3208051797.py:30: UserWarning: Glyph 48516 (\\N{HANGUL SYLLABLE BUN}) missing from font(s) DejaVu Sans.\n",
      "  plt.tight_layout()\n",
      "/var/folders/g0/wf5k560d45g5_rq_z1jbdpq40000gn/T/ipykernel_1785/3208051797.py:30: UserWarning: Glyph 54252 (\\N{HANGUL SYLLABLE PO}) missing from font(s) DejaVu Sans.\n",
      "  plt.tight_layout()\n",
      "/var/folders/g0/wf5k560d45g5_rq_z1jbdpq40000gn/T/ipykernel_1785/3208051797.py:30: UserWarning: Glyph 55176 (\\N{HANGUL SYLLABLE HI}) missing from font(s) DejaVu Sans.\n",
      "  plt.tight_layout()\n",
      "/var/folders/g0/wf5k560d45g5_rq_z1jbdpq40000gn/T/ipykernel_1785/3208051797.py:30: UserWarning: Glyph 49828 (\\N{HANGUL SYLLABLE SEU}) missing from font(s) DejaVu Sans.\n",
      "  plt.tight_layout()\n",
      "/var/folders/g0/wf5k560d45g5_rq_z1jbdpq40000gn/T/ipykernel_1785/3208051797.py:30: UserWarning: Glyph 53664 (\\N{HANGUL SYLLABLE TO}) missing from font(s) DejaVu Sans.\n",
      "  plt.tight_layout()\n",
      "/var/folders/g0/wf5k560d45g5_rq_z1jbdpq40000gn/T/ipykernel_1785/3208051797.py:30: UserWarning: Glyph 44536 (\\N{HANGUL SYLLABLE GEU}) missing from font(s) DejaVu Sans.\n",
      "  plt.tight_layout()\n",
      "/var/folders/g0/wf5k560d45g5_rq_z1jbdpq40000gn/T/ipykernel_1785/3208051797.py:30: UserWarning: Glyph 47016 (\\N{HANGUL SYLLABLE RAEM}) missing from font(s) DejaVu Sans.\n",
      "  plt.tight_layout()\n",
      "/var/folders/g0/wf5k560d45g5_rq_z1jbdpq40000gn/T/ipykernel_1785/3208051797.py:30: UserWarning: Glyph 48149 (\\N{HANGUL SYLLABLE BAG}) missing from font(s) DejaVu Sans.\n",
      "  plt.tight_layout()\n",
      "/var/folders/g0/wf5k560d45g5_rq_z1jbdpq40000gn/T/ipykernel_1785/3208051797.py:30: UserWarning: Glyph 54540 (\\N{HANGUL SYLLABLE PEUL}) missing from font(s) DejaVu Sans.\n",
      "  plt.tight_layout()\n",
      "/var/folders/g0/wf5k560d45g5_rq_z1jbdpq40000gn/T/ipykernel_1785/3208051797.py:30: UserWarning: Glyph 47215 (\\N{HANGUL SYLLABLE ROS}) missing from font(s) DejaVu Sans.\n",
      "  plt.tight_layout()\n",
      "/opt/anaconda3/envs/25bigdata/lib/python3.10/site-packages/IPython/core/pylabtools.py:170: UserWarning: Glyph 48712 (\\N{HANGUL SYLLABLE BIN}) missing from font(s) DejaVu Sans.\n",
      "  fig.canvas.print_figure(bytes_io, **kw)\n",
      "/opt/anaconda3/envs/25bigdata/lib/python3.10/site-packages/IPython/core/pylabtools.py:170: UserWarning: Glyph 46020 (\\N{HANGUL SYLLABLE DO}) missing from font(s) DejaVu Sans.\n",
      "  fig.canvas.print_figure(bytes_io, **kw)\n",
      "/opt/anaconda3/envs/25bigdata/lib/python3.10/site-packages/IPython/core/pylabtools.py:170: UserWarning: Glyph 49688 (\\N{HANGUL SYLLABLE SU}) missing from font(s) DejaVu Sans.\n",
      "  fig.canvas.print_figure(bytes_io, **kw)\n",
      "/opt/anaconda3/envs/25bigdata/lib/python3.10/site-packages/IPython/core/pylabtools.py:170: UserWarning: Glyph 50836 (\\N{HANGUL SYLLABLE YO}) missing from font(s) DejaVu Sans.\n",
      "  fig.canvas.print_figure(bytes_io, **kw)\n",
      "/opt/anaconda3/envs/25bigdata/lib/python3.10/site-packages/IPython/core/pylabtools.py:170: UserWarning: Glyph 44277 (\\N{HANGUL SYLLABLE GONG}) missing from font(s) DejaVu Sans.\n",
      "  fig.canvas.print_figure(bytes_io, **kw)\n",
      "/opt/anaconda3/envs/25bigdata/lib/python3.10/site-packages/IPython/core/pylabtools.py:170: UserWarning: Glyph 44553 (\\N{HANGUL SYLLABLE GEUB}) missing from font(s) DejaVu Sans.\n",
      "  fig.canvas.print_figure(bytes_io, **kw)\n",
      "/opt/anaconda3/envs/25bigdata/lib/python3.10/site-packages/IPython/core/pylabtools.py:170: UserWarning: Glyph 48520 (\\N{HANGUL SYLLABLE BUL}) missing from font(s) DejaVu Sans.\n",
      "  fig.canvas.print_figure(bytes_io, **kw)\n",
      "/opt/anaconda3/envs/25bigdata/lib/python3.10/site-packages/IPython/core/pylabtools.py:170: UserWarning: Glyph 44512 (\\N{HANGUL SYLLABLE GYUN}) missing from font(s) DejaVu Sans.\n",
      "  fig.canvas.print_figure(bytes_io, **kw)\n",
      "/opt/anaconda3/envs/25bigdata/lib/python3.10/site-packages/IPython/core/pylabtools.py:170: UserWarning: Glyph 54805 (\\N{HANGUL SYLLABLE HYEONG}) missing from font(s) DejaVu Sans.\n",
      "  fig.canvas.print_figure(bytes_io, **kw)\n",
      "/opt/anaconda3/envs/25bigdata/lib/python3.10/site-packages/IPython/core/pylabtools.py:170: UserWarning: Glyph 51216 (\\N{HANGUL SYLLABLE JEOM}) missing from font(s) DejaVu Sans.\n",
      "  fig.canvas.print_figure(bytes_io, **kw)\n",
      "/opt/anaconda3/envs/25bigdata/lib/python3.10/site-packages/IPython/core/pylabtools.py:170: UserWarning: Glyph 48516 (\\N{HANGUL SYLLABLE BUN}) missing from font(s) DejaVu Sans.\n",
      "  fig.canvas.print_figure(bytes_io, **kw)\n",
      "/opt/anaconda3/envs/25bigdata/lib/python3.10/site-packages/IPython/core/pylabtools.py:170: UserWarning: Glyph 54252 (\\N{HANGUL SYLLABLE PO}) missing from font(s) DejaVu Sans.\n",
      "  fig.canvas.print_figure(bytes_io, **kw)\n",
      "/opt/anaconda3/envs/25bigdata/lib/python3.10/site-packages/IPython/core/pylabtools.py:170: UserWarning: Glyph 55176 (\\N{HANGUL SYLLABLE HI}) missing from font(s) DejaVu Sans.\n",
      "  fig.canvas.print_figure(bytes_io, **kw)\n",
      "/opt/anaconda3/envs/25bigdata/lib/python3.10/site-packages/IPython/core/pylabtools.py:170: UserWarning: Glyph 49828 (\\N{HANGUL SYLLABLE SEU}) missing from font(s) DejaVu Sans.\n",
      "  fig.canvas.print_figure(bytes_io, **kw)\n",
      "/opt/anaconda3/envs/25bigdata/lib/python3.10/site-packages/IPython/core/pylabtools.py:170: UserWarning: Glyph 53664 (\\N{HANGUL SYLLABLE TO}) missing from font(s) DejaVu Sans.\n",
      "  fig.canvas.print_figure(bytes_io, **kw)\n",
      "/opt/anaconda3/envs/25bigdata/lib/python3.10/site-packages/IPython/core/pylabtools.py:170: UserWarning: Glyph 44536 (\\N{HANGUL SYLLABLE GEU}) missing from font(s) DejaVu Sans.\n",
      "  fig.canvas.print_figure(bytes_io, **kw)\n",
      "/opt/anaconda3/envs/25bigdata/lib/python3.10/site-packages/IPython/core/pylabtools.py:170: UserWarning: Glyph 47016 (\\N{HANGUL SYLLABLE RAEM}) missing from font(s) DejaVu Sans.\n",
      "  fig.canvas.print_figure(bytes_io, **kw)\n",
      "/opt/anaconda3/envs/25bigdata/lib/python3.10/site-packages/IPython/core/pylabtools.py:170: UserWarning: Glyph 48149 (\\N{HANGUL SYLLABLE BAG}) missing from font(s) DejaVu Sans.\n",
      "  fig.canvas.print_figure(bytes_io, **kw)\n",
      "/opt/anaconda3/envs/25bigdata/lib/python3.10/site-packages/IPython/core/pylabtools.py:170: UserWarning: Glyph 54540 (\\N{HANGUL SYLLABLE PEUL}) missing from font(s) DejaVu Sans.\n",
      "  fig.canvas.print_figure(bytes_io, **kw)\n",
      "/opt/anaconda3/envs/25bigdata/lib/python3.10/site-packages/IPython/core/pylabtools.py:170: UserWarning: Glyph 47215 (\\N{HANGUL SYLLABLE ROS}) missing from font(s) DejaVu Sans.\n",
      "  fig.canvas.print_figure(bytes_io, **kw)\n"
     ]
    },
    {
     "data": {
      "image/png": "[encoded data removed]",
      "text/plain": [
       "<Figure size 1200x500 with 2 Axes>"
      ]
     },
     "metadata": {},
     "output_type": "display_data"
    }
   ],
   "source": [
    "import pandas as pd\n",
    "import matplotlib.pyplot as plt\n",
    "import seaborn as sns\n",
    "\n",
    "# 📂 파일 경로\n",
    "file_path = \"../data/processed/demand_supply_analysis.csv\"\n",
    "\n",
    "# 📊 데이터 로드\n",
    "df = pd.read_csv(file_path)\n",
    "\n",
    "# ✅ imbalance_score 기본 통계 출력\n",
    "print(\"📈 불균형 점수 요약:\")\n",
    "print(df[\"imbalance_score\"].describe())\n",
    "\n",
    "# ✅ 시각화 설정\n",
    "plt.figure(figsize=(12, 5))\n",
    "\n",
    "# 🔹 히스토그램\n",
    "plt.subplot(1, 2, 1)\n",
    "sns.histplot(df[\"imbalance_score\"], bins=50, kde=True, color=\"steelblue\")\n",
    "plt.title(\"수요-공급 불균형 점수 분포 (히스토그램)\")\n",
    "plt.xlabel(\"imbalance_score\")\n",
    "plt.ylabel(\"빈도수\")\n",
    "\n",
    "# 🔸 박스플롯\n",
    "plt.subplot(1, 2, 2)\n",
    "sns.boxplot(x=df[\"imbalance_score\"], color=\"coral\")\n",
    "plt.title(\"수요-공급 불균형 점수 분포 (박스플롯)\")\n",
    "\n",
    "plt.tight_layout()\n",
    "plt.show()"
   ]
  },
  {
   "cell_type": "code",
   "execution_count": null,
   "id": "b686a20a",
   "metadata": {},
   "outputs": [],
   "source": [
    "grid_df = pd.read_csv(\"../data/processed/grid_system_processed.csv\")\n",
    "import pandas as pd\n",
    "\n",
    "# 데이터 로드\n",
    "stations_all = pd.read_csv(\"../data/processed/charging_stations_processed.csv\")\n",
    "\n",
    "# 서울시만 필터링\n",
    "stations_seoul = stations_all[stations_all[\"시도\"] == \"서울특별시\"].copy()\n"
   ]
  },
  {
   "cell_type": "code",
   "execution_count": 4,
   "id": "53f531e6",
   "metadata": {},
   "outputs": [
    {
     "ename": "KeyError",
     "evalue": "'위도'",
     "output_type": "error",
     "traceback": [
      "\u001b[0;31m---------------------------------------------------------------------------\u001b[0m",
      "\u001b[0;31mKeyError\u001b[0m                                  Traceback (most recent call last)",
      "File \u001b[0;32m/opt/anaconda3/envs/25bigdata/lib/python3.10/site-packages/pandas/core/indexes/base.py:3805\u001b[0m, in \u001b[0;36mIndex.get_loc\u001b[0;34m(self, key)\u001b[0m\n\u001b[1;32m   3804\u001b[0m \u001b[38;5;28;01mtry\u001b[39;00m:\n\u001b[0;32m-> 3805\u001b[0m     \u001b[38;5;28;01mreturn\u001b[39;00m \u001b[38;5;28;43mself\u001b[39;49m\u001b[38;5;241;43m.\u001b[39;49m\u001b[43m_engine\u001b[49m\u001b[38;5;241;43m.\u001b[39;49m\u001b[43mget_loc\u001b[49m\u001b[43m(\u001b[49m\u001b[43mcasted_key\u001b[49m\u001b[43m)\u001b[49m\n\u001b[1;32m   3806\u001b[0m \u001b[38;5;28;01mexcept\u001b[39;00m \u001b[38;5;167;01mKeyError\u001b[39;00m \u001b[38;5;28;01mas\u001b[39;00m err:\n",
      "File \u001b[0;32mindex.pyx:167\u001b[0m, in \u001b[0;36mpandas._libs.index.IndexEngine.get_loc\u001b[0;34m()\u001b[0m\n",
      "File \u001b[0;32mindex.pyx:196\u001b[0m, in \u001b[0;36mpandas._libs.index.IndexEngine.get_loc\u001b[0;34m()\u001b[0m\n",
      "File \u001b[0;32mpandas/_libs/hashtable_class_helper.pxi:7081\u001b[0m, in \u001b[0;36mpandas._libs.hashtable.PyObjectHashTable.get_item\u001b[0;34m()\u001b[0m\n",
      "File \u001b[0;32mpandas/_libs/hashtable_class_helper.pxi:7089\u001b[0m, in \u001b[0;36mpandas._libs.hashtable.PyObjectHashTable.get_item\u001b[0;34m()\u001b[0m\n",
      "\u001b[0;31mKeyError\u001b[0m: '위도'",
      "\nThe above exception was the direct cause of the following exception:\n",
      "\u001b[0;31mKeyError\u001b[0m                                  Traceback (most recent call last)",
      "Cell \u001b[0;32mIn[4], line 10\u001b[0m\n\u001b[1;32m      7\u001b[0m     \u001b[38;5;28;01mreturn\u001b[39;00m \u001b[38;5;28;01mNone\u001b[39;00m  \u001b[38;5;66;03m# 매칭 안 되는 경우\u001b[39;00m\n\u001b[1;32m      9\u001b[0m stations \u001b[38;5;241m=\u001b[39m pd\u001b[38;5;241m.\u001b[39mread_csv(\u001b[38;5;124m\"\u001b[39m\u001b[38;5;124m../data/processed/charging_stations_processed.csv\u001b[39m\u001b[38;5;124m\"\u001b[39m)\n\u001b[0;32m---> 10\u001b[0m stations[\u001b[38;5;124m'\u001b[39m\u001b[38;5;124m위도\u001b[39m\u001b[38;5;124m'\u001b[39m] \u001b[38;5;241m=\u001b[39m pd\u001b[38;5;241m.\u001b[39mto_numeric(\u001b[43mstations\u001b[49m\u001b[43m[\u001b[49m\u001b[38;5;124;43m'\u001b[39;49m\u001b[38;5;124;43m위도\u001b[39;49m\u001b[38;5;124;43m'\u001b[39;49m\u001b[43m]\u001b[49m, errors\u001b[38;5;241m=\u001b[39m\u001b[38;5;124m'\u001b[39m\u001b[38;5;124mcoerce\u001b[39m\u001b[38;5;124m'\u001b[39m)\n\u001b[1;32m     11\u001b[0m stations[\u001b[38;5;124m'\u001b[39m\u001b[38;5;124m경도\u001b[39m\u001b[38;5;124m'\u001b[39m] \u001b[38;5;241m=\u001b[39m pd\u001b[38;5;241m.\u001b[39mto_numeric(stations[\u001b[38;5;124m'\u001b[39m\u001b[38;5;124m경도\u001b[39m\u001b[38;5;124m'\u001b[39m], errors\u001b[38;5;241m=\u001b[39m\u001b[38;5;124m'\u001b[39m\u001b[38;5;124mcoerce\u001b[39m\u001b[38;5;124m'\u001b[39m)\n\u001b[1;32m     13\u001b[0m tqdm\u001b[38;5;241m.\u001b[39mpandas()\n",
      "File \u001b[0;32m/opt/anaconda3/envs/25bigdata/lib/python3.10/site-packages/pandas/core/frame.py:4102\u001b[0m, in \u001b[0;36mDataFrame.__getitem__\u001b[0;34m(self, key)\u001b[0m\n\u001b[1;32m   4100\u001b[0m \u001b[38;5;28;01mif\u001b[39;00m \u001b[38;5;28mself\u001b[39m\u001b[38;5;241m.\u001b[39mcolumns\u001b[38;5;241m.\u001b[39mnlevels \u001b[38;5;241m>\u001b[39m \u001b[38;5;241m1\u001b[39m:\n\u001b[1;32m   4101\u001b[0m     \u001b[38;5;28;01mreturn\u001b[39;00m \u001b[38;5;28mself\u001b[39m\u001b[38;5;241m.\u001b[39m_getitem_multilevel(key)\n\u001b[0;32m-> 4102\u001b[0m indexer \u001b[38;5;241m=\u001b[39m \u001b[38;5;28;43mself\u001b[39;49m\u001b[38;5;241;43m.\u001b[39;49m\u001b[43mcolumns\u001b[49m\u001b[38;5;241;43m.\u001b[39;49m\u001b[43mget_loc\u001b[49m\u001b[43m(\u001b[49m\u001b[43mkey\u001b[49m\u001b[43m)\u001b[49m\n\u001b[1;32m   4103\u001b[0m \u001b[38;5;28;01mif\u001b[39;00m is_integer(indexer):\n\u001b[1;32m   4104\u001b[0m     indexer \u001b[38;5;241m=\u001b[39m [indexer]\n",
      "File \u001b[0;32m/opt/anaconda3/envs/25bigdata/lib/python3.10/site-packages/pandas/core/indexes/base.py:3812\u001b[0m, in \u001b[0;36mIndex.get_loc\u001b[0;34m(self, key)\u001b[0m\n\u001b[1;32m   3807\u001b[0m     \u001b[38;5;28;01mif\u001b[39;00m \u001b[38;5;28misinstance\u001b[39m(casted_key, \u001b[38;5;28mslice\u001b[39m) \u001b[38;5;129;01mor\u001b[39;00m (\n\u001b[1;32m   3808\u001b[0m         \u001b[38;5;28misinstance\u001b[39m(casted_key, abc\u001b[38;5;241m.\u001b[39mIterable)\n\u001b[1;32m   3809\u001b[0m         \u001b[38;5;129;01mand\u001b[39;00m \u001b[38;5;28many\u001b[39m(\u001b[38;5;28misinstance\u001b[39m(x, \u001b[38;5;28mslice\u001b[39m) \u001b[38;5;28;01mfor\u001b[39;00m x \u001b[38;5;129;01min\u001b[39;00m casted_key)\n\u001b[1;32m   3810\u001b[0m     ):\n\u001b[1;32m   3811\u001b[0m         \u001b[38;5;28;01mraise\u001b[39;00m InvalidIndexError(key)\n\u001b[0;32m-> 3812\u001b[0m     \u001b[38;5;28;01mraise\u001b[39;00m \u001b[38;5;167;01mKeyError\u001b[39;00m(key) \u001b[38;5;28;01mfrom\u001b[39;00m\u001b[38;5;250m \u001b[39m\u001b[38;5;21;01merr\u001b[39;00m\n\u001b[1;32m   3813\u001b[0m \u001b[38;5;28;01mexcept\u001b[39;00m \u001b[38;5;167;01mTypeError\u001b[39;00m:\n\u001b[1;32m   3814\u001b[0m     \u001b[38;5;66;03m# If we have a listlike key, _check_indexing_error will raise\u001b[39;00m\n\u001b[1;32m   3815\u001b[0m     \u001b[38;5;66;03m#  InvalidIndexError. Otherwise we fall through and re-raise\u001b[39;00m\n\u001b[1;32m   3816\u001b[0m     \u001b[38;5;66;03m#  the TypeError.\u001b[39;00m\n\u001b[1;32m   3817\u001b[0m     \u001b[38;5;28mself\u001b[39m\u001b[38;5;241m.\u001b[39m_check_indexing_error(key)\n",
      "\u001b[0;31mKeyError\u001b[0m: '위도'"
     ]
    }
   ],
   "source": [
    "from tqdm import tqdm\n",
    "\n",
    "def assign_grid_id(lat, lon, grid_df):\n",
    "    for _, row in grid_df.iterrows():\n",
    "        if row['min_lat'] <= lat <= row['max_lat'] and row['min_lon'] <= lon <= row['max_lon']:\n",
    "            return row['grid_id']\n",
    "    return None  # 매칭 안 되는 경우\n",
    "\n",
    "stations = pd.read_csv(\"../data/processed/charging_stations_processed.csv\")\n",
    "stations['위도'] = pd.to_numeric(stations['위도'], errors='coerce')\n",
    "stations['경도'] = pd.to_numeric(stations['경도'], errors='coerce')\n",
    "\n",
    "tqdm.pandas()\n",
    "stations['grid_id'] = stations.progress_apply(\n",
    "    lambda row: assign_grid_id(row['위도'], row['경도'], grid_df),\n",
    "    axis=1\n",
    ")\n"
   ]
  },
  {
   "cell_type": "code",
   "execution_count": null,
   "id": "ba3179c0",
   "metadata": {},
   "outputs": [],
   "source": []
  }
 ],
 "metadata": {
  "kernelspec": {
   "display_name": "25bigdata",
   "language": "python",
   "name": "python3"
  },
  "language_info": {
   "codemirror_mode": {
    "name": "ipython",
    "version": 3
   },
   "file_extension": ".py",
   "mimetype": "text/x-python",
   "name": "python",
   "nbconvert_exporter": "python",
   "pygments_lexer": "ipython3",
   "version": "3.10.13"
  }
 },
 "nbformat": 4,
 "nbformat_minor": 5
}
