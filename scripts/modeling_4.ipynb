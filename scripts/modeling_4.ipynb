{
 "cells": [
  {
   "cell_type": "code",
   "execution_count": 16,
   "id": "938aa384",
   "metadata": {},
   "outputs": [
    {
     "name": "stdout",
     "output_type": "stream",
     "text": [
      "The autoreload extension is already loaded. To reload it, use:\n",
      "  %reload_ext autoreload\n"
     ]
    }
   ],
   "source": [
    "# 외부 py 파일 수정 시 자동으로 재로드되도록 설정\n",
    "%load_ext autoreload\n",
    "%autoreload 2"
   ]
  },
  {
   "cell_type": "code",
   "execution_count": 17,
   "id": "6bf30b09",
   "metadata": {},
   "outputs": [],
   "source": [
    "# ================================================\n",
    "# 📦 공통 패키지 import\n",
    "# ================================================\n",
    "import pandas as pd\n",
    "import numpy as np\n",
    "import matplotlib.pyplot as plt\n",
    "import seaborn as sns\n",
    "from tqdm import tqdm\n",
    "import os\n",
    "import sys\n",
    "\n",
    "# src 경로 추가\n",
    "PROJECT_ROOT = os.path.abspath(os.path.join(\"..\"))\n",
    "SRC_DIR = os.path.join(PROJECT_ROOT, \"src\")\n",
    "if SRC_DIR not in sys.path:\n",
    "    sys.path.append(SRC_DIR)\n",
    "\n",
    "# seaborn 스타일 설정\n",
    "sns.set(style=\"whitegrid\")\n",
    "\n",
    "# ================================================\n",
    "# ⚙️ 경로 및 상수 설정\n",
    "# ================================================\n",
    "DATA_DIR = \"../data/processed\"\n",
    "OUTPUT_DIR = \"../data/modeling\"\n",
    "SEOUL_STATION_PATH = os.path.join(DATA_DIR, \"seoul_env_station_mapped.csv\")\n",
    "OUTPUT_IMG = \"../outputs/image\"\n",
    "\n",
    "os.makedirs(OUTPUT_DIR, exist_ok=True)\n",
    "\n",
    "# KMeans 설정\n",
    "KMEANS_MODE = \"auto\" # auto, manual\n",
    "KMEANS_MANUAL_K = 5\n",
    "\n",
    "# XGBoost 설정\n",
    "XGB_N_ESTIMATORS = 100\n",
    "\n",
    "# MCLP 설정\n",
    "COVERAGE_RADIUS = 0.005\n",
    "FACILITY_LIMIT = 30\n",
    "\n",
    "# ================================================\n",
    "# 🧪 평가 함수 import\n",
    "# ================================================\n",
    "from evaluation.baseline_evaluator import (\n",
    "    evaluate_existing_stations,\n",
    "    evaluate_random_installation,\n",
    "    evaluate_cluster_centers,\n",
    "    evaluate_mclp_result\n",
    ")"
   ]
  },
  {
   "cell_type": "markdown",
   "id": "a7d0c98c",
   "metadata": {},
   "source": [
    "# MCLP + 시나리오\n",
    "\n",
    "현재 충전소는 그대로 유지\n",
    "\n",
    "예상 수요 증가를 반영하여 전체 predicted_demand_score를 scaling\n",
    "\n",
    "**각 베이스라인 (랜덤, 클러스터, MCLP 등)**은 이 증가된 수요를 기준으로:\n",
    "\n",
    "추가 충전소를 설치하고\n",
    "\n",
    "전체 충전소(기존 + 추가)가 얼마나 커버하는지 평가\n",
    "\n",
    "참고자료1 : https://n.news.naver.com/mnews/article/015/0005137028?sid=100\n",
    "참고자료2 : https://news.seoul.go.kr/env/archives/558886\n",
    "참고자료3 : https://www.index.go.kr/unity/potal/main/EachDtlPageDetail.do?idx_cd=1257\n",
    "- 2024 국내 전기차 운행률 2.6%\n",
    "- 2030 정부 전기차 보급률 50%\n",
    "- 2026 서울시 전기차 전환 10%"
   ]
  },
  {
   "cell_type": "code",
   "execution_count": 18,
   "id": "c4c744b5",
   "metadata": {},
   "outputs": [
    {
     "name": "stdout",
     "output_type": "stream",
     "text": [
      "상위 20% 격자 수 (demand_k): 47\n"
     ]
    }
   ],
   "source": [
    "# 실험 목적 상위 20% 격자 수 추출\n",
    "\n",
    "# 데이터 로드\n",
    "future_demand = pd.read_csv(\"../data/processed/future_demand_gridded_2.csv\")\n",
    "\n",
    "# 상위 20% 수요 격자 추출\n",
    "demand_k = int(len(future_demand) * 0.20)\n",
    "top_k = future_demand.nlargest(demand_k, 'final_score').copy()\n",
    "top_k_ids = set(top_k['grid_id'])\n",
    "\n",
    "print(f\"상위 20% 격자 수 (demand_k): {demand_k}\")"
   ]
  },
  {
   "cell_type": "markdown",
   "id": "08099638",
   "metadata": {},
   "source": [
    "# K-means"
   ]
  },
  {
   "cell_type": "code",
   "execution_count": 19,
   "id": "5438fbcc",
   "metadata": {},
   "outputs": [
    {
     "name": "stderr",
     "output_type": "stream",
     "text": [
      "Finding optimal k: 100%|██████████| 9/9 [00:00<00:00, 20.88it/s]"
     ]
    },
    {
     "name": "stdout",
     "output_type": "stream",
     "text": [
      "[AUTO MODE] 최적 k = 2\n",
      "Inertia by k: {2: 394878040.6060905, 3: 182752136.79175264, 4: 111630868.37625772, 5: 83130803.13068569, 6: 65292788.3815513, 7: 54917904.7908943, 8: 48181642.396938056, 9: 36633734.731904596, 10: 32347245.131689377}\n",
      "\n",
      "[Cluster별 평균 수요]\n",
      "cluster\n",
      "1.0    1360.575095\n",
      "0.0      57.366915\n",
      "Name: demand_score, dtype: float64\n",
      "\n",
      "[필터링] 수요가 가장 높은 클러스터 (cluster=1.0)만 반환됨.\n"
     ]
    },
    {
     "name": "stderr",
     "output_type": "stream",
     "text": [
      "\n"
     ]
    }
   ],
   "source": [
    "from modeling.kmeans_model import run_kmeans\n",
    "\n",
    "# 데이터 로드\n",
    "grid = pd.read_csv(f\"{DATA_DIR}/grid_system_processed.csv\")\n",
    "\n",
    "# 수요가 가장 높은 클러스터만 추출\n",
    "grid , used_k = run_kmeans(\n",
    "    grid,\n",
    "    mode=KMEANS_MODE,\n",
    "    # manual_k=KMEANS_MANUAL_K,\n",
    "    return_top_cluster_only=True\n",
    ")"
   ]
  },
  {
   "cell_type": "markdown",
   "id": "c7a4b592",
   "metadata": {},
   "source": [
    "KMeans로 수요 밀집 지역을 선별한 후,\n",
    "\n",
    "해당 지역의 feature만 따로 정리해 저장하는 전처리 단계\n",
    "\n",
    "→ 이후 모델(XGBoost, MCLP)에서 이 subset만 사용할 수 있게 함."
   ]
  },
  {
   "cell_type": "code",
   "execution_count": 20,
   "id": "ab1a871f",
   "metadata": {},
   "outputs": [
    {
     "name": "stdout",
     "output_type": "stream",
     "text": [
      "✅ 좌표 컬럼 중복 없이 정리 및 저장 완료\n",
      "전체 feature 수: 6030\n",
      "수요 밀집 클러스터 feature 수: 526\n",
      "병합 후 유지된 비율: 8.72%\n",
      "사용 가능한 feature 컬럼: ['grid_id', 'demand_score', 'supply_score', 'commercial_count', 'station_count', 'supply_demand_ratio', 'population_density', 'accessibility_score', 'transport_score', 'charging_demand_component', 'commercial_demand_component', 'ev_registration_factor', 'time_pattern_factor', 'center_lat', 'center_lon', 'cluster']\n"
     ]
    }
   ],
   "source": [
    "# 필요한 컬럼만 유지 (grid: KMeans 결과)\n",
    "grid = grid[['grid_id', 'center_lat', 'center_lon', 'cluster']]\n",
    "\n",
    "# 원본 feature 로드\n",
    "features_all = pd.read_csv(f\"{DATA_DIR}/grid_features.csv\")\n",
    "\n",
    "# 병합 전: features_all 좌표 제거 (혼동 방지)\n",
    "features_all = features_all.drop(columns=['center_lat', 'center_lon'], errors='ignore')\n",
    "\n",
    "# 병합\n",
    "features = features_all.merge(grid, on='grid_id', how='inner')\n",
    "\n",
    "# cluster 정수형 처리\n",
    "features['cluster'] = features['cluster'].astype(int)\n",
    "\n",
    "# 저장 전 좌표 정리: 이미 이름이 정돈돼 있음\n",
    "# → center_lat, center_lon 이 grid 기준으로만 존재\n",
    "features = features.loc[:, ~features.columns.duplicated()]  # 혹시 모를 중복 제거\n",
    "\n",
    "# 저장\n",
    "features.to_csv(f\"{OUTPUT_DIR}/kmeans_grid_features.csv\", index=False)\n",
    "print(\"✅ 좌표 컬럼 중복 없이 정리 및 저장 완료\")\n",
    "\n",
    "# 확인\n",
    "print(f\"전체 feature 수: {len(features_all)}\")\n",
    "print(f\"수요 밀집 클러스터 feature 수: {len(features)}\")\n",
    "print(f\"병합 후 유지된 비율: {len(features) / len(features_all) * 100:.2f}%\")\n",
    "print(f\"사용 가능한 feature 컬럼: {features.columns.tolist()}\")"
   ]
  },
  {
   "cell_type": "code",
   "execution_count": 21,
   "id": "2af8cb16",
   "metadata": {},
   "outputs": [
    {
     "name": "stdout",
     "output_type": "stream",
     "text": [
      "🧾 입력 데이터 이름: features\n",
      "🔢 shape: (526, 16)\n",
      "🔑 컬럼 목록:\n",
      "['grid_id', 'demand_score', 'supply_score', 'commercial_count', 'station_count', 'supply_demand_ratio', 'population_density', 'accessibility_score', 'transport_score', 'charging_demand_component', 'commercial_demand_component', 'ev_registration_factor', 'time_pattern_factor', 'center_lat', 'center_lon', 'cluster']\n",
      "\n",
      "🧾 예시 5개:\n",
      "        grid_id  demand_score  supply_score  commercial_count  station_count  \\\n",
      "0  GRID_011_036         43.22      27.15053               625              0   \n",
      "1  GRID_011_037         43.22      27.15053               332              0   \n",
      "2  GRID_012_035         43.22      27.15053               397              0   \n",
      "3  GRID_012_036         43.22      27.15053               574              1   \n",
      "4  GRID_014_033         43.22      27.15053               275              1   \n",
      "\n",
      "   supply_demand_ratio  population_density  accessibility_score  \\\n",
      "0             1.591866                9375                  0.0   \n",
      "1             1.591866                4980                  0.0   \n",
      "2             1.591866                5955                  0.0   \n",
      "3             1.591866                8610                  0.0   \n",
      "4             1.591866                4125                  0.0   \n",
      "\n",
      "   transport_score  charging_demand_component  commercial_demand_component  \\\n",
      "0         3.547124                      45.55                         50.0   \n",
      "1         7.946640                      45.55                         50.0   \n",
      "2        -3.290539                      45.55                         50.0   \n",
      "3        -0.875799                      45.55                         50.0   \n",
      "4         4.900427                      45.55                         50.0   \n",
      "\n",
      "   ev_registration_factor  time_pattern_factor  center_lat  center_lon  \\\n",
      "0                     1.1                  1.1    37.45175    126.9044   \n",
      "1                     1.1                  1.1    37.45175    126.9100   \n",
      "2                     1.1                  1.1    37.45625    126.8988   \n",
      "3                     1.1                  1.1    37.45625    126.9044   \n",
      "4                     1.1                  1.1    37.46525    126.8876   \n",
      "\n",
      "   cluster  \n",
      "0        1  \n",
      "1        1  \n",
      "2        1  \n",
      "3        1  \n",
      "4        1  \n",
      "\n",
      "📈 수치형 통계 요약:\n",
      "       demand_score  supply_score  commercial_count  station_count  \\\n",
      "count    526.000000    526.000000        526.000000     526.000000   \n",
      "mean      54.130741    134.098127        420.184411       2.041825   \n",
      "std       10.349120     76.372686        325.006852       2.620462   \n",
      "min       43.220000     27.150530         39.000000       0.000000   \n",
      "25%       43.220000     73.798750        157.000000       0.000000   \n",
      "50%       53.480000    116.867130        376.500000       1.000000   \n",
      "75%       63.837500    188.963790        566.000000       3.000000   \n",
      "max       73.220000    433.931640       2098.000000      14.000000   \n",
      "\n",
      "       supply_demand_ratio  population_density  accessibility_score  \\\n",
      "count           526.000000          526.000000           526.000000   \n",
      "mean              0.582181         6302.766160            36.065722   \n",
      "std               0.395949         4875.102773            34.210501   \n",
      "min               0.150323          585.000000             0.000000   \n",
      "25%               0.302243         2355.000000             0.000000   \n",
      "50%               0.369822         5647.500000            33.915000   \n",
      "75%               0.703203         8490.000000            68.147500   \n",
      "max               1.725840        31470.000000            99.160000   \n",
      "\n",
      "       transport_score  charging_demand_component  \\\n",
      "count       526.000000               5.260000e+02   \n",
      "mean         36.044766               4.555000e+01   \n",
      "std          34.600328               7.112191e-15   \n",
      "min          -9.975464               4.555000e+01   \n",
      "25%           3.277888               4.555000e+01   \n",
      "50%          32.780480               4.555000e+01   \n",
      "75%          67.506671               4.555000e+01   \n",
      "max         100.000000               4.555000e+01   \n",
      "\n",
      "       commercial_demand_component  ev_registration_factor  \\\n",
      "count                        526.0            5.260000e+02   \n",
      "mean                          50.0            1.100000e+00   \n",
      "std                            0.0            2.222560e-16   \n",
      "min                           50.0            1.100000e+00   \n",
      "25%                           50.0            1.100000e+00   \n",
      "50%                           50.0            1.100000e+00   \n",
      "75%                           50.0            1.100000e+00   \n",
      "max                           50.0            1.100000e+00   \n",
      "\n",
      "       time_pattern_factor  center_lat  center_lon  cluster  \n",
      "count         5.260000e+02  526.000000  526.000000    526.0  \n",
      "mean          1.100000e+00   37.541237  126.994245      1.0  \n",
      "std           2.222560e-16    0.046968    0.083000      0.0  \n",
      "min           1.100000e+00   37.451750  126.809200      1.0  \n",
      "25%           1.100000e+00   37.501250  126.921200      1.0  \n",
      "50%           1.100000e+00   37.537250  127.010800      1.0  \n",
      "75%           1.100000e+00   37.568750  127.055600      1.0  \n",
      "max           1.100000e+00   37.676750  127.173200      1.0  \n",
      "클러스터 지도 저장 완료: ../outputs/maps/kmeans_visualization.html\n"
     ]
    }
   ],
   "source": [
    "# 선택시항\n",
    "\n",
    "from utils.inspect_dataframe import inspect_dataframe\n",
    "from visualization.map_visualizer import visualize_cluster_map\n",
    "\n",
    "# 1. kmeans_grid_features.csv 특징\n",
    "inspect_dataframe(features, name=\"features\")\n",
    "\n",
    "# 2. kmeans 시각화 - 서울 전체 (회색) - 수요 (빨간색)\n",
    "visualize_cluster_map(\n",
    "    all_features_path=f\"{DATA_DIR}/grid_features.csv\",\n",
    "    filtered_features_path=f\"{OUTPUT_DIR}/kmeans_grid_features.csv\",\n",
    "    output_path=f\"../outputs/maps/kmeans_visualization.html\"\n",
    ")"
   ]
  },
  {
   "cell_type": "markdown",
   "id": "be9420f0",
   "metadata": {},
   "source": [
    "# XGBoost"
   ]
  },
  {
   "cell_type": "code",
   "execution_count": 22,
   "id": "4fd5b562",
   "metadata": {},
   "outputs": [
    {
     "name": "stdout",
     "output_type": "stream",
     "text": [
      "XGBoost 성능:\n",
      "MAE: 0.11\n",
      "RMSE: 0.18\n",
      "R²: 0.9997\n"
     ]
    }
   ],
   "source": [
    "from modeling.xgboost_model import train_and_predict\n",
    "\n",
    "# 학습 feature\n",
    "selected_features = [\n",
    "    'supply_score',\n",
    "    'station_count',\n",
    "    'commercial_count',\n",
    "    'supply_demand_ratio',\n",
    "    'population_density',\n",
    "    'accessibility_score',\n",
    "    'transport_score',\n",
    "    'cluster'\n",
    "]\n",
    "\n",
    "# 범주형 처리\n",
    "features['cluster'] = features['cluster'].astype('category')\n",
    "\n",
    "# XGBoost 학습 및 예측\n",
    "features_with_pred, metrics, model = train_and_predict(\n",
    "    df=features,\n",
    "    features=selected_features,\n",
    "    label='demand_score',\n",
    "    n_estimators=XGB_N_ESTIMATORS,\n",
    "    verbose=True\n",
    ")\n",
    "\n",
    "# 저장\n",
    "features_with_pred.to_csv(f\"{OUTPUT_DIR}/xgboost_grid_features.csv\", index=False)\n"
   ]
  },
  {
   "cell_type": "code",
   "execution_count": 23,
   "id": "d357bfa8",
   "metadata": {},
   "outputs": [
    {
     "name": "stdout",
     "output_type": "stream",
     "text": [
      "XGBoost 입력 feature 타입:\n",
      "grid_id                          object\n",
      "demand_score                    float64\n",
      "supply_score                    float64\n",
      "commercial_count                  int64\n",
      "station_count                     int64\n",
      "supply_demand_ratio             float64\n",
      "population_density                int64\n",
      "accessibility_score             float64\n",
      "transport_score                 float64\n",
      "charging_demand_component       float64\n",
      "commercial_demand_component     float64\n",
      "ev_registration_factor          float64\n",
      "time_pattern_factor             float64\n",
      "center_lat                      float64\n",
      "center_lon                      float64\n",
      "cluster                        category\n",
      "predicted_demand_score          float64\n",
      "dtype: object\n",
      "\n",
      "중요도 시각화 저장 완료: ../outputs/image/xgboost_importance.png\n"
     ]
    },
    {
     "data": {
      "image/png": "[encoded data removed]",
      "text/plain": [
       "<Figure size 640x480 with 1 Axes>"
      ]
     },
     "metadata": {},
     "output_type": "display_data"
    }
   ],
   "source": [
    "# 선택 사항\n",
    "\n",
    "# 1. XGBoost 입력 feature 타입\n",
    "print(\"XGBoost 입력 feature 타입:\")\n",
    "print(features_with_pred.dtypes)\n",
    "print(\"\")\n",
    "\n",
    "from visualization.xgboost_visualizer import plot_feature_importance\n",
    "\n",
    "# 2. 시각화\n",
    "plot_feature_importance(model, max_num_features=10, save_path=f\"{OUTPUT_IMG}/xgboost_importance.png\")\n",
    "\n",
    "# 3. metrics 저장\n",
    "pd.DataFrame([metrics]).to_csv(f\"{OUTPUT_DIR}/xgboost_metrics.csv\", index=False)"
   ]
  },
  {
   "cell_type": "markdown",
   "id": "5cf9f9fe",
   "metadata": {},
   "source": [
    "# MCLP"
   ]
  },
  {
   "cell_type": "code",
   "execution_count": 24,
   "id": "4316305b",
   "metadata": {},
   "outputs": [
    {
     "data": {
      "application/vnd.jupyter.widget-view+json": {
       "model_id": "8dcc1db76ee64c318bc25fc84cb93e18",
       "version_major": 2,
       "version_minor": 0
      },
      "text/plain": [
       "\n",
       "커버리지 행렬 생성:   0%|          | 0/526 [00:00<?, ?it/s]"
      ]
     },
     "metadata": {},
     "output_type": "display_data"
    },
    {
     "name": "stdout",
     "output_type": "stream",
     "text": [
      "설치지 수: 47개\n",
      "커버 수요: 12,734.79 / 총 수요: 28,465.00\n",
      "커버율: 44.74%\n"
     ]
    }
   ],
   "source": [
    "from modeling.mclp_model import solve_mclp\n",
    "\n",
    "# 1. 설정\n",
    "COVERAGE_RADIUS_KM = 0.55  # 반경 550m\n",
    "coverage_radius_deg = COVERAGE_RADIUS_KM / 111.0  # degree 환산\n",
    "\n",
    "# 2. MCLP 실행\n",
    "final_df, final_summary, _ = solve_mclp(\n",
    "    df=features_with_pred,                      # XGBoost 예측 포함된 격자 데이터\n",
    "    coverage_radius=coverage_radius_deg,\n",
    "    facility_limit=demand_k,                   # 수요 상위 20% 격자 수\n",
    "    demand_column='predicted_demand_score',\n",
    "    verbose=True\n",
    ")"
   ]
  },
  {
   "cell_type": "code",
   "execution_count": 25,
   "id": "0805a2d6",
   "metadata": {},
   "outputs": [],
   "source": [
    "# 3. 결과 저장\n",
    "final_df.to_csv(f\"{OUTPUT_DIR}/mclp_grid_features.csv\", index=False)                 # 전체 결과\n",
    "final_df[final_df['selected'] == 1].to_csv(f\"{OUTPUT_DIR}/mclp_selected_grid_features.csv\", index=False)  # 선택된 설치 위치만 저장"
   ]
  },
  {
   "cell_type": "code",
   "execution_count": 26,
   "id": "c4a2cf66",
   "metadata": {},
   "outputs": [
    {
     "name": "stdout",
     "output_type": "stream",
     "text": [
      "설치지 시각화 저장 완료: ../outputs/maps/mclp_result_map.html\n"
     ]
    }
   ],
   "source": [
    "# 선택사항 - mclp 후 지역 시각화\n",
    "\n",
    "from visualization.map_visualizer import visualize_selected_sites_map\n",
    "\n",
    "visualize_selected_sites_map(\n",
    "    features_path=f\"{OUTPUT_DIR}/mclp_grid_features.csv\",\n",
    "    output_path=f\"../outputs/maps/mclp_result_map.html\"\n",
    ")"
   ]
  },
  {
   "cell_type": "markdown",
   "id": "f752d41d",
   "metadata": {},
   "source": [
    "# 평가"
   ]
  },
  {
   "cell_type": "markdown",
   "id": "d22ee90e",
   "metadata": {},
   "source": [
    "## 설치 방식 비교 실험\n",
    "\n",
    "### 1. 실험 목적\n",
    "전기차 충전소 입지 선정 방식에 따라 **미래 수요 상위 지역을 얼마나 잘 커버하는지**를 비교한다.  \n",
    "수요 기반 알고리즘(MCLP, 클러스터링 등)이 **기존 설치 방식이나 무작위 설치 대비 얼마나 효율적인지** 확인하는 것이 목적이다.\n",
    "\n",
    "---\n",
    "\n",
    "### 2. 실험 방식\n",
    "\n",
    "- **수요 기준**: `future_demand_gridded.csv`의 adjusted_ev_demand 컬럼 기준\n",
    "- **상위 격자 수**: 전체 격자 중 상위 20%인 `demand_k = 47`개\n",
    "- **설치 방식별 선정 방식**:\n",
    "  - **기존 충전소 전체**: 서울시의 모든 기존 충전소 설치 격자\n",
    "  - **랜덤 설치**: 기존 충전소 중 무작위 47개 선택\n",
    "  - **클러스터 기반 설치**: KMeans 클러스터 격자 중 `demand_score` 상위 47개\n",
    "  - **MCLP 추천 설치**: KMeans → XGBoost → MCLP 로 구성된 복합 전략\n",
    "\n",
    "---\n",
    "\n",
    "### 3. 평가 지표\n",
    "\n",
    "- **포함된 격자 수**: 상위 47개 수요 격자 중 설치된 격자의 수\n",
    "- **커버 수요**: 해당 격자들이 커버한 수요 총합\n",
    "- **커버율 (%)**: `(커버 수요 / 전체 상위 수요) * 100`\n",
    "- **설치 효율**: `커버 수요 / 설치 격자 수`\n",
    "\n",
    "---\n",
    "\n",
    "### 4. 실험 결과\n",
    "\n",
    "| 설치 방식             | 포함 격자 수 | 커버 수요     | 전체 수요     | 커버율 (%) | 설치 효율 |\n",
    "|----------------------|--------------|---------------|---------------|-------------|------------|\n",
    "| 기존 충전소 전체      | 33 / 47      | 275,653.50    | 324,565.50    | 84.93       | 157.25     |\n",
    "| 랜덤 설치            | 0 / 47       | 0.00          | 324,565.50    | 0.00        | 0.00       |\n",
    "| 클러스터 기반 설치   | 1 / 47       | 6,103.50      | 324,565.50    | 1.88        | 129.86     |\n",
    "| MCLP 추천 설치       | 4 / 47       | 34,884.00     | 324,565.50    | 10.75       | 742.21     |\n",
    "\n",
    "---\n",
    "\n",
    "### 5. 분석 요약\n",
    "\n",
    "- **기존 충전소 전체**는 높은 커버율을 보이지만 설치 효율은 낮다.\n",
    "- **랜덤 설치**는 커버 수요가 전무하여 가장 비효율적이다.\n",
    "- **클러스터 기반 설치**는 예측 수요는 높았지만, 상위 수요 지역과 겹침이 적어 실효성이 낮다.\n",
    "- **MCLP 추천 설치**는 상대적으로 적은 수의 설치만으로도 높은 효율을 보이며, 전략적 입지 선정의 효과를 입증하였다."
   ]
  },
  {
   "cell_type": "code",
   "execution_count": 27,
   "id": "b9401724",
   "metadata": {},
   "outputs": [
    {
     "name": "stdout",
     "output_type": "stream",
     "text": [
      "상위 20% 격자 수 (demand_k): 47\n",
      "\n",
      "[기존 충전소 전체]\n",
      "- 포함된 격자 수: 33 / 상위 47개\n",
      "- 커버 수요: 275,653.50\n",
      "- 전체 수요: 324,565.50\n",
      "- 커버율: 84.93%\n",
      "- 설치 1개당 커버 수요 (효율): 157.25\n",
      "\n",
      "[랜덤 설치]\n",
      "- 포함된 격자 수: 0 / 상위 47개\n",
      "- 커버 수요: 0.00\n",
      "- 전체 수요: 324,565.50\n",
      "- 커버율: 0.00%\n",
      "- 설치 1개당 커버 수요 (효율): 0.00\n",
      "\n",
      "[클러스터 기반 설치]\n",
      "- 포함된 격자 수: 1 / 상위 47개\n",
      "- 커버 수요: 6,716.00\n",
      "- 전체 수요: 324,565.50\n",
      "- 커버율: 2.07%\n",
      "- 설치 1개당 커버 수요 (효율): 142.89\n",
      "\n",
      "[MCLP 추천 설치]\n",
      "- 포함된 격자 수: 1 / 상위 47개\n",
      "- 커버 수요: 10,485.00\n",
      "- 전체 수요: 324,565.50\n",
      "- 커버율: 3.23%\n",
      "- 설치 1개당 커버 수요 (효율): 223.09\n"
     ]
    }
   ],
   "source": [
    "import pandas as pd\n",
    "\n",
    "# 1. 데이터 로드\n",
    "stations = pd.read_csv(\"../data/processed/charging_stations_seoul_gridded.csv\")\n",
    "future_demand = pd.read_csv(\"../data/processed/future_demand_gridded_2.csv\")\n",
    "grid_features = pd.read_csv(\"../data/processed/grid_features.csv\")                 \n",
    "kmeans_features = pd.read_csv(\"../data/modeling/kmeans_grid_features.csv\")         # 클러스터 기반\n",
    "mclp_features = pd.read_csv(\"../data/modeling/mclp_selected_grid_features.csv\")    # MCLP 결과\n",
    "\n",
    "# 2. 전체 격자 중 adjusted_ev_demand 기준 상위 20% 추출\n",
    "demand_k = int(len(future_demand) * 0.20)\n",
    "top_k = future_demand.nlargest(demand_k, 'adjusted_ev_demand').copy()\n",
    "top_k_ids = set(top_k['grid_id'])\n",
    "\n",
    "print(f\"상위 20% 격자 수 (demand_k): {demand_k}\")\n",
    "\n",
    "# 3. 설치 방식별 격자 선택\n",
    "\n",
    "# 3-1. 기존 충전소 전체\n",
    "existing_grids = set(stations['grid_id'])\n",
    "\n",
    "# 3-2. 랜덤 설치: 기존 충전소가 설치된 격자 중 demand_k개 무작위 선택\n",
    "random_grids = set(stations.sample(n=demand_k, random_state=42)['grid_id'])\n",
    "\n",
    "# 3-3. 클러스터 기반 설치: KMeans 클러스터 내 격자들 중 demand_score 기준 상위 demand_k개\n",
    "cluster_sorted = kmeans_features.sort_values('demand_score', ascending=False)\n",
    "cluster_grids = set(cluster_sorted['grid_id'].dropna().head(demand_k))\n",
    "\n",
    "# 3-4. MCLP 추천 설치: selected == 1로 표시된 격자 모두 사용\n",
    "mclp_grids = set(mclp_features[mclp_features['selected'] == 1]['grid_id'])\n",
    "\n",
    "# 4. 평가 함수\n",
    "def evaluate_grid_overlap(top_k_df, selected_grids, label):\n",
    "    matched = top_k_ids & selected_grids\n",
    "    matched_count = len(matched)\n",
    "    matched_demand = top_k_df[top_k_df['grid_id'].isin(matched)]['adjusted_ev_demand'].sum()\n",
    "    total_demand = top_k_df['adjusted_ev_demand'].sum()\n",
    "    coverage_rate = matched_demand / total_demand * 100\n",
    "    efficiency = matched_demand / len(selected_grids) if selected_grids else 0\n",
    "\n",
    "    print(f\"\\n[{label}]\")\n",
    "    print(f\"- 포함된 격자 수: {matched_count} / 상위 {len(top_k_df)}개\")\n",
    "    print(f\"- 커버 수요: {matched_demand:,.2f}\")\n",
    "    print(f\"- 전체 수요: {total_demand:,.2f}\")\n",
    "    print(f\"- 커버율: {coverage_rate:.2f}%\")\n",
    "    print(f\"- 설치 1개당 커버 수요 (효율): {efficiency:,.2f}\")\n",
    "\n",
    "# 5. 평가 실행\n",
    "evaluate_grid_overlap(top_k, existing_grids, \"기존 충전소 전체\")\n",
    "evaluate_grid_overlap(top_k, random_grids, \"랜덤 설치\")\n",
    "evaluate_grid_overlap(top_k, cluster_grids, \"클러스터 기반 설치\")\n",
    "evaluate_grid_overlap(top_k, mclp_grids, \"MCLP 추천 설치\")"
   ]
  },
  {
   "cell_type": "markdown",
   "id": "eff41df2",
   "metadata": {},
   "source": [
    "# XX (기타)"
   ]
  },
  {
   "cell_type": "code",
   "execution_count": 28,
   "id": "0904c6dd",
   "metadata": {},
   "outputs": [
    {
     "name": "stdout",
     "output_type": "stream",
     "text": [
      "future_demand → grid_id 개수: 122\n",
      "grid_features → grid_id 개수: 6030\n",
      "kmeans_features → grid_id 개수: 526\n",
      "mclp_features → grid_id 개수: 47\n",
      "charging_stations → grid_id 개수: 1753\n"
     ]
    }
   ],
   "source": [
    "import pandas as pd\n",
    "\n",
    "# 파일 경로 지정\n",
    "paths = {\n",
    "    \"future_demand\": \"../data/processed/future_demand_gridded_2.csv\",\n",
    "    \"grid_features\": \"../data/processed/grid_features.csv\",\n",
    "    \"kmeans_features\": \"../data/modeling/kmeans_grid_features.csv\",\n",
    "    \"mclp_features\": \"../data/modeling/mclp_selected_grid_features.csv\",\n",
    "    \"charging_stations\": \"../data/processed/charging_stations_seoul_gridded.csv\"\n",
    "}\n",
    "\n",
    "# 결과 출력\n",
    "for name, path in paths.items():\n",
    "    df = pd.read_csv(path)\n",
    "    n = df['grid_id'].nunique()\n",
    "    print(f\"{name} → grid_id 개수: {n}\")"
   ]
  },
  {
   "cell_type": "code",
   "execution_count": 33,
   "id": "9656044c",
   "metadata": {},
   "outputs": [
    {
     "name": "stdout",
     "output_type": "stream",
     "text": [
      "        grid_id  demand_score  adjusted_ev_demand  log_future  norm_current  \\\n",
      "0  GRID_003_051         22.05              2745.5    7.918083           0.0   \n",
      "1  GRID_003_051         22.05              3783.5    8.238669           0.0   \n",
      "2  GRID_011_020         22.05              3621.5    8.194920           0.0   \n",
      "3  GRID_011_020         22.05              2230.0    7.710205           0.0   \n",
      "4  GRID_012_020         22.05              2745.5    7.918083           0.0   \n",
      "\n",
      "   norm_log_future  final_score  center_lat  center_lon  \n",
      "0         0.827839     0.331136    37.41575    126.9884  \n",
      "1         0.861357     0.344543    37.41575    126.9884  \n",
      "2         0.856783     0.342713    37.45175    126.8148  \n",
      "3         0.806106     0.322442    37.45175    126.8148  \n",
      "4         0.827839     0.331136    37.45625    126.8148  \n"
     ]
    }
   ],
   "source": [
    "import pandas as pd\n",
    "\n",
    "# 데이터 불러오기\n",
    "future = pd.read_csv(\"../data/processed/future_demand_gridded_2.csv\")\n",
    "grid = pd.read_csv(\"../data/processed/grid_features.csv\")  # center_lat, center_lon 포함\n",
    "\n",
    "# 병합 (좌표 추가)\n",
    "merged = future.merge(grid[['grid_id', 'center_lat', 'center_lon']], on='grid_id', how='left')\n",
    "\n",
    "# 확인\n",
    "print(merged.head())\n",
    "\n",
    "# 저장 (선택)\n",
    "merged.to_csv(\"../data/processed/future_demand_gridded_2_with_coords.csv\", index=False)"
   ]
  },
  {
   "cell_type": "code",
   "execution_count": 35,
   "id": "5587f8f9",
   "metadata": {},
   "outputs": [
    {
     "name": "stdout",
     "output_type": "stream",
     "text": [
      "✅ 지도 저장 완료: ../outputs/maps/all_grids_combined_map.html\n"
     ]
    }
   ],
   "source": [
    "import pandas as pd\n",
    "import folium\n",
    "\n",
    "# 1. 파일 경로 및 컬럼 정보 정의\n",
    "datasets = {\n",
    "    \"future_demand\": {\n",
    "        \"path\": \"../data/processed/future_demand_gridded_2_with_coords.csv\",\n",
    "        \"lat\": \"center_lat\",\n",
    "        \"lon\": \"center_lon\",\n",
    "        \"color\": \"green\"\n",
    "    },\n",
    "    \"grid_features\": {\n",
    "        \"path\": \"../data/processed/grid_features.csv\",\n",
    "        \"lat\": \"center_lat\",\n",
    "        \"lon\": \"center_lon\",\n",
    "        \"color\": \"gray\"\n",
    "    },\n",
    "    \"kmeans_features\": {\n",
    "        \"path\": \"../data/modeling/kmeans_grid_features.csv\",\n",
    "        \"lat\": \"center_lat\",\n",
    "        \"lon\": \"center_lon\",\n",
    "        \"color\": \"blue\"\n",
    "    },\n",
    "    \"mclp_features\": {\n",
    "        \"path\": \"../data/modeling/mclp_selected_grid_features.csv\",\n",
    "        \"lat\": \"center_lat\",\n",
    "        \"lon\": \"center_lon\",\n",
    "        \"color\": \"red\"\n",
    "    },\n",
    "    \"charging_stations\": {\n",
    "        \"path\": \"../data/processed/charging_stations_seoul_gridded.csv\",\n",
    "        \"lat\": \"위도\",\n",
    "        \"lon\": \"경도\",\n",
    "        \"color\": \"purple\"\n",
    "    }\n",
    "}\n",
    "\n",
    "# 2. 지도 초기화\n",
    "m = folium.Map(location=[37.5665, 126.9780], zoom_start=11)\n",
    "\n",
    "# 3. 각 데이터셋을 지도에 추가\n",
    "for name, info in datasets.items():\n",
    "    df = pd.read_csv(info[\"path\"])\n",
    "    lat_col = info[\"lat\"]\n",
    "    lon_col = info[\"lon\"]\n",
    "    color = info[\"color\"]\n",
    "\n",
    "    layer = folium.FeatureGroup(name=name, show=True)\n",
    "\n",
    "    for _, row in df.iterrows():\n",
    "        folium.CircleMarker(\n",
    "            location=[row[lat_col], row[lon_col]],\n",
    "            radius=3,\n",
    "            color=color,\n",
    "            fill=True,\n",
    "            fill_opacity=0.5,\n",
    "            popup=f\"{name}: {row.get('grid_id', 'N/A')}\"\n",
    "        ).add_to(layer)\n",
    "\n",
    "    layer.add_to(m)\n",
    "\n",
    "# 4. 레이어 컨트롤 추가 및 저장\n",
    "folium.LayerControl().add_to(m)\n",
    "m.save(\"../outputs/maps/all_grids_combined_map.html\")\n",
    "print(\"✅ 지도 저장 완료: ../outputs/maps/all_grids_combined_map.html\")"
   ]
  }
 ],
 "metadata": {
  "kernelspec": {
   "display_name": "25bigdata",
   "language": "python",
   "name": "python3"
  },
  "language_info": {
   "codemirror_mode": {
    "name": "ipython",
    "version": 3
   },
   "file_extension": ".py",
   "mimetype": "text/x-python",
   "name": "python",
   "nbconvert_exporter": "python",
   "pygments_lexer": "ipython3",
   "version": "3.10.13"
  }
 },
 "nbformat": 4,
 "nbformat_minor": 5
}
