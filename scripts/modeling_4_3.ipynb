{
 "cells": [
  {
   "cell_type": "code",
   "execution_count": 2,
   "id": "938aa384",
   "metadata": {},
   "outputs": [],
   "source": [
    "%load_ext autoreload\n",
    "%autoreload 2"
   ]
  },
  {
   "cell_type": "code",
   "execution_count": 82,
   "id": "6bf30b09",
   "metadata": {},
   "outputs": [],
   "source": [
    "# 공통 패키지 import\n",
    "import pandas as pd\n",
    "import numpy as np\n",
    "import matplotlib.pyplot as plt\n",
    "import seaborn as sns\n",
    "from tqdm import tqdm\n",
    "import os\n",
    "import sys\n",
    "\n",
    "# src 경로 추가\n",
    "PROJECT_ROOT = os.path.abspath(os.path.join(\"..\"))\n",
    "SRC_DIR = os.path.join(PROJECT_ROOT, \"src\")\n",
    "if SRC_DIR not in sys.path:\n",
    "    sys.path.append(SRC_DIR)\n",
    "\n",
    "# seaborn 스타일 설정\n",
    "sns.set(style=\"whitegrid\")\n",
    "\n",
    "# 경로 및 상수 설정\n",
    "DATA_DIR = \"../data/processed\"\n",
    "OUTPUT_DIR = \"../data/modeling\"\n",
    "SEOUL_STATION_PATH = os.path.join(DATA_DIR, \"seoul_env_station_mapped.csv\")\n",
    "OUTPUT_IMG = \"../outputs/image\"\n",
    "\n",
    "os.makedirs(OUTPUT_DIR, exist_ok=True)\n",
    "\n",
    "# KMeans 설정\n",
    "KMEANS_MODE = \"auto\" # auto, manual\n",
    "KMEANS_MANUAL_K = 5\n",
    "\n",
    "# XGBoost 설정\n",
    "XGB_N_ESTIMATORS = 100\n",
    "\n",
    "# MCLP 설정\n",
    "COVERAGE_RADIUS = 0.005\n",
    "FACILITY_LIMIT = 30\n",
    "\n",
    "# 평가 함수 import\n",
    "from evaluation.baseline_evaluator import (\n",
    "    evaluate_existing_stations,\n",
    "    evaluate_random_installation,\n",
    "    evaluate_cluster_centers,\n",
    "    evaluate_mclp_result\n",
    ")"
   ]
  },
  {
   "cell_type": "markdown",
   "id": "a7d0c98c",
   "metadata": {},
   "source": [
    "# MCLP + 시나리오\n",
    "\n",
    "현재 충전소는 그대로 유지\n",
    "\n",
    "예상 수요 증가를 반영하여 전체 predicted_demand_score를 scaling\n",
    "\n",
    "각 베이스라인 (랜덤, 클러스터, MCLP 등)은 이 증가된 수요를 기준으로:\n",
    "\n",
    "추가 충전소를 설치하고\n",
    "\n",
    "전체 충전소(기존 + 추가)가 얼마나 커버하는지 평가\n",
    "\n",
    "참고자료1 : https://n.news.naver.com/mnews/article/015/0005137028?sid=100\n",
    "참고자료2 : https://news.seoul.go.kr/env/archives/558886\n",
    "참고자료3 : https://www.index.go.kr/unity/potal/main/EachDtlPageDetail.do?idx_cd=1257\n",
    "- 2024 국내 전기차 운행률 2.6%\n",
    "- 2030 정부 전기차 보급률 50%\n",
    "- 2026 서울시 전기차 전환 10%"
   ]
  },
  {
   "cell_type": "code",
   "execution_count": 83,
   "id": "c4c744b5",
   "metadata": {},
   "outputs": [
    {
     "name": "stdout",
     "output_type": "stream",
     "text": [
      "상위 10% 격자 수 (demand_k): 208\n"
     ]
    }
   ],
   "source": [
    "# 실험 목적 상위 10% 격자 수 추출\n",
    "\n",
    "# 데이터 로드\n",
    "future_demand = pd.read_csv(\"../data/processed/future_demand_gridded_2.csv\")\n",
    "\n",
    "# 상위 10% 수요 격자 추출\n",
    "demand_k = int(len(future_demand) * 0.10)\n",
    "top_k = future_demand.nlargest(demand_k, 'final_score').copy()\n",
    "top_k_ids = set(top_k['grid_id'])\n",
    "\n",
    "print(f\"상위 10% 격자 수 (demand_k): {demand_k}\")"
   ]
  },
  {
   "cell_type": "code",
   "execution_count": 108,
   "id": "bdd3d411",
   "metadata": {},
   "outputs": [
    {
     "name": "stdout",
     "output_type": "stream",
     "text": [
      "기존 충전소 기반 분석 결과\n",
      "- 전체 서울 격자 수: 6030\n",
      "- 설치 격자 수: 1753\n",
      "- 서울 전체 기준 설치 비율: 29.07%\n",
      "- 수요 기준 커버율: 96.18%\n"
     ]
    }
   ],
   "source": [
    "import pandas as pd\n",
    "\n",
    "# 데이터 로드\n",
    "all_df = pd.read_csv(\"../data/processed/grid_features.csv\")  # 전체 격자 (demand_score 포함)\n",
    "stations = pd.read_csv(\"../data/processed/charging_stations_seoul_gridded.csv\")  # 충전소 (grid_id 포함)\n",
    "\n",
    "# 전체 격자 수\n",
    "total_grids = all_df['grid_id'].nunique()\n",
    "\n",
    "# 설치된 격자 수\n",
    "installed_grids = stations['grid_id'].nunique()\n",
    "\n",
    "# 설치 비율\n",
    "install_ratio = installed_grids / total_grids * 100\n",
    "\n",
    "# 수요 커버율 계산\n",
    "covered = all_df[all_df['grid_id'].isin(stations['grid_id'])]\n",
    "covered_demand = covered['demand_score'].sum()\n",
    "total_demand = all_df['demand_score'].sum()\n",
    "coverage_rate = covered_demand / total_demand * 100\n",
    "\n",
    "# 결과 출력\n",
    "print(\"기존 충전소 기반 분석 결과\")\n",
    "print(f\"- 전체 서울 격자 수: {total_grids}\")\n",
    "print(f\"- 설치 격자 수: {installed_grids}\")\n",
    "print(f\"- 서울 전체 기준 설치 비율: {install_ratio:.2f}%\")\n",
    "print(f\"- 수요 기준 커버율: {coverage_rate:.2f}%\")"
   ]
  },
  {
   "cell_type": "markdown",
   "id": "08099638",
   "metadata": {},
   "source": [
    "# K-means"
   ]
  },
  {
   "cell_type": "code",
   "execution_count": 84,
   "id": "5438fbcc",
   "metadata": {},
   "outputs": [
    {
     "name": "stderr",
     "output_type": "stream",
     "text": [
      "Finding optimal k: 100%|██████████| 9/9 [00:00<00:00, 24.44it/s]"
     ]
    },
    {
     "name": "stdout",
     "output_type": "stream",
     "text": [
      "[AUTO MODE] 최적 k = 2\n",
      "Inertia by k: {2: 394878040.6060905, 3: 182752136.79175264, 4: 111630868.37625775, 5: 83130803.13068569, 6: 65292788.3815513, 7: 54917904.7908943, 8: 48181642.39693806, 9: 36633734.731904596, 10: 32347245.131689377}\n",
      "\n",
      "[Cluster별 평균 수요]\n",
      "cluster\n",
      "1.0    1360.575095\n",
      "0.0      57.366915\n",
      "Name: demand_score, dtype: float64\n",
      "\n",
      "[필터링] 수요가 가장 높은 클러스터 (cluster=1.0)만 반환됨.\n"
     ]
    },
    {
     "name": "stderr",
     "output_type": "stream",
     "text": [
      "\n"
     ]
    }
   ],
   "source": [
    "from modeling.kmeans_model import run_kmeans\n",
    "\n",
    "# 데이터 로드\n",
    "grid = pd.read_csv(f\"{DATA_DIR}/grid_system_processed.csv\")\n",
    "\n",
    "# 수요가 가장 높은 클러스터만 추출\n",
    "grid , used_k = run_kmeans(\n",
    "    grid,\n",
    "    mode=KMEANS_MODE,\n",
    "    # manual_k=KMEANS_MANUAL_K,\n",
    "    return_top_cluster_only=True\n",
    ")"
   ]
  },
  {
   "cell_type": "markdown",
   "id": "c7a4b592",
   "metadata": {},
   "source": [
    "KMeans로 수요 밀집 지역을 선별한 후,\n",
    "\n",
    "해당 지역의 feature만 따로 정리해 저장하는 전처리 단계\n",
    "\n",
    "→ 이후 모델(XGBoost, MCLP)에서 이 subset만 사용할 수 있게 함."
   ]
  },
  {
   "cell_type": "code",
   "execution_count": 95,
   "id": "ab1a871f",
   "metadata": {},
   "outputs": [
    {
     "name": "stdout",
     "output_type": "stream",
     "text": [
      "좌표 컬럼 중복 없이 정리 및 저장 완료\n",
      "사용 가능한 feature 컬럼: ['grid_id', 'demand_score', 'supply_score', 'commercial_count', 'station_count', 'supply_demand_ratio', 'population_density', 'accessibility_score', 'transport_score', 'center_lat', 'center_lon', 'cluster']\n"
     ]
    }
   ],
   "source": [
    "# 필요한 컬럼만 유지 (grid: KMeans 결과)\n",
    "grid = grid[['grid_id', 'center_lat', 'center_lon', 'cluster']]\n",
    "\n",
    "# 원본 feature 로드\n",
    "features_all = pd.read_csv(f\"{DATA_DIR}/grid_features.csv\")\n",
    "\n",
    "# 병합 전: features_all 좌표 제거 (혼동 방지)\n",
    "features_all = features_all.drop(columns=['center_lat', 'center_lon'], errors='ignore')\n",
    "\n",
    "# 병합\n",
    "features = features_all.merge(grid, on='grid_id', how='inner')\n",
    "\n",
    "# cluster 정수형 처리\n",
    "features['cluster'] = features['cluster'].astype(int)\n",
    "\n",
    "# 저장 전 좌표 정리: 이미 이름이 정돈돼 있음\n",
    "# → center_lat, center_lon 이 grid 기준으로만 존재\n",
    "features = features.loc[:, ~features.columns.duplicated()]  # 혹시 모를 중복 제거\n",
    "\n",
    "# 저장\n",
    "features.to_csv(f\"{OUTPUT_DIR}/kmeans_grid_features.csv\", index=False)\n",
    "print(\"좌표 컬럼 중복 없이 정리 및 저장 완료\")\n",
    "\n",
    "# 확인\n",
    "print(f\"사용 가능한 feature 컬럼: {features.columns.tolist()}\")"
   ]
  },
  {
   "cell_type": "code",
   "execution_count": 96,
   "id": "6f77cbdd",
   "metadata": {},
   "outputs": [
    {
     "name": "stdout",
     "output_type": "stream",
     "text": [
      "클러스터링 기반 분석 결과\n",
      "- 전체 서울 격자 수: 6030\n",
      "- 클러스터 격자 수: 526\n",
      "- 서울 전체 기준 설치 비율: 8.72%\n",
      "- 수요 기준 커버율: 69.39%\n"
     ]
    }
   ],
   "source": [
    "import pandas as pd\n",
    "\n",
    "# 데이터 로드\n",
    "all_df = pd.read_csv(f\"{DATA_DIR}/grid_features.csv\")  # 전체 서울 격자\n",
    "kmeans_df = pd.read_csv(f\"{OUTPUT_DIR}/kmeans_grid_features.csv\")  # 클러스터 기반 격자\n",
    "\n",
    "# 전체 서울 격자 수\n",
    "total_grids = all_df['grid_id'].nunique()\n",
    "\n",
    "# 클러스터 선택된 격자 수\n",
    "selected_grids = kmeans_df['grid_id'].nunique()\n",
    "\n",
    "# 서울 전체 기준 설치 비율\n",
    "install_ratio = selected_grids / total_grids * 100\n",
    "\n",
    "# 수요 기준 커버율 (전체 수요 중 클러스터 격자의 수요가 차지하는 비중)\n",
    "total_demand = all_df['demand_score'].sum()\n",
    "covered_demand = kmeans_df['demand_score'].sum()\n",
    "coverage_rate = covered_demand / total_demand * 100\n",
    "\n",
    "# 출력\n",
    "print(f\"클러스터링 기반 분석 결과\")\n",
    "print(f\"- 전체 서울 격자 수: {total_grids}\")\n",
    "print(f\"- 클러스터 격자 수: {selected_grids}\")\n",
    "print(f\"- 서울 전체 기준 설치 비율: {install_ratio:.2f}%\")\n",
    "print(f\"- 수요 기준 커버율: {coverage_rate:.2f}%\")"
   ]
  },
  {
   "cell_type": "code",
   "execution_count": 97,
   "id": "2af8cb16",
   "metadata": {},
   "outputs": [
    {
     "name": "stdout",
     "output_type": "stream",
     "text": [
      "🧾 입력 데이터 이름: features\n",
      "🔢 shape: (526, 12)\n",
      "🔑 컬럼 목록:\n",
      "['grid_id', 'demand_score', 'supply_score', 'commercial_count', 'station_count', 'supply_demand_ratio', 'population_density', 'accessibility_score', 'transport_score', 'center_lat', 'center_lon', 'cluster']\n",
      "\n",
      "🧾 예시 5개:\n",
      "        grid_id  demand_score  supply_score  commercial_count  station_count  \\\n",
      "0  GRID_011_036        1372.5      27.15053               200              1   \n",
      "1  GRID_011_037         911.5      27.15053               200              0   \n",
      "2  GRID_012_035         883.0      27.15053               200              1   \n",
      "3  GRID_012_036         952.5      27.15053               200              0   \n",
      "4  GRID_014_033         946.5      27.15053               200              0   \n",
      "\n",
      "   supply_demand_ratio  population_density  accessibility_score  \\\n",
      "0            50.551499                2400                  0.0   \n",
      "1            33.572089                2400                  0.0   \n",
      "2            32.522385                2400                  0.0   \n",
      "3            35.082188                2400                  0.0   \n",
      "4            34.861198                2400                  0.0   \n",
      "\n",
      "   transport_score  center_lat  center_lon  cluster  \n",
      "0        41.979882    37.45175    126.9044        1  \n",
      "1        23.028949    37.45175    126.9100        1  \n",
      "2        31.888855    37.45625    126.8988        1  \n",
      "3        33.980204    37.45625    126.9044        1  \n",
      "4        32.423406    37.46525    126.8876        1  \n",
      "\n",
      "📈 수치형 통계 요약:\n",
      "       demand_score  supply_score  commercial_count  station_count  \\\n",
      "count    526.000000    526.000000             526.0     526.000000   \n",
      "mean    1360.575095    134.098127             200.0       2.060837   \n",
      "std      697.995900     76.372686               0.0       2.544107   \n",
      "min      708.500000     27.150530             200.0       0.000000   \n",
      "25%      869.625000     73.798750             200.0       0.000000   \n",
      "50%     1112.250000    116.867130             200.0       1.000000   \n",
      "75%     1593.000000    188.963790             200.0       3.000000   \n",
      "max     4967.000000    433.931640             200.0      14.000000   \n",
      "\n",
      "       supply_demand_ratio  population_density  accessibility_score  \\\n",
      "count           526.000000               526.0           526.000000   \n",
      "mean             15.183425              2400.0            30.367475   \n",
      "std              15.044833                 0.0            26.986941   \n",
      "min               2.049583              2400.0             0.000000   \n",
      "25%               6.413556              2400.0             5.145555   \n",
      "50%              10.147542              2400.0            27.610586   \n",
      "75%              17.450190              2400.0            46.553664   \n",
      "max             122.041816              2400.0            98.089607   \n",
      "\n",
      "       transport_score  center_lat  center_lon  cluster  \n",
      "count       526.000000  526.000000  526.000000    526.0  \n",
      "mean         63.835298   37.541237  126.994245      1.0  \n",
      "std          21.133278    0.046968    0.083000      0.0  \n",
      "min          20.607642   37.451750  126.809200      1.0  \n",
      "25%          46.929032   37.501250  126.921200      1.0  \n",
      "50%          63.642179   37.537250  127.010800      1.0  \n",
      "75%          79.540405   37.568750  127.055600      1.0  \n",
      "max         100.000000   37.676750  127.173200      1.0  \n",
      "클러스터 지도 저장 완료: ../outputs/maps/kmeans_visualization.html\n"
     ]
    }
   ],
   "source": [
    "# 선택시항\n",
    "\n",
    "from utils.inspect_dataframe import inspect_dataframe\n",
    "from visualization.map_visualizer import visualize_cluster_map\n",
    "\n",
    "# 1. kmeans_grid_features.csv 특징\n",
    "inspect_dataframe(features, name=\"features\")\n",
    "\n",
    "# 2. kmeans 시각화 - 서울 전체 (회색) - 수요 (빨간색)\n",
    "visualize_cluster_map(\n",
    "    all_features_path=f\"{DATA_DIR}/grid_features.csv\",\n",
    "    filtered_features_path=f\"{OUTPUT_DIR}/kmeans_grid_features.csv\",\n",
    "    output_path=f\"../outputs/maps/kmeans_visualization.html\"\n",
    ")"
   ]
  },
  {
   "cell_type": "markdown",
   "id": "be9420f0",
   "metadata": {},
   "source": [
    "# XGBoost"
   ]
  },
  {
   "cell_type": "code",
   "execution_count": 98,
   "id": "4fd5b562",
   "metadata": {},
   "outputs": [
    {
     "name": "stdout",
     "output_type": "stream",
     "text": [
      "XGBoost 성능:\n",
      "MAE: 50.72\n",
      "RMSE: 81.40\n",
      "R²: 0.9826\n"
     ]
    }
   ],
   "source": [
    "from modeling.xgboost_model import train_and_predict\n",
    "\n",
    "# 학습 feature\n",
    "selected_features = [\n",
    "    'supply_score',\n",
    "    'station_count',\n",
    "    'commercial_count',\n",
    "    'supply_demand_ratio',\n",
    "    'population_density',\n",
    "    'accessibility_score',\n",
    "    'transport_score',\n",
    "    'cluster'\n",
    "]\n",
    "\n",
    "# 범주형 처리\n",
    "features['cluster'] = features['cluster'].astype('category')\n",
    "\n",
    "# XGBoost 학습 및 예측\n",
    "features_with_pred, metrics, model = train_and_predict(\n",
    "    df=features,\n",
    "    features=selected_features,\n",
    "    label='demand_score',\n",
    "    n_estimators=XGB_N_ESTIMATORS,\n",
    "    verbose=True\n",
    ")\n",
    "\n",
    "# 저장\n",
    "features_with_pred.to_csv(f\"{OUTPUT_DIR}/xgboost_grid_features.csv\", index=False)\n"
   ]
  },
  {
   "cell_type": "markdown",
   "id": "5cf9f9fe",
   "metadata": {},
   "source": [
    "# MCLP"
   ]
  },
  {
   "cell_type": "code",
   "execution_count": 109,
   "id": "4316305b",
   "metadata": {},
   "outputs": [
    {
     "name": "stdout",
     "output_type": "stream",
     "text": [
      "설치지 수: 208개\n",
      "커버 수요: 713,497.50 / 총 수요: 715,662.50\n",
      "커버율: 99.70%\n"
     ]
    }
   ],
   "source": [
    "from modeling.mclp_model import solve_mclp\n",
    "\n",
    "# 1. 설정\n",
    "COVERAGE_RADIUS_KM = 0.55  # 반경 550m\n",
    "\n",
    "# 2. MCLP 실행\n",
    "final_df, final_summary, _ = solve_mclp(\n",
    "    df=features_with_pred,\n",
    "    coverage_radius=COVERAGE_RADIUS_KM,  # 단위: km로 통일\n",
    "    facility_limit=demand_k,\n",
    "    demand_column='demand_score',\n",
    "    verbose=True\n",
    ")"
   ]
  },
  {
   "cell_type": "code",
   "execution_count": 100,
   "id": "0805a2d6",
   "metadata": {},
   "outputs": [],
   "source": [
    "# 3. 결과 저장\n",
    "final_df.to_csv(f\"{OUTPUT_DIR}/mclp_grid_features.csv\", index=False)                 # 전체 결과\n",
    "final_df[final_df['selected'] == 1].to_csv(f\"{OUTPUT_DIR}/mclp_selected_grid_features.csv\", index=False)  # 선택된 설치 위치만 저장"
   ]
  },
  {
   "cell_type": "code",
   "execution_count": 101,
   "id": "c4a2cf66",
   "metadata": {},
   "outputs": [
    {
     "name": "stdout",
     "output_type": "stream",
     "text": [
      "설치지 시각화 저장 완료: ../outputs/maps/mclp_result_map.html\n"
     ]
    }
   ],
   "source": [
    "# 선택사항 - mclp 후 지역 시각화\n",
    "\n",
    "from visualization.map_visualizer import visualize_selected_sites_map\n",
    "\n",
    "visualize_selected_sites_map(\n",
    "    features_path=f\"{OUTPUT_DIR}/mclp_grid_features.csv\",\n",
    "    output_path=f\"../outputs/maps/mclp_result_map.html\"\n",
    ")"
   ]
  },
  {
   "cell_type": "code",
   "execution_count": 102,
   "id": "47c8ed5f",
   "metadata": {},
   "outputs": [
    {
     "name": "stdout",
     "output_type": "stream",
     "text": [
      "설치 격자 수: 208\n",
      "전체 격자 수: 526\n",
      "설치 비율: 39.54%\n"
     ]
    }
   ],
   "source": [
    "import pandas as pd\n",
    "\n",
    "# MCLP 결과 데이터 로드\n",
    "df = pd.read_csv(f\"{OUTPUT_DIR}/mclp_grid_features.csv\")\n",
    "\n",
    "# 설치된 격자 수\n",
    "selected_count = df[df['selected'] == 1].shape[0]\n",
    "\n",
    "# 전체 격자 수\n",
    "total_count = df.shape[0]\n",
    "\n",
    "# 비율 계산\n",
    "ratio = selected_count / total_count * 100\n",
    "\n",
    "print(f\"설치 격자 수: {selected_count}\")\n",
    "print(f\"전체 격자 수: {total_count}\")\n",
    "print(f\"설치 비율: {ratio:.2f}%\")\n"
   ]
  },
  {
   "cell_type": "code",
   "execution_count": 103,
   "id": "c20fdc1b",
   "metadata": {},
   "outputs": [
    {
     "name": "stdout",
     "output_type": "stream",
     "text": [
      "서울 전체 기준 설치 비율: 3.45%\n"
     ]
    }
   ],
   "source": [
    "# 전체 서울 격자 수\n",
    "all_df = pd.read_csv(\"../data/processed/grid_features.csv\")\n",
    "all_total_count = all_df['grid_id'].nunique()\n",
    "\n",
    "# 설치 비율 (서울 전체 기준)\n",
    "real_ratio = selected_count / all_total_count * 100\n",
    "\n",
    "print(f\"서울 전체 기준 설치 비율: {real_ratio:.2f}%\")"
   ]
  },
  {
   "cell_type": "markdown",
   "id": "f752d41d",
   "metadata": {},
   "source": [
    "# 평가"
   ]
  },
  {
   "cell_type": "markdown",
   "id": "d22ee90e",
   "metadata": {},
   "source": [
    "## 설치 방식 비교 실험\n",
    "\n",
    "### 1. 실험 목적\n",
    "전기차 충전소 입지 선정 방식에 따라 **미래 수요 상위 지역을 얼마나 잘 커버하는지**를 비교한다.  \n",
    "수요 기반 알고리즘(MCLP, 클러스터링 등)이 **기존 설치 방식이나 무작위 설치 대비 얼마나 효율적인지** 확인하는 것이 목적이다.\n",
    "\n",
    "---\n",
    "\n",
    "### 2. 실험 방식\n",
    "\n",
    "- **수요 기준**: `future_demand_gridded.csv`의 adjusted_ev_demand 컬럼 기준\n",
    "- **상위 격자 수**: 전체 격자 중 상위 20%인 `demand_k = 47`개\n",
    "- **설치 방식별 선정 방식**:\n",
    "  - **기존 충전소 전체**: 서울시의 모든 기존 충전소 설치 격자\n",
    "  - **랜덤 설치**: 기존 충전소 중 무작위 47개 선택\n",
    "  - **클러스터 기반 설치**: KMeans 클러스터 격자 중 `demand_score` 상위 47개\n",
    "  - **MCLP 추천 설치**: KMeans → XGBoost → MCLP 로 구성된 복합 전략\n",
    "\n",
    "---\n",
    "\n",
    "### 3. 평가 지표\n",
    "\n",
    "- **포함된 격자 수**: 상위 47개 수요 격자 중 설치된 격자의 수\n",
    "- **커버 수요**: 해당 격자들이 커버한 수요 총합\n",
    "- **커버율 (%)**: `(커버 수요 / 전체 상위 수요) * 100`\n",
    "- **설치 효율**: `커버 수요 / 설치 격자 수`\n",
    "\n",
    "---\n",
    "\n",
    "### 4. 실험 결과\n",
    "\n",
    "| 설치 방식             | 포함 격자 수 | 커버 수요     | 전체 수요     | 커버율 (%) | 설치 효율 |\n",
    "|----------------------|--------------|---------------|---------------|-------------|------------|\n",
    "| 기존 충전소 전체      | 33 / 47      | 275,653.50    | 324,565.50    | 84.93       | 157.25     |\n",
    "| 랜덤 설치            | 0 / 47       | 0.00          | 324,565.50    | 0.00        | 0.00       |\n",
    "| 클러스터 기반 설치   | 1 / 47       | 6,103.50      | 324,565.50    | 1.88        | 129.86     |\n",
    "| MCLP 추천 설치       | 4 / 47       | 34,884.00     | 324,565.50    | 10.75       | 742.21     |\n",
    "\n",
    "---\n",
    "\n",
    "### 5. 분석 요약\n",
    "\n",
    "- **기존 충전소 전체**는 높은 커버율을 보이지만 설치 효율은 낮다.\n",
    "- **랜덤 설치**는 커버 수요가 전무하여 가장 비효율적이다.\n",
    "- **클러스터 기반 설치**는 예측 수요는 높았지만, 상위 수요 지역과 겹침이 적어 실효성이 낮다.\n",
    "- **MCLP 추천 설치**는 상대적으로 적은 수의 설치만으로도 높은 효율을 보이며, 전략적 입지 선정의 효과를 입증하였다."
   ]
  },
  {
   "cell_type": "code",
   "execution_count": 104,
   "id": "b9401724",
   "metadata": {},
   "outputs": [
    {
     "name": "stdout",
     "output_type": "stream",
     "text": [
      "상위 10% 격자 수 (demand_k): 208\n",
      "\n",
      "[기존 충전소 전체]\n",
      "- 포함된 격자 수: 185 / 상위 208개\n",
      "- 커버 수요: 236,210.50\n",
      "- 전체 수요: 250,031.30\n",
      "- 커버율: 94.47%\n",
      "- 설치 1개당 커버 수요 (효율): 134.75\n",
      "\n",
      "[랜덤 설치]\n",
      "- 포함된 격자 수: 17 / 상위 208개\n",
      "- 커버 수요: 20,161.80\n",
      "- 전체 수요: 250,031.30\n",
      "- 커버율: 8.06%\n",
      "- 설치 1개당 커버 수요 (효율): 108.40\n",
      "\n",
      "[클러스터 기반 설치]\n",
      "- 포함된 격자 수: 32 / 상위 208개\n",
      "- 커버 수요: 47,495.40\n",
      "- 전체 수요: 250,031.30\n",
      "- 커버율: 19.00%\n",
      "- 설치 1개당 커버 수요 (효율): 228.34\n",
      "\n",
      "[MCLP 추천 설치]\n",
      "- 포함된 격자 수: 33 / 상위 208개\n",
      "- 커버 수요: 42,180.00\n",
      "- 전체 수요: 250,031.30\n",
      "- 커버율: 16.87%\n",
      "- 설치 1개당 커버 수요 (효율): 202.79\n"
     ]
    }
   ],
   "source": [
    "import pandas as pd\n",
    "\n",
    "# 1. 데이터 로드\n",
    "stations = pd.read_csv(\"../data/processed/charging_stations_seoul_gridded.csv\")\n",
    "future_demand = pd.read_csv(\"../data/processed/future_demand_gridded_2.csv\")\n",
    "grid_features = pd.read_csv(\"../data/processed/grid_features.csv\")                 \n",
    "kmeans_features = pd.read_csv(\"../data/modeling/kmeans_grid_features.csv\")         # 클러스터 기반\n",
    "mclp_features = pd.read_csv(\"../data/modeling/mclp_selected_grid_features.csv\")    # MCLP 결과\n",
    "\n",
    "# 2. 전체 격자 중 adjusted_ev_demand 기준 상위 10% 추출\n",
    "demand_k = int(len(future_demand) * 0.10)\n",
    "top_k = future_demand.nlargest(demand_k, 'adjusted_ev_demand').copy()\n",
    "top_k_ids = set(top_k['grid_id'])\n",
    "\n",
    "print(f\"상위 10% 격자 수 (demand_k): {demand_k}\")\n",
    "\n",
    "# 3. 설치 방식별 격자 선택\n",
    "\n",
    "# 3-1. 기존 충전소 전체\n",
    "existing_grids = set(stations['grid_id'])\n",
    "\n",
    "# 3-2. 랜덤 설치: 기존 충전소가 설치된 격자 중 demand_k개 무작위 선택\n",
    "random_grids = set(stations.sample(n=demand_k, random_state=42)['grid_id'])\n",
    "\n",
    "# 3-3. 클러스터 기반 설치: KMeans 클러스터 내 격자들 중 demand_score 기준 상위 demand_k개\n",
    "cluster_sorted = kmeans_features.sort_values('demand_score', ascending=False)\n",
    "cluster_grids = set(cluster_sorted['grid_id'].dropna().head(demand_k))\n",
    "\n",
    "# 3-4. MCLP 추천 설치: selected == 1로 표시된 격자 모두 사용\n",
    "mclp_grids = set(mclp_features[mclp_features['selected'] == 1]['grid_id'])\n",
    "\n",
    "# 4. 평가 함수\n",
    "def evaluate_grid_overlap(top_k_df, selected_grids, label):\n",
    "    matched = top_k_ids & selected_grids\n",
    "    matched_count = len(matched)\n",
    "    matched_demand = top_k_df[top_k_df['grid_id'].isin(matched)]['adjusted_ev_demand'].sum()\n",
    "    total_demand = top_k_df['adjusted_ev_demand'].sum()\n",
    "    coverage_rate = matched_demand / total_demand * 100\n",
    "    efficiency = matched_demand / len(selected_grids) if selected_grids else 0\n",
    "\n",
    "    print(f\"\\n[{label}]\")\n",
    "    print(f\"- 포함된 격자 수: {matched_count} / 상위 {len(top_k_df)}개\")\n",
    "    print(f\"- 커버 수요: {matched_demand:,.2f}\")\n",
    "    print(f\"- 전체 수요: {total_demand:,.2f}\")\n",
    "    print(f\"- 커버율: {coverage_rate:.2f}%\")\n",
    "    print(f\"- 설치 1개당 커버 수요 (효율): {efficiency:,.2f}\")\n",
    "\n",
    "# 5. 평가 실행\n",
    "evaluate_grid_overlap(top_k, existing_grids, \"기존 충전소 전체\")\n",
    "evaluate_grid_overlap(top_k, random_grids, \"랜덤 설치\")\n",
    "evaluate_grid_overlap(top_k, cluster_grids, \"클러스터 기반 설치\")\n",
    "evaluate_grid_overlap(top_k, mclp_grids, \"MCLP 추천 설치\")"
   ]
  },
  {
   "cell_type": "markdown",
   "id": "eff41df2",
   "metadata": {},
   "source": [
    "# XX (기타)"
   ]
  },
  {
   "cell_type": "code",
   "execution_count": 14,
   "id": "0904c6dd",
   "metadata": {},
   "outputs": [
    {
     "name": "stdout",
     "output_type": "stream",
     "text": [
      "future_demand → grid_id 개수: 397\n",
      "grid_features → grid_id 개수: 6030\n",
      "kmeans_features → grid_id 개수: 526\n",
      "mclp_features → grid_id 개수: 89\n",
      "charging_stations → grid_id 개수: 1753\n"
     ]
    }
   ],
   "source": [
    "import pandas as pd\n",
    "\n",
    "# 파일 경로 지정\n",
    "paths = {\n",
    "    \"future_demand\": \"../data/processed/future_demand_gridded_2.csv\",\n",
    "    \"grid_features\": \"../data/processed/grid_features.csv\",\n",
    "    \"kmeans_features\": \"../data/modeling/kmeans_grid_features.csv\",\n",
    "    \"mclp_features\": \"../data/modeling/mclp_selected_grid_features.csv\",\n",
    "    \"charging_stations\": \"../data/processed/charging_stations_seoul_gridded.csv\"\n",
    "}\n",
    "\n",
    "# 결과 출력\n",
    "for name, path in paths.items():\n",
    "    df = pd.read_csv(path)\n",
    "    n = df['grid_id'].nunique()\n",
    "    print(f\"{name} → grid_id 개수: {n}\")"
   ]
  },
  {
   "cell_type": "code",
   "execution_count": 15,
   "id": "9656044c",
   "metadata": {},
   "outputs": [
    {
     "name": "stdout",
     "output_type": "stream",
     "text": [
      "        grid_id  demand_score  adjusted_ev_demand  log_future  norm_current  \\\n",
      "0  GRID_010_036         425.0               474.8    6.164998      0.127954   \n",
      "1  GRID_010_037         118.5               587.5    6.377577      0.035677   \n",
      "2  GRID_011_036        1372.5              1306.1    7.175566      0.413217   \n",
      "3  GRID_011_038         328.0               759.5    6.633976      0.098751   \n",
      "4  GRID_012_033          79.5                 0.1    0.095310      0.023935   \n",
      "\n",
      "   norm_log_future  final_score  center_lat  center_lon  \n",
      "0         0.694958     0.354756    37.44725    126.9044  \n",
      "1         0.718921     0.308974    37.44725    126.9100  \n",
      "2         0.808875     0.571480    37.45175    126.9044  \n",
      "3         0.747824     0.358380    37.45175    126.9156  \n",
      "4         0.010744     0.018659    37.45625    126.8876  \n"
     ]
    }
   ],
   "source": [
    "import pandas as pd\n",
    "\n",
    "# 데이터 불러오기\n",
    "future = pd.read_csv(\"../data/processed/future_demand_gridded_2.csv\")\n",
    "grid = pd.read_csv(\"../data/processed/grid_features.csv\")  # center_lat, center_lon 포함\n",
    "\n",
    "# 병합 (좌표 추가)\n",
    "merged = future.merge(grid[['grid_id', 'center_lat', 'center_lon']], on='grid_id', how='left')\n",
    "\n",
    "# 확인\n",
    "print(merged.head())\n",
    "\n",
    "# 저장 (선택)\n",
    "merged.to_csv(\"../data/processed/future_demand_gridded_2_with_coords.csv\", index=False)"
   ]
  },
  {
   "cell_type": "code",
   "execution_count": 16,
   "id": "5587f8f9",
   "metadata": {},
   "outputs": [
    {
     "name": "stdout",
     "output_type": "stream",
     "text": [
      "✅ 지도 저장 완료: ../outputs/maps/all_grids_combined_map.html\n"
     ]
    }
   ],
   "source": [
    "import pandas as pd\n",
    "import folium\n",
    "\n",
    "# 1. 파일 경로 및 컬럼 정보 정의\n",
    "datasets = {\n",
    "    \"future_demand\": {\n",
    "        \"path\": \"../data/processed/future_demand_gridded_2_with_coords.csv\",\n",
    "        \"lat\": \"center_lat\",\n",
    "        \"lon\": \"center_lon\",\n",
    "        \"color\": \"green\"\n",
    "    },\n",
    "    \"grid_features\": {\n",
    "        \"path\": \"../data/processed/grid_features.csv\",\n",
    "        \"lat\": \"center_lat\",\n",
    "        \"lon\": \"center_lon\",\n",
    "        \"color\": \"gray\"\n",
    "    },\n",
    "    \"kmeans_features\": {\n",
    "        \"path\": \"../data/modeling/kmeans_grid_features.csv\",\n",
    "        \"lat\": \"center_lat\",\n",
    "        \"lon\": \"center_lon\",\n",
    "        \"color\": \"blue\"\n",
    "    },\n",
    "    \"mclp_features\": {\n",
    "        \"path\": \"../data/modeling/mclp_selected_grid_features.csv\",\n",
    "        \"lat\": \"center_lat\",\n",
    "        \"lon\": \"center_lon\",\n",
    "        \"color\": \"red\"\n",
    "    },\n",
    "    \"charging_stations\": {\n",
    "        \"path\": \"../data/processed/charging_stations_seoul_gridded.csv\",\n",
    "        \"lat\": \"위도\",\n",
    "        \"lon\": \"경도\",\n",
    "        \"color\": \"purple\"\n",
    "    }\n",
    "}\n",
    "\n",
    "# 2. 지도 초기화\n",
    "m = folium.Map(location=[37.5665, 126.9780], zoom_start=11)\n",
    "\n",
    "# 3. 각 데이터셋을 지도에 추가\n",
    "for name, info in datasets.items():\n",
    "    df = pd.read_csv(info[\"path\"])\n",
    "    lat_col = info[\"lat\"]\n",
    "    lon_col = info[\"lon\"]\n",
    "    color = info[\"color\"]\n",
    "\n",
    "    layer = folium.FeatureGroup(name=name, show=True)\n",
    "\n",
    "    for _, row in df.iterrows():\n",
    "        folium.CircleMarker(\n",
    "            location=[row[lat_col], row[lon_col]],\n",
    "            radius=3,\n",
    "            color=color,\n",
    "            fill=True,\n",
    "            fill_opacity=0.5,\n",
    "            popup=f\"{name}: {row.get('grid_id', 'N/A')}\"\n",
    "        ).add_to(layer)\n",
    "\n",
    "    layer.add_to(m)\n",
    "\n",
    "# 4. 레이어 컨트롤 추가 및 저장\n",
    "folium.LayerControl().add_to(m)\n",
    "m.save(\"../outputs/maps/all_grids_combined_map.html\")\n",
    "print(\"✅ 지도 저장 완료: ../outputs/maps/all_grids_combined_map.html\")"
   ]
  },
  {
   "cell_type": "code",
   "execution_count": 105,
   "id": "54ce32d2",
   "metadata": {},
   "outputs": [
    {
     "name": "stdout",
     "output_type": "stream",
     "text": [
      "\n",
      "[기존 충전소 전체]\n",
      "- 설치 수: 1753\n",
      "- 커버 격자 수: 183 / 188\n",
      "- 커버 수요: 191075.20 / 전체 수요: 196501.50\n",
      "- 커버율: 97.24%\n",
      "- 설치 효율 (1개당 수요): 109.00\n",
      "\n",
      "[랜덤 설치]\n",
      "- 설치 수: 186\n",
      "- 커버 격자 수: 18 / 188\n",
      "- 커버 수요: 14040.30 / 전체 수요: 196501.50\n",
      "- 커버율: 7.15%\n",
      "- 설치 효율 (1개당 수요): 75.49\n",
      "\n",
      "[클러스터 기반 설치]\n",
      "- 설치 수: 208\n",
      "- 커버 격자 수: 69 / 188\n",
      "- 커버 수요: 62129.10 / 전체 수요: 196501.50\n",
      "- 커버율: 31.62%\n",
      "- 설치 효율 (1개당 수요): 298.70\n",
      "\n",
      "[MCLP 추천 설치]\n",
      "- 설치 수: 208\n",
      "- 커버 격자 수: 56 / 188\n",
      "- 커버 수요: 54157.50 / 전체 수요: 196501.50\n",
      "- 커버율: 27.56%\n",
      "- 설치 효율 (1개당 수요): 260.37\n"
     ]
    }
   ],
   "source": [
    "# 1. 평가 대상 불러오기\n",
    "future_demand = pd.read_csv(\"../data/processed/future_demand_gridded_2.csv\")\n",
    "stations = pd.read_csv(\"../data/processed/charging_stations_seoul_gridded.csv\")\n",
    "kmeans = pd.read_csv(\"../data/modeling/kmeans_grid_features.csv\")\n",
    "mclp = pd.read_csv(\"../data/modeling/mclp_selected_grid_features.csv\")\n",
    "\n",
    "# 2. 상위 20% 격자 추출\n",
    "demand_k = int(len(future_demand) * 0.10)\n",
    "top_k = future_demand.nlargest(demand_k, 'final_score')\n",
    "top_k_ids = set(top_k['grid_id'])\n",
    "\n",
    "# 3. 전략별 설치 격자 추출\n",
    "strategy_grids = {\n",
    "    \"기존 충전소 전체\": set(stations['grid_id']),\n",
    "    \"랜덤 설치\": set(stations.sample(n=demand_k, random_state=42)['grid_id']),\n",
    "    \"클러스터 기반 설치\": set(kmeans.sort_values('demand_score', ascending=False)['grid_id'].dropna().head(demand_k)),\n",
    "    \"MCLP 추천 설치\": set(mclp[mclp['selected'] == 1]['grid_id'])\n",
    "}\n",
    "\n",
    "# 4. 공통 평가 함수 (모두 격자 기준)\n",
    "def evaluate_strategy(name, selected_grids):\n",
    "    matched = top_k_ids & selected_grids\n",
    "    matched_demand = top_k[top_k['grid_id'].isin(matched)]['adjusted_ev_demand'].sum()\n",
    "    total_demand = top_k['adjusted_ev_demand'].sum()\n",
    "    efficiency = matched_demand / len(selected_grids) if selected_grids else 0\n",
    "\n",
    "    print(f\"\\n[{name}]\")\n",
    "    print(f\"- 설치 수: {len(selected_grids)}\")\n",
    "    print(f\"- 커버 격자 수: {len(matched)} / {len(top_k_ids)}\")\n",
    "    print(f\"- 커버 수요: {matched_demand:.2f} / 전체 수요: {total_demand:.2f}\")\n",
    "    print(f\"- 커버율: {matched_demand / total_demand * 100:.2f}%\")\n",
    "    print(f\"- 설치 효율 (1개당 수요): {efficiency:.2f}\")\n",
    "\n",
    "# 5. 실행\n",
    "for name, grid_ids in strategy_grids.items():\n",
    "    evaluate_strategy(name, grid_ids)\n"
   ]
  },
  {
   "cell_type": "code",
   "execution_count": 79,
   "id": "645870eb",
   "metadata": {},
   "outputs": [
    {
     "name": "stdout",
     "output_type": "stream",
     "text": [
      "top_k grid_id 수: 188\n",
      "MCLP 파일 내 포함된 grid_id 수: 56\n",
      "누락된 grid_id 목록: {'GRID_018_040', 'GRID_023_073', 'GRID_022_075', 'GRID_033_039', 'GRID_017_033', 'GRID_034_039', 'GRID_029_076', 'GRID_029_052', 'GRID_032_063', 'GRID_020_051', 'GRID_023_058', 'GRID_023_032', 'GRID_036_026', 'GRID_030_046', 'GRID_038_050', 'GRID_039_066', 'GRID_048_038', 'GRID_042_067', 'GRID_018_076', 'GRID_024_058', 'GRID_036_052', 'GRID_032_066', 'GRID_029_077', 'GRID_033_079', 'GRID_029_054', 'GRID_024_043', 'GRID_022_033', 'GRID_028_048', 'GRID_026_062', 'GRID_022_060', 'GRID_019_044', 'GRID_027_033', 'GRID_019_037', 'GRID_021_040', 'GRID_022_040', 'GRID_022_035', 'GRID_028_035', 'GRID_059_060', 'GRID_037_052', 'GRID_035_067', 'GRID_035_027', 'GRID_034_045', 'GRID_056_065', 'GRID_030_030', 'GRID_046_057', 'GRID_035_049', 'GRID_015_042', 'GRID_026_030', 'GRID_038_018', 'GRID_023_063', 'GRID_054_057', 'GRID_037_036', 'GRID_018_049', 'GRID_024_074', 'GRID_042_063', 'GRID_018_050', 'GRID_028_034', 'GRID_029_068', 'GRID_044_040', 'GRID_019_060', 'GRID_036_040', 'GRID_036_057', 'GRID_035_028', 'GRID_044_067', 'GRID_020_058', 'GRID_036_050', 'GRID_045_070', 'GRID_057_065', 'GRID_049_064', 'GRID_018_054', 'GRID_025_037', 'GRID_020_059', 'GRID_015_062', 'GRID_044_072', 'GRID_026_057', 'GRID_032_078', 'GRID_032_043', 'GRID_028_028', 'GRID_058_065', 'GRID_019_040', 'GRID_018_034', 'GRID_026_025', 'GRID_034_028', 'GRID_039_048', 'GRID_032_030', 'GRID_020_075', 'GRID_030_077', 'GRID_037_065', 'GRID_020_055', 'GRID_023_072', 'GRID_056_062', 'GRID_028_029', 'GRID_018_043', 'GRID_029_025', 'GRID_033_077', 'GRID_019_041', 'GRID_025_062', 'GRID_026_041', 'GRID_014_034', 'GRID_028_075', 'GRID_033_038', 'GRID_021_066', 'GRID_026_033', 'GRID_021_051', 'GRID_019_032', 'GRID_037_020', 'GRID_017_032', 'GRID_045_039', 'GRID_023_069', 'GRID_044_069', 'GRID_023_044', 'GRID_032_045', 'GRID_031_070', 'GRID_021_080', 'GRID_016_050', 'GRID_030_079', 'GRID_038_051', 'GRID_034_049', 'GRID_020_033', 'GRID_042_038', 'GRID_026_056', 'GRID_046_059', 'GRID_031_068', 'GRID_037_057', 'GRID_043_068', 'GRID_014_071', 'GRID_058_059', 'GRID_062_063', 'GRID_020_031', 'GRID_030_075', 'GRID_047_067', 'GRID_025_072'}\n"
     ]
    }
   ],
   "source": [
    "# 평가 기준 (top_k)\n",
    "top_k_ids = set(top_k['grid_id'])\n",
    "\n",
    "# 예: MCLP 결과\n",
    "mclp = pd.read_csv(\"../data/modeling/mclp_selected_grid_features.csv\")\n",
    "selected_ids = set(mclp[mclp['selected'] == 1]['grid_id'])\n",
    "\n",
    "# 평가 대상에서 실제로 존재하는 grid_id\n",
    "actual_ids_in_mclp = top_k_ids & set(mclp['grid_id'])\n",
    "\n",
    "print(\"top_k grid_id 수:\", len(top_k_ids))  # 89\n",
    "print(\"MCLP 파일 내 포함된 grid_id 수:\", len(actual_ids_in_mclp))  # 76? 77?\n",
    "print(\"누락된 grid_id 목록:\", top_k_ids - set(mclp['grid_id']))"
   ]
  },
  {
   "cell_type": "code",
   "execution_count": null,
   "id": "bec8bd9f",
   "metadata": {},
   "outputs": [],
   "source": []
  }
 ],
 "metadata": {
  "kernelspec": {
   "display_name": "25bigdata",
   "language": "python",
   "name": "python3"
  },
  "language_info": {
   "codemirror_mode": {
    "name": "ipython",
    "version": 3
   },
   "file_extension": ".py",
   "mimetype": "text/x-python",
   "name": "python",
   "nbconvert_exporter": "python",
   "pygments_lexer": "ipython3",
   "version": "3.10.13"
  }
 },
 "nbformat": 4,
 "nbformat_minor": 5
}
