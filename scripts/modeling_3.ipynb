{
 "cells": [
  {
   "cell_type": "code",
   "execution_count": 12,
   "id": "938aa384",
   "metadata": {},
   "outputs": [
    {
     "name": "stdout",
     "output_type": "stream",
     "text": [
      "The autoreload extension is already loaded. To reload it, use:\n",
      "  %reload_ext autoreload\n"
     ]
    },
    {
     "name": "stderr",
     "output_type": "stream",
     "text": [
      "[autoreload of modeling.kmeans_model failed: Traceback (most recent call last):\n",
      "  File \"/opt/anaconda3/envs/25bigdata/lib/python3.10/site-packages/IPython/extensions/autoreload.py\", line 276, in check\n",
      "    superreload(m, reload, self.old_objects)\n",
      "  File \"/opt/anaconda3/envs/25bigdata/lib/python3.10/site-packages/IPython/extensions/autoreload.py\", line 475, in superreload\n",
      "    module = reload(module)\n",
      "  File \"/opt/anaconda3/envs/25bigdata/lib/python3.10/importlib/__init__.py\", line 169, in reload\n",
      "    _bootstrap._exec(spec, module)\n",
      "  File \"<frozen importlib._bootstrap>\", line 619, in _exec\n",
      "  File \"<frozen importlib._bootstrap_external>\", line 883, in exec_module\n",
      "  File \"<frozen importlib._bootstrap>\", line 241, in _call_with_frames_removed\n",
      "  File \"/Users/masterj/Documents/GitHub/2025-1-Big-Data-Programming/src/modeling/kmeans_model.py\", line 2, in <module>\n",
      "    df: pd.DataFrame,\n",
      "NameError: name 'pd' is not defined\n",
      "]\n"
     ]
    }
   ],
   "source": [
    "# 📌 외부 py 파일 수정 시 자동으로 재로드되도록 설정\n",
    "%load_ext autoreload\n",
    "%autoreload 2"
   ]
  },
  {
   "cell_type": "code",
   "execution_count": 15,
   "id": "6bf30b09",
   "metadata": {},
   "outputs": [],
   "source": [
    "# ================================================\n",
    "# 📦 공통 패키지 import\n",
    "# ================================================\n",
    "import pandas as pd\n",
    "import numpy as np\n",
    "import matplotlib.pyplot as plt\n",
    "import seaborn as sns\n",
    "from tqdm import tqdm\n",
    "import os\n",
    "import sys\n",
    "\n",
    "# src 경로 추가\n",
    "PROJECT_ROOT = os.path.abspath(os.path.join(\"..\"))\n",
    "SRC_DIR = os.path.join(PROJECT_ROOT, \"src\")\n",
    "if SRC_DIR not in sys.path:\n",
    "    sys.path.append(SRC_DIR)\n",
    "\n",
    "# seaborn 스타일 설정\n",
    "sns.set(style=\"whitegrid\")\n",
    "\n",
    "# ================================================\n",
    "# ⚙️ 경로 및 상수 설정\n",
    "# ================================================\n",
    "DATA_DIR = \"../data/processed\"\n",
    "OUTPUT_DIR = \"../data/modeling\"\n",
    "SEOUL_STATION_PATH = os.path.join(DATA_DIR, \"seoul_env_station_mapped.csv\")\n",
    "\n",
    "os.makedirs(OUTPUT_DIR, exist_ok=True)\n",
    "\n",
    "# KMeans 설정\n",
    "KMEANS_MODE = \"auto\" # auto, manual\n",
    "KMEANS_MANUAL_K = 5\n",
    "\n",
    "# XGBoost 설정\n",
    "XGB_N_ESTIMATORS = 100\n",
    "\n",
    "# MCLP 설정\n",
    "COVERAGE_RADIUS = 0.005\n",
    "FACILITY_LIMIT = 30\n",
    "\n",
    "# ================================================\n",
    "# 🧪 평가 함수 import\n",
    "# ================================================\n",
    "from evaluation.baseline_evaluator import (\n",
    "    evaluate_existing_stations,\n",
    "    evaluate_random_installation,\n",
    "    evaluate_cluster_centers,\n",
    "    evaluate_mclp_result\n",
    ")\n",
    "\n",
    "# ================================================\n",
    "# 🧠 모델 함수 import\n",
    "# ================================================\n",
    "from modeling.kmeans_model import run_kmeans"
   ]
  },
  {
   "cell_type": "markdown",
   "id": "08099638",
   "metadata": {},
   "source": [
    "# K means"
   ]
  },
  {
   "cell_type": "code",
   "execution_count": 16,
   "id": "5438fbcc",
   "metadata": {},
   "outputs": [
    {
     "name": "stderr",
     "output_type": "stream",
     "text": [
      "Finding optimal k:   0%|          | 0/9 [00:00<?, ?it/s]"
     ]
    },
    {
     "name": "stderr",
     "output_type": "stream",
     "text": [
      "Finding optimal k: 100%|██████████| 9/9 [00:00<00:00, 17.88it/s]\n"
     ]
    },
    {
     "name": "stdout",
     "output_type": "stream",
     "text": [
      "[AUTO MODE] 최적 k = 2\n",
      "Inertia by k: {2: 394878040.6060905, 3: 182752136.79175264, 4: 111630868.37625772, 5: 83130803.13068569, 6: 65292788.3815513, 7: 54917904.7908943, 8: 48181642.39693806, 9: 36633734.731904596, 10: 32347245.131689377}\n",
      "\n",
      "[Cluster별 평균 수요]\n",
      "cluster\n",
      "1    1360.575095\n",
      "0      57.366915\n",
      "Name: demand_score, dtype: float64\n",
      "\n",
      "[필터링] 수요가 가장 높은 클러스터 (cluster=1)만 반환됨.\n"
     ]
    }
   ],
   "source": [
    "# 데이터 로드\n",
    "grid = pd.read_csv(f\"{DATA_DIR}/grid_system_processed.csv\")\n",
    "\n",
    "# 수요가 가장 높은 클러스터만 추출\n",
    "grid = run_kmeans(\n",
    "    grid,\n",
    "    mode=KMEANS_MODE,\n",
    "    # manual_k=KMEANS_MANUAL_K,\n",
    "    return_top_cluster_only=True\n",
    ")"
   ]
  },
  {
   "cell_type": "code",
   "execution_count": 17,
   "id": "ab1a871f",
   "metadata": {},
   "outputs": [
    {
     "name": "stdout",
     "output_type": "stream",
     "text": [
      "전체 feature 수: 6030\n",
      "수요 밀집 클러스터 feature 수: 526\n",
      "병합 후 유지된 비율: 8.72%\n",
      "사용 가능한 feature 컬럼: ['grid_id', 'center_lat_x', 'center_lon_x', 'demand_score', 'supply_score', 'commercial_count', 'station_count', 'supply_demand_ratio', 'population_density', 'accessibility_score', 'transport_score', 'center_lat_y', 'center_lon_y', 'cluster']\n"
     ]
    }
   ],
   "source": [
    "# 필요한 컬럼만 유지\n",
    "grid = grid[['grid_id', 'center_lat', 'center_lon', 'cluster']]\n",
    "\n",
    "# grid_features.csv 로드\n",
    "features_all = pd.read_csv(f\"{DATA_DIR}/grid_features.csv\")\n",
    "\n",
    "# KMeans로 추출한 수요 밀집 클러스터와 병합 (grid_id 기준)\n",
    "features = features_all.merge(grid, on='grid_id', how='inner')\n",
    "\n",
    "# cluster 정수형 처리 (모델 입력을 위해)\n",
    "features['cluster'] = features['cluster'].astype(int)\n",
    "\n",
    "# 확인\n",
    "print(f\"전체 feature 수: {len(features_all)}\")\n",
    "print(f\"수요 밀집 클러스터 feature 수: {len(features)}\")\n",
    "print(f\"병합 후 유지된 비율: {len(features) / len(features_all) * 100:.2f}%\")\n",
    "print(f\"사용 가능한 feature 컬럼: {features.columns.tolist()}\")"
   ]
  },
  {
   "cell_type": "markdown",
   "id": "be9420f0",
   "metadata": {},
   "source": [
    "# XGBoost"
   ]
  },
  {
   "cell_type": "code",
   "execution_count": 20,
   "id": "4fd5b562",
   "metadata": {},
   "outputs": [
    {
     "name": "stdout",
     "output_type": "stream",
     "text": [
      "결측치 제거 후 학습 데이터 수: 526\n",
      "📊 XGBoost 성능:\n",
      "MAE: 51.13\n",
      "RMSE: 81.49\n",
      "R²: 0.9826\n"
     ]
    },
    {
     "name": "stderr",
     "output_type": "stream",
     "text": [
      "/Users/masterj/Documents/GitHub/2025-1-Big-Data-Programming/src/modeling/xgboost_model.py:69: UserWarning: Glyph 128269 (\\N{LEFT-POINTING MAGNIFYING GLASS}) missing from font(s) Arial.\n",
      "  plt.tight_layout()\n",
      "/opt/anaconda3/envs/25bigdata/lib/python3.10/site-packages/IPython/core/pylabtools.py:170: UserWarning: Glyph 128269 (\\N{LEFT-POINTING MAGNIFYING GLASS}) missing from font(s) Arial.\n",
      "  fig.canvas.print_figure(bytes_io, **kw)\n"
     ]
    },
    {
     "data": {
      "image/png": "[encoded data removed]",
      "text/plain": [
       "<Figure size 640x480 with 1 Axes>"
      ]
     },
     "metadata": {},
     "output_type": "display_data"
    },
    {
     "name": "stdout",
     "output_type": "stream",
     "text": [
      "✅ XGBoost 예측 성능: {'MAE': 51.13, 'RMSE': 81.49, 'R2': 0.9826}\n"
     ]
    }
   ],
   "source": [
    "from modeling.xgboost_model import train_and_predict\n",
    "\n",
    "# 🔍 성능 향상을 위한 feature 확장\n",
    "selected_features = [\n",
    "    'supply_score', 'station_count', 'commercial_count',\n",
    "    'supply_demand_ratio', 'population_density',\n",
    "    'accessibility_score', 'transport_score',\n",
    "    'cluster'\n",
    "]\n",
    "\n",
    "# 결측치 로그\n",
    "valid_rows = features.dropna(subset=selected_features + ['demand_score'])\n",
    "print(f\"결측치 제거 후 학습 데이터 수: {len(valid_rows)}\")\n",
    "\n",
    "# XGBoost 학습 및 예측\n",
    "features, metrics = train_and_predict(\n",
    "    df=features,\n",
    "    features=selected_features,\n",
    "    label='demand_score',                # ← 기존 target_column -> label로 바뀜\n",
    "    n_estimators=XGB_N_ESTIMATORS,\n",
    "    verbose=True                         # ← 성능 지표와 중요도 시각화 보기\n",
    ")\n",
    "\n",
    "# 예측 결과 존재 여부 확인\n",
    "assert 'predicted_demand_score' in features.columns, \"예측 결과 칼럼 누락\"\n",
    "\n",
    "# 저장\n",
    "features.to_csv(f\"{DATA_DIR}/grid_features_with_prediction.csv\", index=False)\n",
    "pd.DataFrame([metrics]).to_csv(f\"{OUTPUT_DIR}/xgboost_metrics.csv\", index=False)\n",
    "\n",
    "print(\"✅ XGBoost 예측 성능:\", metrics)"
   ]
  },
  {
   "cell_type": "markdown",
   "id": "5cf9f9fe",
   "metadata": {},
   "source": [
    "# MCLP"
   ]
  },
  {
   "cell_type": "code",
   "execution_count": 21,
   "id": "bc2a69b7",
   "metadata": {},
   "outputs": [
    {
     "name": "stderr",
     "output_type": "stream",
     "text": [
      "📍 커버리지 행렬 생성: 100%|██████████| 526/526 [00:21<00:00, 24.56it/s]\n",
      "🧩 제약조건 생성 중: 100%|██████████| 526/526 [00:00<00:00, 26577.57it/s]\n"
     ]
    },
    {
     "name": "stdout",
     "output_type": "stream",
     "text": [
      "Welcome to the CBC MILP Solver \n",
      "Version: 2.10.3 \n",
      "Build Date: Dec 15 2019 \n",
      "\n",
      "command line - /opt/anaconda3/envs/25bigdata/lib/python3.10/site-packages/pulp/apis/../solverdir/cbc/osx/i64/cbc /var/folders/g0/wf5k560d45g5_rq_z1jbdpq40000gn/T/d2041742f9954f2fab35e7b37d88e7fe-pulp.mps -max -timeMode elapsed -branch -printingOptions all -solution /var/folders/g0/wf5k560d45g5_rq_z1jbdpq40000gn/T/d2041742f9954f2fab35e7b37d88e7fe-pulp.sol (default strategy 1)\n",
      "At line 2 NAME          MODEL\n",
      "At line 3 ROWS\n",
      "At line 532 COLUMNS\n",
      "At line 5817 RHS\n",
      "At line 6345 BOUNDS\n",
      "At line 7398 ENDATA\n",
      "Problem MODEL has 527 rows, 1052 columns and 2654 elements\n",
      "Coin0008I MODEL read with 0 errors\n",
      "Option for timeMode changed from cpu to elapsed\n",
      "Continuous objective value is 275612 - 0.01 seconds\n",
      "Cgl0004I processed model has 476 rows, 985 columns (985 integer (969 of which binary)) and 2504 elements\n",
      "Cbc0038I Initial state - 51 integers unsatisfied sum - 13.8182\n",
      "Cbc0038I Pass   1: suminf.    0.00000 (0) obj. -270146 iterations 390\n",
      "Cbc0038I Solution found of -270146\n",
      "Cbc0038I Cleaned solution of -270146\n",
      "Cbc0038I Rounding solution of -271272 is better than previous of -270146\n",
      "\n",
      "Cbc0038I Before mini branch and bound, 932 integers at bound fixed and 0 continuous\n",
      "Cbc0038I Full problem 476 rows 985 columns, reduced to 29 rows 30 columns\n",
      "Cbc0038I Mini branch and bound improved solution from -271272 to -272601 (0.03 seconds)\n",
      "Cbc0038I Round again with cutoff of -272902\n",
      "Cbc0038I Reduced cost fixing fixed 175 variables on major pass 2\n",
      "Cbc0038I Pass   2: suminf.    5.16547 (16) obj. -272902 iterations 226\n",
      "Cbc0038I Pass   3: suminf.    2.69818 (11) obj. -272902 iterations 109\n",
      "Cbc0038I Pass   4: suminf.    0.00000 (0) obj. -273185 iterations 382\n",
      "Cbc0038I Solution found of -273185\n",
      "Cbc0038I Cleaned solution of -273185\n",
      "Cbc0038I Before mini branch and bound, 932 integers at bound fixed and 0 continuous\n",
      "Cbc0038I Full problem 476 rows 985 columns, reduced to 29 rows 30 columns\n",
      "Cbc0038I Mini branch and bound did not improve solution (0.05 seconds)\n",
      "Cbc0038I Round again with cutoff of -273670\n",
      "Cbc0038I Reduced cost fixing fixed 257 variables on major pass 3\n",
      "Cbc0038I Pass   5: suminf.    6.38611 (28) obj. -273670 iterations 85\n",
      "Cbc0038I Pass   6: suminf.    6.38433 (34) obj. -273670 iterations 24\n",
      "Cbc0038I Pass   7: suminf.    8.32112 (26) obj. -273670 iterations 20\n",
      "Cbc0038I Pass   8: suminf.    5.36250 (24) obj. -273670 iterations 35\n",
      "Cbc0038I Pass   9: suminf.    2.58732 (20) obj. -273670 iterations 31\n",
      "Cbc0038I Pass  10: suminf.    2.58732 (20) obj. -273670 iterations 1\n",
      "Cbc0038I Pass  11: suminf.    4.55510 (13) obj. -273670 iterations 60\n",
      "Cbc0038I Pass  12: suminf.    0.79224 (14) obj. -273670 iterations 296\n",
      "Cbc0038I Pass  13: suminf.    0.53606 (48) obj. -273670 iterations 27\n",
      "Cbc0038I Pass  14: suminf.    2.58732 (20) obj. -273670 iterations 33\n",
      "Cbc0038I Pass  15: suminf.    2.58732 (20) obj. -273670 iterations 13\n",
      "Cbc0038I Pass  16: suminf.    6.45698 (19) obj. -273670 iterations 60\n",
      "Cbc0038I Pass  17: suminf.    4.24358 (13) obj. -273670 iterations 154\n",
      "Cbc0038I Pass  18: suminf.    0.79224 (14) obj. -273670 iterations 97\n",
      "Cbc0038I Pass  19: suminf.    0.53606 (48) obj. -273670 iterations 74\n",
      "Cbc0038I Pass  20: suminf.    7.47898 (43) obj. -273670 iterations 40\n",
      "Cbc0038I Pass  21: suminf.    6.60684 (38) obj. -273670 iterations 13\n",
      "Cbc0038I Pass  22: suminf.    6.60684 (38) obj. -273670 iterations 0\n",
      "Cbc0038I Pass  23: suminf.    0.13373 (17) obj. -273670 iterations 33\n",
      "Cbc0038I Solution found of -273701\n",
      "Cbc0038I Cleaned solution of -273701\n",
      "Cbc0038I Before mini branch and bound, 924 integers at bound fixed and 0 continuous\n",
      "Cbc0038I Full problem 476 rows 985 columns, reduced to 34 rows 41 columns\n",
      "Cbc0038I Mini branch and bound improved solution from -273701 to -274011 (0.08 seconds)\n",
      "Cbc0038I Round again with cutoff of -274491\n",
      "Cbc0038I Reduced cost fixing fixed 359 variables on major pass 4\n",
      "Cbc0038I Pass  24: suminf.    9.54200 (30) obj. -274491 iterations 76\n",
      "Cbc0038I Pass  25: suminf.    8.60456 (28) obj. -274491 iterations 74\n",
      "Cbc0038I Pass  26: suminf.   11.28167 (37) obj. -274491 iterations 31\n",
      "Cbc0038I Pass  27: suminf.    7.90823 (40) obj. -274491 iterations 21\n",
      "Cbc0038I Pass  28: suminf.    6.11634 (38) obj. -274491 iterations 15\n",
      "Cbc0038I Pass  29: suminf.    6.11634 (38) obj. -274491 iterations 0\n",
      "Cbc0038I Pass  30: suminf.    6.11634 (38) obj. -274491 iterations 3\n",
      "Cbc0038I Pass  31: suminf.    7.78469 (33) obj. -274491 iterations 30\n",
      "Cbc0038I Pass  32: suminf.    8.80824 (35) obj. -274491 iterations 46\n",
      "Cbc0038I Pass  33: suminf.    8.34572 (34) obj. -274491 iterations 36\n",
      "Cbc0038I Pass  34: suminf.    8.32900 (32) obj. -274491 iterations 12\n",
      "Cbc0038I Pass  35: suminf.    9.04927 (32) obj. -274491 iterations 26\n",
      "Cbc0038I Pass  36: suminf.    6.69251 (33) obj. -274491 iterations 9\n",
      "Cbc0038I Pass  37: suminf.    6.59483 (48) obj. -274491 iterations 29\n",
      "Cbc0038I Pass  38: suminf.    6.60276 (43) obj. -274491 iterations 10\n",
      "Cbc0038I Pass  39: suminf.    7.08813 (15) obj. -274491 iterations 23\n",
      "Cbc0038I Pass  40: suminf.    6.76454 (21) obj. -274491 iterations 22\n",
      "Cbc0038I Pass  41: suminf.    6.59483 (48) obj. -274491 iterations 19\n",
      "Cbc0038I Pass  42: suminf.    6.40966 (35) obj. -274491 iterations 26\n",
      "Cbc0038I Pass  43: suminf.    6.11634 (38) obj. -274491 iterations 23\n",
      "Cbc0038I Pass  44: suminf.    6.11634 (38) obj. -274491 iterations 1\n",
      "Cbc0038I Pass  45: suminf.   11.31779 (42) obj. -274491 iterations 41\n",
      "Cbc0038I Pass  46: suminf.   11.26618 (47) obj. -274491 iterations 35\n",
      "Cbc0038I Pass  47: suminf.   11.26618 (47) obj. -274491 iterations 14\n",
      "Cbc0038I Pass  48: suminf.   12.72758 (41) obj. -274491 iterations 22\n",
      "Cbc0038I Pass  49: suminf.   12.36251 (41) obj. -274491 iterations 82\n",
      "Cbc0038I Pass  50: suminf.   12.53106 (41) obj. -274491 iterations 62\n",
      "Cbc0038I Pass  51: suminf.   12.53106 (41) obj. -274491 iterations 29\n",
      "Cbc0038I Pass  52: suminf.   12.97777 (41) obj. -274491 iterations 34\n",
      "Cbc0038I Pass  53: suminf.   12.61055 (41) obj. -274491 iterations 35\n",
      "Cbc0038I No solution found this major pass\n",
      "Cbc0038I Before mini branch and bound, 915 integers at bound fixed and 0 continuous\n",
      "Cbc0038I Full problem 476 rows 985 columns, reduced to 36 rows 46 columns\n",
      "Cbc0038I Mini branch and bound did not improve solution (0.12 seconds)\n",
      "Cbc0038I After 0.12 seconds - Feasibility pump exiting with objective of -274011 - took 0.09 seconds\n",
      "Cbc0012I Integer solution of -274010.61 found by feasibility pump after 0 iterations and 0 nodes (0.12 seconds)\n",
      "Cbc0038I Full problem 476 rows 985 columns, reduced to 30 rows 31 columns\n",
      "Cbc0012I Integer solution of -274334.71 found by DiveCoefficient after 18 iterations and 0 nodes (0.16 seconds)\n",
      "Cbc0031I 4 added rows had average density of 29\n",
      "Cbc0013I At root node, 4 cuts changed objective from -275611.67 to -274334.71 in 3 passes\n",
      "Cbc0014I Cut generator 0 (Probing) - 0 row cuts average 0.0 elements, 1 column cuts (1 active)  in 0.001 seconds - new frequency is 1\n",
      "Cbc0014I Cut generator 1 (Gomory) - 2 row cuts average 17.0 elements, 0 column cuts (0 active)  in 0.001 seconds - new frequency is 1\n",
      "Cbc0014I Cut generator 2 (Knapsack) - 0 row cuts average 0.0 elements, 0 column cuts (0 active)  in 0.002 seconds - new frequency is -100\n",
      "Cbc0014I Cut generator 3 (Clique) - 0 row cuts average 0.0 elements, 0 column cuts (0 active)  in 0.000 seconds - new frequency is -100\n",
      "Cbc0014I Cut generator 4 (MixedIntegerRounding2) - 0 row cuts average 0.0 elements, 0 column cuts (0 active)  in 0.001 seconds - new frequency is -100\n",
      "Cbc0014I Cut generator 5 (FlowCover) - 0 row cuts average 0.0 elements, 0 column cuts (0 active)  in 0.000 seconds - new frequency is -100\n",
      "Cbc0014I Cut generator 6 (TwoMirCuts) - 26 row cuts average 33.1 elements, 0 column cuts (0 active)  in 0.003 seconds - new frequency is -100\n",
      "Cbc0014I Cut generator 7 (ZeroHalf) - 3 row cuts average 13.3 elements, 0 column cuts (0 active)  in 0.012 seconds - new frequency is -100\n",
      "Cbc0001I Search completed - best objective -274334.7139892637, took 18 iterations and 0 nodes (0.16 seconds)\n",
      "Cbc0035I Maximum depth 0, 456 variables fixed on reduced cost\n",
      "Cuts at root node changed objective from -275612 to -274335\n",
      "Probing was tried 3 times and created 1 cuts of which 0 were active after adding rounds of cuts (0.001 seconds)\n",
      "Gomory was tried 3 times and created 2 cuts of which 0 were active after adding rounds of cuts (0.001 seconds)\n",
      "Knapsack was tried 3 times and created 0 cuts of which 0 were active after adding rounds of cuts (0.002 seconds)\n",
      "Clique was tried 3 times and created 0 cuts of which 0 were active after adding rounds of cuts (0.000 seconds)\n",
      "MixedIntegerRounding2 was tried 3 times and created 0 cuts of which 0 were active after adding rounds of cuts (0.001 seconds)\n",
      "FlowCover was tried 3 times and created 0 cuts of which 0 were active after adding rounds of cuts (0.000 seconds)\n",
      "TwoMirCuts was tried 3 times and created 26 cuts of which 0 were active after adding rounds of cuts (0.003 seconds)\n",
      "ZeroHalf was tried 3 times and created 3 cuts of which 0 were active after adding rounds of cuts (0.012 seconds)\n",
      "\n",
      "Result - Optimal solution found\n",
      "\n",
      "Objective value:                274334.71398926\n",
      "Enumerated nodes:               0\n",
      "Total iterations:               18\n",
      "Time (CPU seconds):             0.13\n",
      "Time (Wallclock seconds):       0.16\n",
      "\n",
      "Option for printingOptions changed from normal to all\n",
      "Total time (CPU seconds):       0.14   (Wallclock seconds):       0.17\n",
      "\n",
      "✅ 선택된 격자 수: 30\n",
      "📦 커버된 수요: 63,445.20 / 총 수요: 716,087.70 (8.86%)\n",
      "설치 대상지 수: 30\n",
      "커버 수요 총합: 63,445.20\n"
     ]
    }
   ],
   "source": [
    "from modeling.mclp_model import solve_mclp\n",
    "\n",
    "features = features.rename(columns={\n",
    "    'center_lat_x': 'center_lat',\n",
    "    'center_lon_x': 'center_lon'\n",
    "})\n",
    "\n",
    "# MCLP 실행\n",
    "features = solve_mclp(\n",
    "    df=features,\n",
    "    coverage_radius=COVERAGE_RADIUS,\n",
    "    facility_limit=FACILITY_LIMIT,\n",
    "    demand_column='predicted_demand_score'\n",
    ")\n",
    "\n",
    "# 결과 저장\n",
    "features.to_csv(f\"{OUTPUT_DIR}/mclp_selected_sites.csv\", index=False)\n",
    "\n",
    "# 설치 위치 확인\n",
    "selected = features[features['selected'] == 1]\n",
    "print(f\"설치 대상지 수: {len(selected)}\")\n",
    "print(f\"커버 수요 총합: {selected['predicted_demand_score'].sum():,.2f}\")"
   ]
  },
  {
   "cell_type": "markdown",
   "id": "f752d41d",
   "metadata": {},
   "source": [
    "# 평가"
   ]
  },
  {
   "cell_type": "code",
   "execution_count": 22,
   "id": "288c1a09",
   "metadata": {},
   "outputs": [
    {
     "name": "stdout",
     "output_type": "stream",
     "text": [
      "'selected' in features.columns: True\n",
      "selected\n",
      "0    496\n",
      "1     30\n",
      "Name: count, dtype: int64\n"
     ]
    }
   ],
   "source": [
    "print(\"'selected' in features.columns:\", 'selected' in features.columns)\n",
    "print(features['selected'].value_counts() if 'selected' in features.columns else \"selected 열 없음\")"
   ]
  },
  {
   "cell_type": "code",
   "execution_count": 23,
   "id": "b9114df5",
   "metadata": {},
   "outputs": [
    {
     "name": "stdout",
     "output_type": "stream",
     "text": [
      "[Baseline ① 기존 충전소 기준]\n",
      "- 설치 격자 수: 523\n",
      "- 커버 수요: 712,847.65\n",
      "- 전체 수요: 716,087.70\n",
      "- 커버율: 99.55%\n",
      "[Baseline ② 랜덤 설치]\n",
      "- 설치 격자 수: 30\n",
      "- 커버 수요: 38,727.62\n",
      "- 전체 수요: 716,087.70\n",
      "- 커버율: 5.41%\n",
      "[Baseline ③ 클러스터 중심 설치]\n",
      "- 설치 격자 수: 1\n",
      "- 커버 수요: 797.63\n",
      "- 전체 수요: 716,087.70\n",
      "- 커버율: 0.11%\n",
      "[📊 MCLP 성능 평가]\n",
      "- 설치 개수: 30\n",
      "- 총 수요: 716,087.70\n",
      "- 커버 수요: 63,445.20\n",
      "- Coverage Rate: 8.86%\n",
      "- Demand Satisfaction Ratio (DSR): 2,114.84\n",
      "- 설치 효율성 (grid 단위): 2,114.84\n"
     ]
    }
   ],
   "source": [
    "features = pd.read_csv(f\"{OUTPUT_DIR}/mclp_selected_sites.csv\")\n",
    "\n",
    "# ✅ 기존 충전소 데이터 변경\n",
    "stations = pd.read_csv(f\"{DATA_DIR}/charging_stations_seoul_gridded.csv\")\n",
    "\n",
    "# 📊 평가 실행\n",
    "baseline1 = evaluate_existing_stations(\n",
    "    features=features,\n",
    "    station_df=stations,\n",
    "    lat_col='위도',\n",
    "    lon_col='경도'\n",
    ")\n",
    "baseline2 = evaluate_random_installation(features, n=FACILITY_LIMIT)\n",
    "baseline3 = evaluate_cluster_centers(features)\n",
    "baseline4 = evaluate_mclp_result(features, facility_limit=FACILITY_LIMIT)"
   ]
  },
  {
   "cell_type": "code",
   "execution_count": 24,
   "id": "2a4b352d",
   "metadata": {},
   "outputs": [
    {
     "data": {
      "text/html": [
       "<div>\n",
       "<style scoped>\n",
       "    .dataframe tbody tr th:only-of-type {\n",
       "        vertical-align: middle;\n",
       "    }\n",
       "\n",
       "    .dataframe tbody tr th {\n",
       "        vertical-align: top;\n",
       "    }\n",
       "\n",
       "    .dataframe thead th {\n",
       "        text-align: right;\n",
       "    }\n",
       "</style>\n",
       "<table border=\"1\" class=\"dataframe\">\n",
       "  <thead>\n",
       "    <tr style=\"text-align: right;\">\n",
       "      <th></th>\n",
       "      <th>baseline</th>\n",
       "      <th>coverage</th>\n",
       "      <th>coverage_rate</th>\n",
       "      <th>covered_grids</th>\n",
       "      <th>dsr</th>\n",
       "      <th>efficiency</th>\n",
       "      <th>selected</th>\n",
       "      <th>total_demand</th>\n",
       "    </tr>\n",
       "  </thead>\n",
       "  <tbody>\n",
       "    <tr>\n",
       "      <th>0</th>\n",
       "      <td>① 기존 충전소</td>\n",
       "      <td>712847.646545</td>\n",
       "      <td>99.547534</td>\n",
       "      <td>523.0</td>\n",
       "      <td>NaN</td>\n",
       "      <td>NaN</td>\n",
       "      <td>NaN</td>\n",
       "      <td>NaN</td>\n",
       "    </tr>\n",
       "    <tr>\n",
       "      <th>1</th>\n",
       "      <td>② 랜덤 설치</td>\n",
       "      <td>38727.618958</td>\n",
       "      <td>5.408223</td>\n",
       "      <td>30.0</td>\n",
       "      <td>NaN</td>\n",
       "      <td>NaN</td>\n",
       "      <td>NaN</td>\n",
       "      <td>NaN</td>\n",
       "    </tr>\n",
       "    <tr>\n",
       "      <th>2</th>\n",
       "      <td>③ 클러스터 중심</td>\n",
       "      <td>797.631165</td>\n",
       "      <td>0.111387</td>\n",
       "      <td>1.0</td>\n",
       "      <td>NaN</td>\n",
       "      <td>NaN</td>\n",
       "      <td>NaN</td>\n",
       "      <td>NaN</td>\n",
       "    </tr>\n",
       "    <tr>\n",
       "      <th>3</th>\n",
       "      <td>④ MCLP 최적화</td>\n",
       "      <td>63445.195374</td>\n",
       "      <td>8.859976</td>\n",
       "      <td>NaN</td>\n",
       "      <td>2114.839846</td>\n",
       "      <td>2114.839846</td>\n",
       "      <td>30.0</td>\n",
       "      <td>716087.700928</td>\n",
       "    </tr>\n",
       "  </tbody>\n",
       "</table>\n",
       "</div>"
      ],
      "text/plain": [
       "     baseline       coverage  coverage_rate  covered_grids          dsr  \\\n",
       "0    ① 기존 충전소  712847.646545      99.547534          523.0          NaN   \n",
       "1     ② 랜덤 설치   38727.618958       5.408223           30.0          NaN   \n",
       "2   ③ 클러스터 중심     797.631165       0.111387            1.0          NaN   \n",
       "3  ④ MCLP 최적화   63445.195374       8.859976            NaN  2114.839846   \n",
       "\n",
       "    efficiency  selected   total_demand  \n",
       "0          NaN       NaN            NaN  \n",
       "1          NaN       NaN            NaN  \n",
       "2          NaN       NaN            NaN  \n",
       "3  2114.839846      30.0  716087.700928  "
      ]
     },
     "metadata": {},
     "output_type": "display_data"
    }
   ],
   "source": [
    "results = pd.DataFrame([\n",
    "    {'baseline': '① 기존 충전소', **baseline1},\n",
    "    {'baseline': '② 랜덤 설치', **baseline2},\n",
    "    {'baseline': '③ 클러스터 중심', **baseline3},\n",
    "    {'baseline': '④ MCLP 최적화', **baseline4}\n",
    "])\n",
    "\n",
    "from IPython.display import display\n",
    "display(results)"
   ]
  },
  {
   "cell_type": "code",
   "execution_count": 25,
   "id": "149e2abb",
   "metadata": {},
   "outputs": [
    {
     "name": "stderr",
     "output_type": "stream",
     "text": [
      "/var/folders/g0/wf5k560d45g5_rq_z1jbdpq40000gn/T/ipykernel_1131/1391480480.py:21: UserWarning: Glyph 9889 (\\N{HIGH VOLTAGE SIGN}) missing from font(s) AppleGothic.\n",
      "  plt.tight_layout()\n",
      "/opt/anaconda3/envs/25bigdata/lib/python3.10/site-packages/IPython/core/pylabtools.py:170: UserWarning: Glyph 9889 (\\N{HIGH VOLTAGE SIGN}) missing from font(s) AppleGothic.\n",
      "  fig.canvas.print_figure(bytes_io, **kw)\n"
     ]
    },
    {
     "data": {
      "image/png": "[encoded data removed]",
      "text/plain": [
       "<Figure size 1000x600 with 1 Axes>"
      ]
     },
     "metadata": {},
     "output_type": "display_data"
    }
   ],
   "source": [
    "import matplotlib.pyplot as plt\n",
    "import matplotlib.font_manager as fm\n",
    "import matplotlib as mpl\n",
    "\n",
    "# ✅ 한글 폰트 설정 (OS에 맞게 선택)\n",
    "mpl.rcParams['font.family'] = 'AppleGothic'  # macOS\n",
    "# mpl.rcParams['font.family'] = 'Malgun Gothic'  # Windows\n",
    "mpl.rcParams['axes.unicode_minus'] = False\n",
    "\n",
    "df = results.copy()\n",
    "df['selected'] = df['selected'].fillna(df['covered_grids'])\n",
    "\n",
    "plt.figure(figsize=(10, 6))\n",
    "plt.bar(df['baseline'], df['coverage'], color='skyblue', label='커버 수요')\n",
    "plt.plot(df['baseline'], df['coverage'] / df['selected'], color='orange', marker='o', label='설치 효율 (1곳당 수요)')\n",
    "\n",
    "plt.xticks(rotation=30)\n",
    "plt.ylabel(\"수요\")\n",
    "plt.title(\"⚡ 설치 전략별 커버 수요 및 효율 비교\")\n",
    "plt.legend()\n",
    "plt.tight_layout()\n",
    "plt.show()"
   ]
  },
  {
   "cell_type": "code",
   "execution_count": 94,
   "id": "b2654111",
   "metadata": {},
   "outputs": [],
   "source": [
    "import folium\n",
    "from geopy.distance import geodesic\n",
    "import matplotlib.cm as cm\n",
    "import matplotlib.colors as mcolors\n",
    "\n",
    "def plot_all_coverage_strategies(features, strategy_dict, radius_km=2.0):\n",
    "    \"\"\"\n",
    "    여러 설치 전략을 한 지도에 격자 커버리지를 색상별로 구분하여 시각화\n",
    "\n",
    "    Parameters:\n",
    "    - features: 전체 grid DataFrame (center_lat, center_lon 포함)\n",
    "    - strategy_dict: {label: 설치지 DataFrame} 형식\n",
    "    - radius_km: 커버 반경\n",
    "    \"\"\"\n",
    "    # 지도 초기화 (서울 중심)\n",
    "    m = folium.Map(location=[37.55, 126.98], zoom_start=11, tiles='cartodbpositron')\n",
    "\n",
    "    # 고유 색상 설정\n",
    "    color_map = {\n",
    "        '① 기존 충전소': 'red',\n",
    "        '② 랜덤 설치': 'green',\n",
    "        '③ 클러스터 중심': 'purple',\n",
    "        '④ MCLP 최적화': 'blue'\n",
    "    }\n",
    "\n",
    "    for label, install_df in strategy_dict.items():\n",
    "        color = color_map[label]\n",
    "\n",
    "        for _, grid in features.iterrows():\n",
    "            grid_center = (grid['center_lat'], grid['center_lon'])\n",
    "            for _, site in install_df.iterrows():\n",
    "                site_center = (site['center_lat'], site['center_lon'])\n",
    "                if geodesic(grid_center, site_center).km <= radius_km:\n",
    "                    folium.CircleMarker(\n",
    "                        location=grid_center,\n",
    "                        radius=2.5,\n",
    "                        color=color,\n",
    "                        fill=True,\n",
    "                        fill_opacity=0.3,\n",
    "                        popup=f\"{label} 커버\"\n",
    "                    ).add_to(m)\n",
    "                    break\n",
    "\n",
    "        # 설치 위치 강조\n",
    "        for _, site in install_df.iterrows():\n",
    "            folium.Marker(\n",
    "                location=(site['center_lat'], site['center_lon']),\n",
    "                icon=folium.Icon(color=color, icon='bolt', prefix='fa'),\n",
    "                popup=f\"{label} 설치지\"\n",
    "            ).add_to(m)\n",
    "\n",
    "    return m"
   ]
  },
  {
   "cell_type": "code",
   "execution_count": null,
   "id": "320ee8eb",
   "metadata": {},
   "outputs": [],
   "source": [
    "# 기존 충전소\n",
    "existing_stations_df = pd.read_csv(f\"{DATA_DIR}/charging_stations_seoul_gridded.csv\")\n",
    "existing_stations_df = existing_stations_df.dropna(subset=['위도', '경도']).copy()\n",
    "existing_stations_df = existing_stations_df.rename(columns={'위도': 'center_lat', '경도': 'center_lon'})\n",
    "\n",
    "# MCLP 설치지\n",
    "mclp_selected_df = features[features['selected'] == 1][['grid_id', 'center_lat', 'center_lon']].copy()\n",
    "\n",
    "# 랜덤 설치\n",
    "np.random.seed(42)\n",
    "random_sites_df = features.sample(n=FACILITY_LIMIT)[['grid_id', 'center_lat', 'center_lon']].copy()\n",
    "\n",
    "# 클러스터 중심 (각 클러스터마다 중심 1개씩)\n",
    "cluster_center_df = features.groupby('cluster')[['center_lat', 'center_lon']].mean().reset_index()\n",
    "\n",
    "# 전략별 dict\n",
    "strategy_dict = {\n",
    "    \"① 기존 충전소\": existing_stations_df,\n",
    "    \"② 랜덤 설치\": random_sites_df,\n",
    "    \"③ 클러스터 중심\": cluster_center_df,\n",
    "    \"④ MCLP 최적화\": mclp_selected_df\n",
    "}\n",
    "\n",
    "# 지도 생성 및 저장\n",
    "map_all = plot_all_coverage_strategies(features, strategy_dict, radius_km=2.0)\n",
    "map_all.save(\"../outputs/maps/coverage_comparison_map.html\")\n",
    "map_all"
   ]
  },
  {
   "cell_type": "code",
   "execution_count": null,
   "id": "28590c55",
   "metadata": {},
   "outputs": [],
   "source": []
  }
 ],
 "metadata": {
  "kernelspec": {
   "display_name": "25bigdata",
   "language": "python",
   "name": "python3"
  },
  "language_info": {
   "codemirror_mode": {
    "name": "ipython",
    "version": 3
   },
   "file_extension": ".py",
   "mimetype": "text/x-python",
   "name": "python",
   "nbconvert_exporter": "python",
   "pygments_lexer": "ipython3",
   "version": "3.10.13"
  }
 },
 "nbformat": 4,
 "nbformat_minor": 5
}
