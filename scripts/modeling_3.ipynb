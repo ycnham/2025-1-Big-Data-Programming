{
 "cells": [
  {
   "cell_type": "code",
   "execution_count": 49,
   "id": "938aa384",
   "metadata": {},
   "outputs": [
    {
     "name": "stdout",
     "output_type": "stream",
     "text": [
      "The autoreload extension is already loaded. To reload it, use:\n",
      "  %reload_ext autoreload\n"
     ]
    }
   ],
   "source": [
    "# 📌 외부 py 파일 수정 시 자동으로 재로드되도록 설정\n",
    "%load_ext autoreload\n",
    "%autoreload 2"
   ]
  },
  {
   "cell_type": "code",
   "execution_count": 50,
   "id": "6bf30b09",
   "metadata": {},
   "outputs": [],
   "source": [
    "# ================================================\n",
    "# 📦 공통 패키지 import\n",
    "# ================================================\n",
    "import pandas as pd\n",
    "import numpy as np\n",
    "import matplotlib.pyplot as plt\n",
    "import seaborn as sns\n",
    "from tqdm.notebook import tqdm\n",
    "import os\n",
    "import sys\n",
    "\n",
    "# src 경로 추가\n",
    "PROJECT_ROOT = os.path.abspath(os.path.join(\"..\"))\n",
    "SRC_DIR = os.path.join(PROJECT_ROOT, \"src\")\n",
    "if SRC_DIR not in sys.path:\n",
    "    sys.path.append(SRC_DIR)\n",
    "\n",
    "# seaborn 스타일 설정\n",
    "sns.set(style=\"whitegrid\")\n",
    "\n",
    "# ================================================\n",
    "# ⚙️ 경로 및 상수 설정\n",
    "# ================================================\n",
    "DATA_DIR = \"../data/processed\"\n",
    "OUTPUT_DIR = \"../data/modeling\"\n",
    "\n",
    "os.makedirs(OUTPUT_DIR, exist_ok=True)\n",
    "\n",
    "# KMeans 설정\n",
    "KMEANS_MODE = \"manual\"\n",
    "KMEANS_MANUAL_K = 5\n",
    "\n",
    "# XGBoost 설정\n",
    "XGB_N_ESTIMATORS = 100\n",
    "\n",
    "# MCLP 설정\n",
    "COVERAGE_RADIUS = 0.02\n",
    "FACILITY_LIMIT = 30\n",
    "\n",
    "# ================================================\n",
    "# 🧪 평가 함수 import\n",
    "# ================================================\n",
    "from evaluation.baseline_evaluator import (\n",
    "    evaluate_existing_stations,\n",
    "    evaluate_random_installation,\n",
    "    evaluate_cluster_centers,\n",
    "    evaluate_mclp_result\n",
    ")\n",
    "\n",
    "# ================================================\n",
    "# 🧠 모델 함수 import\n",
    "# ================================================\n",
    "from modeling.kmeans_model import run_kmeans"
   ]
  },
  {
   "cell_type": "markdown",
   "id": "08099638",
   "metadata": {},
   "source": [
    "# K means"
   ]
  },
  {
   "cell_type": "code",
   "execution_count": 51,
   "id": "5438fbcc",
   "metadata": {},
   "outputs": [
    {
     "name": "stdout",
     "output_type": "stream",
     "text": [
      "[MANUAL MODE] 수동 설정 k = 5\n",
      "\n",
      "[Cluster별 평균 수요]\n",
      "cluster\n",
      "2    3099.808511\n",
      "3    1742.885714\n",
      "1     959.328947\n",
      "4     443.716312\n",
      "0      12.835426\n",
      "Name: demand_score, dtype: float64\n",
      "\n",
      "[필터링] 수요가 가장 높은 클러스터 (cluster=2)만 반환됨.\n"
     ]
    }
   ],
   "source": [
    "# 데이터 로드\n",
    "grid = pd.read_csv(f\"{DATA_DIR}/grid_system_processed.csv\")\n",
    "\n",
    "# 수요가 가장 높은 클러스터만 추출\n",
    "grid = run_kmeans(\n",
    "    grid,\n",
    "    mode=KMEANS_MODE,\n",
    "    manual_k=KMEANS_MANUAL_K,\n",
    "    return_top_cluster_only=True\n",
    ")"
   ]
  },
  {
   "cell_type": "code",
   "execution_count": 52,
   "id": "ab1a871f",
   "metadata": {},
   "outputs": [
    {
     "name": "stdout",
     "output_type": "stream",
     "text": [
      "전체 feature 수: 6030\n",
      "수요 밀집 클러스터 feature 수: 47\n",
      "사용 가능한 feature 컬럼: ['grid_id', 'center_lat', 'center_lon', 'demand_score', 'supply_score', 'commercial_count', 'station_count', 'supply_demand_ratio', 'population_density', 'accessibility_score', 'transport_score', 'cluster']\n"
     ]
    }
   ],
   "source": [
    "# grid_features.csv 로드\n",
    "features_all = pd.read_csv(f\"{DATA_DIR}/grid_features.csv\")\n",
    "\n",
    "# KMeans로 추출한 수요 밀집 클러스터와 병합 (grid_id 기준)\n",
    "features = features_all.merge(grid[['grid_id', 'cluster']], on='grid_id', how='inner')\n",
    "\n",
    "# 확인\n",
    "print(f\"전체 feature 수: {len(features_all)}\")\n",
    "print(f\"수요 밀집 클러스터 feature 수: {len(features)}\")\n",
    "print(f\"사용 가능한 feature 컬럼: {features.columns.tolist()}\")"
   ]
  },
  {
   "cell_type": "markdown",
   "id": "be9420f0",
   "metadata": {},
   "source": [
    "# XGBoost"
   ]
  },
  {
   "cell_type": "code",
   "execution_count": 53,
   "id": "4fd5b562",
   "metadata": {},
   "outputs": [
    {
     "name": "stdout",
     "output_type": "stream",
     "text": [
      "XGBoost 성능:\n",
      "MAE: 680.78\n",
      "RMSE: 883.08\n",
      "R2: -3.2985\n",
      "XGBoost 예측 성능: {'MAE': 680.78, 'RMSE': 883.08, 'R2': -3.2985}\n"
     ]
    }
   ],
   "source": [
    "from modeling.xgboost_model import train_and_predict\n",
    "\n",
    "selected_features = ['supply_score', 'station_count', 'commercial_count', 'cluster']\n",
    "\n",
    "features, metrics = train_and_predict(\n",
    "    features,\n",
    "    features=selected_features,\n",
    "    n_estimators=XGB_N_ESTIMATORS\n",
    ")\n",
    "\n",
    "features.to_csv(f\"{DATA_DIR}/grid_features_with_prediction.csv\", index=False)\n",
    "print(\"XGBoost 예측 성능:\", metrics)"
   ]
  },
  {
   "cell_type": "markdown",
   "id": "5cf9f9fe",
   "metadata": {},
   "source": [
    "# MCLP"
   ]
  },
  {
   "cell_type": "code",
   "execution_count": 55,
   "id": "bc2a69b7",
   "metadata": {},
   "outputs": [
    {
     "name": "stderr",
     "output_type": "stream",
     "text": [
      "📍 커버리지 행렬 생성 중: 100%|██████████| 47/47 [00:00<00:00, 1117.82it/s]\n",
      "🧩 제약조건 생성 중: 100%|██████████| 47/47 [00:00<00:00, 62324.47it/s]"
     ]
    },
    {
     "name": "stdout",
     "output_type": "stream",
     "text": [
      "Welcome to the CBC MILP Solver \n",
      "Version: 2.10.3 \n",
      "Build Date: Dec 15 2019 \n",
      "\n",
      "command line - /opt/anaconda3/envs/25bigdata/lib/python3.10/site-packages/pulp/apis/../solverdir/cbc/osx/i64/cbc /var/folders/g0/wf5k560d45g5_rq_z1jbdpq40000gn/T/dea3e4e95ef94072a7d0e797bdf44042-pulp.mps -max -timeMode elapsed -branch -printingOptions all -solution /var/folders/g0/wf5k560d45g5_rq_z1jbdpq40000gn/T/dea3e4e95ef94072a7d0e797bdf44042-pulp.sol (default strategy 1)\n",
      "At line 2 NAME          MODEL\n",
      "At line 3 ROWS\n",
      "At line 53 COLUMNS\n",
      "At line 644 RHS\n",
      "At line 693 BOUNDS\n",
      "At line 788 ENDATA\n",
      "Problem MODEL has 48 rows, 94 columns and 355 elements\n",
      "Coin0008I MODEL read with 0 errors\n",
      "Option for timeMode changed from cpu to elapsed\n",
      "Continuous objective value is 146079 - 0.00 seconds\n",
      "Cgl0004I processed model has 40 rows, 69 columns (69 integer (61 of which binary)) and 206 elements\n",
      "Cbc0038I Initial state - 0 integers unsatisfied sum - 0\n",
      "Cbc0038I Solution found of -146079\n",
      "Cbc0038I Cleaned solution of -146079\n",
      "Cbc0038I Before mini branch and bound, 69 integers at bound fixed and 0 continuous of which 4 were internal integer and 0 internal continuous\n",
      "Cbc0038I Mini branch and bound did not improve solution (0.02 seconds)\n",
      "Cbc0038I After 0.02 seconds - Feasibility pump exiting with objective of -146079 - took 0.00 seconds\n",
      "Cbc0012I Integer solution of -146079.06 found by feasibility pump after 0 iterations and 0 nodes (0.02 seconds)\n",
      "Cbc0001I Search completed - best objective -146079.064697264, took 0 iterations and 0 nodes (0.02 seconds)\n",
      "Cbc0035I Maximum depth 0, 0 variables fixed on reduced cost\n",
      "Cuts at root node changed objective from -146079 to -146079\n",
      "Probing was tried 0 times and created 0 cuts of which 0 were active after adding rounds of cuts (0.000 seconds)\n",
      "Gomory was tried 0 times and created 0 cuts of which 0 were active after adding rounds of cuts (0.000 seconds)\n",
      "Knapsack was tried 0 times and created 0 cuts of which 0 were active after adding rounds of cuts (0.000 seconds)\n",
      "Clique was tried 0 times and created 0 cuts of which 0 were active after adding rounds of cuts (0.000 seconds)\n",
      "MixedIntegerRounding2 was tried 0 times and created 0 cuts of which 0 were active after adding rounds of cuts (0.000 seconds)\n",
      "FlowCover was tried 0 times and created 0 cuts of which 0 were active after adding rounds of cuts (0.000 seconds)\n",
      "TwoMirCuts was tried 0 times and created 0 cuts of which 0 were active after adding rounds of cuts (0.000 seconds)\n",
      "ZeroHalf was tried 0 times and created 0 cuts of which 0 were active after adding rounds of cuts (0.000 seconds)\n",
      "\n",
      "Result - Optimal solution found\n",
      "\n",
      "Objective value:                146079.06469726\n",
      "Enumerated nodes:               0\n",
      "Total iterations:               0\n",
      "Time (CPU seconds):             0.00\n",
      "Time (Wallclock seconds):       0.02\n",
      "\n",
      "Option for printingOptions changed from normal to all\n",
      "Total time (CPU seconds):       0.01   (Wallclock seconds):       0.02\n",
      "\n",
      "선택된 설치 위치 수: 16\n",
      "총 커버된 수요: 50889.2109375\n",
      "설치 대상지 수: 16\n",
      "커버 수요 총합: 50,889.21\n"
     ]
    },
    {
     "name": "stderr",
     "output_type": "stream",
     "text": [
      "\n"
     ]
    }
   ],
   "source": [
    "from modeling.mclp_model import solve_mclp\n",
    "\n",
    "# MCLP 실행\n",
    "features = solve_mclp(\n",
    "    df=features,\n",
    "    coverage_radius=COVERAGE_RADIUS,\n",
    "    facility_limit=FACILITY_LIMIT,\n",
    "    demand_column='predicted_demand_score'\n",
    ")\n",
    "\n",
    "# 결과 저장\n",
    "features.to_csv(f\"{OUTPUT_DIR}/mclp_selected_sites.csv\", index=False)\n",
    "\n",
    "# 설치 위치 확인\n",
    "selected = features[features['selected'] == 1]\n",
    "print(f\"설치 대상지 수: {len(selected)}\")\n",
    "print(f\"커버 수요 총합: {selected['predicted_demand_score'].sum():,.2f}\")"
   ]
  },
  {
   "cell_type": "markdown",
   "id": "f752d41d",
   "metadata": {},
   "source": [
    "# 평가"
   ]
  },
  {
   "cell_type": "code",
   "execution_count": 56,
   "id": "288c1a09",
   "metadata": {},
   "outputs": [
    {
     "name": "stdout",
     "output_type": "stream",
     "text": [
      "'selected' in features.columns: True\n",
      "selected\n",
      "0    31\n",
      "1    16\n",
      "Name: count, dtype: int64\n"
     ]
    }
   ],
   "source": [
    "print(\"'selected' in features.columns:\", 'selected' in features.columns)\n",
    "print(features['selected'].value_counts() if 'selected' in features.columns else \"selected 열 없음\")"
   ]
  },
  {
   "cell_type": "code",
   "execution_count": 57,
   "id": "8a791648",
   "metadata": {},
   "outputs": [
    {
     "name": "stdout",
     "output_type": "stream",
     "text": [
      "'selected' in features.columns: True\n"
     ]
    }
   ],
   "source": [
    "print(\"'selected' in features.columns:\", 'selected' in features.columns)"
   ]
  },
  {
   "cell_type": "code",
   "execution_count": null,
   "id": "b9114df5",
   "metadata": {},
   "outputs": [
    {
     "name": "stderr",
     "output_type": "stream",
     "text": [
      "/var/folders/g0/wf5k560d45g5_rq_z1jbdpq40000gn/T/ipykernel_93940/3027811849.py:4: DtypeWarning: Columns (11) have mixed types. Specify dtype option on import or set low_memory=False.\n",
      "  stations = pd.read_csv(f\"../data/raw/한국환경공단_전기차 충전소 위치 및 운영정보(충전소 ID 포함)_20230531.csv\", encoding='cp949')\n"
     ]
    }
   ],
   "source": [
    "features = pd.read_csv(f\"{OUTPUT_DIR}/mclp_selected_sites.csv\")\n",
    "\n",
    "# 기존 충전소 데이터 로드\n",
    "stations = pd.read_csv(f\"../data/raw/한국환경공단_전기차 충전소 위치 및 운영정보(충전소 ID 포함)_20230531.csv\", encoding='cp949')\n",
    "\n",
    "# 평가 실행\n",
    "baseline1 = evaluate_existing_stations(features, stations)\n",
    "baseline2 = evaluate_random_installation(features, n=FACILITY_LIMIT)\n",
    "baseline3 = evaluate_cluster_centers(features)\n",
    "baseline4 = evaluate_mclp_result(features, facility_limit=FACILITY_LIMIT)"
   ]
  },
  {
   "cell_type": "code",
   "execution_count": null,
   "id": "2a4b352d",
   "metadata": {},
   "outputs": [
    {
     "data": {
      "text/html": [
       "<div>\n",
       "<style scoped>\n",
       "    .dataframe tbody tr th:only-of-type {\n",
       "        vertical-align: middle;\n",
       "    }\n",
       "\n",
       "    .dataframe tbody tr th {\n",
       "        vertical-align: top;\n",
       "    }\n",
       "\n",
       "    .dataframe thead th {\n",
       "        text-align: right;\n",
       "    }\n",
       "</style>\n",
       "<table border=\"1\" class=\"dataframe\">\n",
       "  <thead>\n",
       "    <tr style=\"text-align: right;\">\n",
       "      <th></th>\n",
       "      <th>baseline</th>\n",
       "      <th>coverage</th>\n",
       "      <th>coverage_rate</th>\n",
       "      <th>covered_grids</th>\n",
       "      <th>dsr</th>\n",
       "      <th>efficiency</th>\n",
       "      <th>selected</th>\n",
       "      <th>total_demand</th>\n",
       "    </tr>\n",
       "  </thead>\n",
       "  <tbody>\n",
       "    <tr>\n",
       "      <th>0</th>\n",
       "      <td>① 기존 충전소</td>\n",
       "      <td>146079.0650</td>\n",
       "      <td>100.000000</td>\n",
       "      <td>47.0</td>\n",
       "      <td>NaN</td>\n",
       "      <td>NaN</td>\n",
       "      <td>NaN</td>\n",
       "      <td>NaN</td>\n",
       "    </tr>\n",
       "    <tr>\n",
       "      <th>1</th>\n",
       "      <td>② 랜덤 설치</td>\n",
       "      <td>92650.9073</td>\n",
       "      <td>63.425178</td>\n",
       "      <td>30.0</td>\n",
       "      <td>NaN</td>\n",
       "      <td>NaN</td>\n",
       "      <td>NaN</td>\n",
       "      <td>NaN</td>\n",
       "    </tr>\n",
       "    <tr>\n",
       "      <th>2</th>\n",
       "      <td>③ 클러스터 중심</td>\n",
       "      <td>4109.5010</td>\n",
       "      <td>2.813203</td>\n",
       "      <td>1.0</td>\n",
       "      <td>NaN</td>\n",
       "      <td>NaN</td>\n",
       "      <td>NaN</td>\n",
       "      <td>NaN</td>\n",
       "    </tr>\n",
       "    <tr>\n",
       "      <th>3</th>\n",
       "      <td>④ MCLP 최적화</td>\n",
       "      <td>50889.2108</td>\n",
       "      <td>34.836758</td>\n",
       "      <td>NaN</td>\n",
       "      <td>1696.307027</td>\n",
       "      <td>3180.575675</td>\n",
       "      <td>16.0</td>\n",
       "      <td>146079.065</td>\n",
       "    </tr>\n",
       "  </tbody>\n",
       "</table>\n",
       "</div>"
      ],
      "text/plain": [
       "     baseline     coverage  coverage_rate  covered_grids          dsr  \\\n",
       "0    ① 기존 충전소  146079.0650     100.000000           47.0          NaN   \n",
       "1     ② 랜덤 설치   92650.9073      63.425178           30.0          NaN   \n",
       "2   ③ 클러스터 중심    4109.5010       2.813203            1.0          NaN   \n",
       "3  ④ MCLP 최적화   50889.2108      34.836758            NaN  1696.307027   \n",
       "\n",
       "    efficiency  selected  total_demand  \n",
       "0          NaN       NaN           NaN  \n",
       "1          NaN       NaN           NaN  \n",
       "2          NaN       NaN           NaN  \n",
       "3  3180.575675      16.0    146079.065  "
      ]
     },
     "metadata": {},
     "output_type": "display_data"
    }
   ],
   "source": [
    "results = pd.DataFrame([\n",
    "    {'baseline': '① 기존 충전소', **baseline1},\n",
    "    {'baseline': '② 랜덤 설치', **baseline2},\n",
    "    {'baseline': '③ 클러스터 중심', **baseline3},\n",
    "    {'baseline': '④ MCLP 최적화', **baseline4}\n",
    "])\n",
    "\n",
    "from IPython.display import display\n",
    "display(results)"
   ]
  },
  {
   "cell_type": "code",
   "execution_count": null,
   "id": "149e2abb",
   "metadata": {},
   "outputs": [],
   "source": []
  }
 ],
 "metadata": {
  "kernelspec": {
   "display_name": "25bigdata",
   "language": "python",
   "name": "python3"
  },
  "language_info": {
   "codemirror_mode": {
    "name": "ipython",
    "version": 3
   },
   "file_extension": ".py",
   "mimetype": "text/x-python",
   "name": "python",
   "nbconvert_exporter": "python",
   "pygments_lexer": "ipython3",
   "version": "3.10.13"
  }
 },
 "nbformat": 4,
 "nbformat_minor": 5
}
