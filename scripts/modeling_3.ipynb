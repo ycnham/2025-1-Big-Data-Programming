{
 "cells": [
  {
   "cell_type": "code",
   "execution_count": 33,
   "id": "938aa384",
   "metadata": {},
   "outputs": [
    {
     "name": "stdout",
     "output_type": "stream",
     "text": [
      "The autoreload extension is already loaded. To reload it, use:\n",
      "  %reload_ext autoreload\n"
     ]
    }
   ],
   "source": [
    "# 📌 외부 py 파일 수정 시 자동으로 재로드되도록 설정\n",
    "%load_ext autoreload\n",
    "%autoreload 2"
   ]
  },
  {
   "cell_type": "code",
   "execution_count": 34,
   "id": "6bf30b09",
   "metadata": {},
   "outputs": [],
   "source": [
    "# ================================================\n",
    "# 📦 공통 패키지 import\n",
    "# ================================================\n",
    "import pandas as pd\n",
    "import numpy as np\n",
    "import matplotlib.pyplot as plt\n",
    "import seaborn as sns\n",
    "from tqdm.notebook import tqdm\n",
    "import os\n",
    "import sys\n",
    "\n",
    "# src 경로 추가\n",
    "PROJECT_ROOT = os.path.abspath(os.path.join(\"..\"))\n",
    "SRC_DIR = os.path.join(PROJECT_ROOT, \"src\")\n",
    "if SRC_DIR not in sys.path:\n",
    "    sys.path.append(SRC_DIR)\n",
    "\n",
    "# seaborn 스타일 설정\n",
    "sns.set(style=\"whitegrid\")\n",
    "\n",
    "# ================================================\n",
    "# ⚙️ 경로 및 상수 설정\n",
    "# ================================================\n",
    "DATA_DIR = \"../data/processed\"\n",
    "OUTPUT_DIR = \"../data/modeling\"\n",
    "\n",
    "os.makedirs(OUTPUT_DIR, exist_ok=True)\n",
    "\n",
    "# KMeans 설정\n",
    "KMEANS_MODE = \"manual\"\n",
    "KMEANS_MANUAL_K = 5\n",
    "\n",
    "# XGBoost 설정\n",
    "XGB_N_ESTIMATORS = 100\n",
    "\n",
    "# MCLP 설정\n",
    "COVERAGE_RADIUS = 0.02\n",
    "FACILITY_LIMIT = 30\n",
    "\n",
    "# ================================================\n",
    "# 🧪 평가 함수 import\n",
    "# ================================================\n",
    "from evaluation.baseline_evaluator import (\n",
    "    evaluate_existing_stations,\n",
    "    evaluate_random_installation,\n",
    "    evaluate_cluster_centers,\n",
    "    evaluate_mclp_result\n",
    ")\n"
   ]
  },
  {
   "cell_type": "markdown",
   "id": "08099638",
   "metadata": {},
   "source": [
    "# K means"
   ]
  },
  {
   "cell_type": "code",
   "execution_count": 35,
   "id": "5438fbcc",
   "metadata": {},
   "outputs": [
    {
     "name": "stdout",
     "output_type": "stream",
     "text": [
      "[MANUAL MODE] 수동 설정 k = 5\n",
      "\n",
      "[Cluster별 평균 수요]\n",
      "cluster\n",
      "2    590.772472\n",
      "3    584.367958\n",
      "1    423.962670\n",
      "4    381.162983\n",
      "0     68.100964\n",
      "Name: demand_score, dtype: float64\n",
      "\n",
      "[필터링] 수요가 가장 높은 클러스터 (cluster=2)만 반환됨.\n"
     ]
    }
   ],
   "source": [
    "# 데이터 로드\n",
    "grid = pd.read_csv(f\"{DATA_DIR}/grid_system_processed.csv\")\n",
    "\n",
    "# 수요가 가장 높은 클러스터만 추출\n",
    "grid = run_kmeans(\n",
    "    grid,\n",
    "    mode=KMEANS_MODE,\n",
    "    manual_k=KMEANS_MANUAL_K,\n",
    "    return_top_cluster_only=True\n",
    ")"
   ]
  },
  {
   "cell_type": "code",
   "execution_count": null,
   "id": "ab1a871f",
   "metadata": {},
   "outputs": [],
   "source": [
    "# grid_features.csv 로드\n",
    "features_all = pd.read_csv(f\"{DATA_DIR}/grid_features.csv\")\n",
    "\n",
    "# KMeans로 추출한 수요 밀집 클러스터와 병합 (grid_id 기준)\n",
    "features = features_all.merge(grid[['grid_id', 'cluster']], on='grid_id', how='inner')\n",
    "\n",
    "# 확인\n",
    "print(f\"전체 feature 수: {len(features_all)}\")\n",
    "print(f\"수요 밀집 클러스터 feature 수: {len(features)}\")\n",
    "print(f\"사용 가능한 feature 컬럼: {features.columns.tolist()}\")"
   ]
  },
  {
   "cell_type": "markdown",
   "id": "be9420f0",
   "metadata": {},
   "source": [
    "# XGBoost"
   ]
  },
  {
   "cell_type": "code",
   "execution_count": null,
   "id": "4fd5b562",
   "metadata": {},
   "outputs": [],
   "source": [
    "from modeling.xgboost_model import train_and_predict\n",
    "\n",
    "selected_features = ['supply_score', 'station_count', 'commercial_count', 'cluster']\n",
    "\n",
    "features, metrics = train_and_predict(\n",
    "    features,\n",
    "    features=selected_features,\n",
    "    n_estimators=XGB_N_ESTIMATORS\n",
    ")\n",
    "\n",
    "features.to_csv(f\"{DATA_DIR}/grid_features_with_prediction.csv\", index=False)\n",
    "print(\"XGBoost 예측 성능:\", metrics)"
   ]
  },
  {
   "cell_type": "markdown",
   "id": "5cf9f9fe",
   "metadata": {},
   "source": [
    "# MCLP"
   ]
  },
  {
   "cell_type": "code",
   "execution_count": null,
   "id": "bc2a69b7",
   "metadata": {},
   "outputs": [],
   "source": [
    "from modeling.mclp_model import solve_mclp\n",
    "\n",
    "# MCLP 실행\n",
    "features = solve_mclp(\n",
    "    df=features,\n",
    "    coverage_radius=COVERAGE_RADIUS,\n",
    "    facility_limit=FACILITY_LIMIT,\n",
    "    demand_column='predicted_demand_score'\n",
    ")\n",
    "\n",
    "# 결과 저장\n",
    "features.to_csv(f\"{OUTPUT_DIR}/mclp_selected_sites.csv\", index=False)\n",
    "\n",
    "# 설치 위치 확인\n",
    "selected = features[features['selected'] == 1]\n",
    "print(f\"설치 대상지 수: {len(selected)}\")\n",
    "print(f\"커버 수요 총합: {selected['predicted_demand_score'].sum():,.2f}\")"
   ]
  },
  {
   "cell_type": "markdown",
   "id": "f752d41d",
   "metadata": {},
   "source": [
    "# 평가"
   ]
  },
  {
   "cell_type": "code",
   "execution_count": null,
   "id": "b9114df5",
   "metadata": {},
   "outputs": [],
   "source": [
    "# features 불러오기 (예측 수요 포함된 grid 데이터)\n",
    "features = pd.read_csv(f\"{DATA_DIR}/grid_features_with_prediction.csv\")\n",
    "\n",
    "# 기존 충전소 데이터 로드\n",
    "stations = pd.read_csv(f\"{DATA_DIR}/raw/한국환경공단_전기차 충전소 위치 및 운영정보(충전소 ID 포함)_20230531.csv\", encoding='cp949')\n",
    "\n",
    "# 평가 실행\n",
    "baseline1 = evaluate_existing_stations(features, stations)\n",
    "baseline2 = evaluate_random_installation(features, n=FACILITY_LIMIT)\n",
    "baseline3 = evaluate_cluster_centers(features)\n",
    "baseline4 = evaluate_mclp_result(features)"
   ]
  },
  {
   "cell_type": "code",
   "execution_count": null,
   "id": "2a4b352d",
   "metadata": {},
   "outputs": [],
   "source": [
    "results = pd.DataFrame([\n",
    "    {'baseline': '① 기존 충전소', **baseline1},\n",
    "    {'baseline': '② 랜덤 설치', **baseline2},\n",
    "    {'baseline': '③ 클러스터 중심', **baseline3},\n",
    "    {'baseline': '④ MCLP 최적화', **baseline4}\n",
    "])\n",
    "\n",
    "from IPython.display import display\n",
    "display(results)"
   ]
  }
 ],
 "metadata": {
  "kernelspec": {
   "display_name": "25bigdata",
   "language": "python",
   "name": "python3"
  },
  "language_info": {
   "codemirror_mode": {
    "name": "ipython",
    "version": 3
   },
   "file_extension": ".py",
   "mimetype": "text/x-python",
   "name": "python",
   "nbconvert_exporter": "python",
   "pygments_lexer": "ipython3",
   "version": "3.10.13"
  }
 },
 "nbformat": 4,
 "nbformat_minor": 5
}
