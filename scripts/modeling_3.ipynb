{
 "cells": [
  {
   "cell_type": "code",
   "execution_count": 219,
   "id": "938aa384",
   "metadata": {},
   "outputs": [
    {
     "name": "stdout",
     "output_type": "stream",
     "text": [
      "The autoreload extension is already loaded. To reload it, use:\n",
      "  %reload_ext autoreload\n"
     ]
    }
   ],
   "source": [
    "# 외부 py 파일 수정 시 자동으로 재로드되도록 설정\n",
    "%load_ext autoreload\n",
    "%autoreload 2"
   ]
  },
  {
   "cell_type": "code",
   "execution_count": 224,
   "id": "6bf30b09",
   "metadata": {},
   "outputs": [],
   "source": [
    "# ================================================\n",
    "# 📦 공통 패키지 import\n",
    "# ================================================\n",
    "import pandas as pd\n",
    "import numpy as np\n",
    "import matplotlib.pyplot as plt\n",
    "import seaborn as sns\n",
    "from tqdm import tqdm\n",
    "import os\n",
    "import sys\n",
    "\n",
    "# src 경로 추가\n",
    "PROJECT_ROOT = os.path.abspath(os.path.join(\"..\"))\n",
    "SRC_DIR = os.path.join(PROJECT_ROOT, \"src\")\n",
    "if SRC_DIR not in sys.path:\n",
    "    sys.path.append(SRC_DIR)\n",
    "\n",
    "# seaborn 스타일 설정\n",
    "sns.set(style=\"whitegrid\")\n",
    "\n",
    "# ================================================\n",
    "# ⚙️ 경로 및 상수 설정\n",
    "# ================================================\n",
    "DATA_DIR = \"../data/processed\"\n",
    "OUTPUT_DIR = \"../data/modeling\"\n",
    "SEOUL_STATION_PATH = os.path.join(DATA_DIR, \"seoul_env_station_mapped.csv\")\n",
    "OUTPUT_IMG = \"../outputs/image\"\n",
    "\n",
    "os.makedirs(OUTPUT_DIR, exist_ok=True)\n",
    "\n",
    "# KMeans 설정\n",
    "KMEANS_MODE = \"auto\" # auto, manual\n",
    "KMEANS_MANUAL_K = 5\n",
    "\n",
    "# XGBoost 설정\n",
    "XGB_N_ESTIMATORS = 100\n",
    "\n",
    "# MCLP 설정\n",
    "COVERAGE_RADIUS = 0.005\n",
    "FACILITY_LIMIT = 30\n",
    "\n",
    "# ================================================\n",
    "# 🧪 평가 함수 import\n",
    "# ================================================\n",
    "from evaluation.baseline_evaluator import (\n",
    "    evaluate_existing_stations,\n",
    "    evaluate_random_installation,\n",
    "    evaluate_cluster_centers,\n",
    "    evaluate_mclp_result\n",
    ")"
   ]
  },
  {
   "cell_type": "markdown",
   "id": "08099638",
   "metadata": {},
   "source": [
    "# K-means"
   ]
  },
  {
   "cell_type": "code",
   "execution_count": 225,
   "id": "5438fbcc",
   "metadata": {},
   "outputs": [
    {
     "name": "stderr",
     "output_type": "stream",
     "text": [
      "Finding optimal k: 100%|██████████| 9/9 [00:00<00:00, 42.12it/s]"
     ]
    },
    {
     "name": "stdout",
     "output_type": "stream",
     "text": [
      "[AUTO MODE] 최적 k = 2\n",
      "Inertia by k: {2: 394878040.6060905, 3: 182752136.79175264, 4: 111630868.37625773, 5: 83130803.13068569, 6: 65292788.3815513, 7: 54917904.7908943, 8: 48181642.39693806, 9: 36633734.731904596, 10: 32347245.131689377}\n",
      "\n",
      "[Cluster별 평균 수요]\n",
      "cluster\n",
      "1.0    1360.575095\n",
      "0.0      57.366915\n",
      "Name: demand_score, dtype: float64\n",
      "\n",
      "[필터링] 수요가 가장 높은 클러스터 (cluster=1.0)만 반환됨.\n"
     ]
    },
    {
     "name": "stderr",
     "output_type": "stream",
     "text": [
      "\n"
     ]
    }
   ],
   "source": [
    "from modeling.kmeans_model import run_kmeans\n",
    "\n",
    "# 데이터 로드\n",
    "grid = pd.read_csv(f\"{DATA_DIR}/grid_system_processed.csv\")\n",
    "\n",
    "# 수요가 가장 높은 클러스터만 추출\n",
    "grid , used_k = run_kmeans(\n",
    "    grid,\n",
    "    mode=KMEANS_MODE,\n",
    "    # manual_k=KMEANS_MANUAL_K,\n",
    "    return_top_cluster_only=True\n",
    ")"
   ]
  },
  {
   "cell_type": "markdown",
   "id": "c7a4b592",
   "metadata": {},
   "source": [
    "KMeans로 수요 밀집 지역을 선별한 후,\n",
    "\n",
    "해당 지역의 feature만 따로 정리해 저장하는 전처리 단계\n",
    "\n",
    "→ 이후 모델(XGBoost, MCLP)에서 이 subset만 사용할 수 있게 함."
   ]
  },
  {
   "cell_type": "code",
   "execution_count": 226,
   "id": "ab1a871f",
   "metadata": {},
   "outputs": [
    {
     "name": "stdout",
     "output_type": "stream",
     "text": [
      "✅ 좌표 컬럼 중복 없이 정리 및 저장 완료\n",
      "전체 feature 수: 6030\n",
      "수요 밀집 클러스터 feature 수: 526\n",
      "병합 후 유지된 비율: 8.72%\n",
      "사용 가능한 feature 컬럼: ['grid_id', 'demand_score', 'supply_score', 'commercial_count', 'station_count', 'supply_demand_ratio', 'population_density', 'accessibility_score', 'transport_score', 'center_lat', 'center_lon', 'cluster']\n"
     ]
    }
   ],
   "source": [
    "# 필요한 컬럼만 유지 (grid: KMeans 결과)\n",
    "grid = grid[['grid_id', 'center_lat', 'center_lon', 'cluster']]\n",
    "\n",
    "# 원본 feature 로드\n",
    "features_all = pd.read_csv(f\"{DATA_DIR}/grid_features.csv\")\n",
    "\n",
    "# 병합 전: features_all 좌표 제거 (혼동 방지)\n",
    "features_all = features_all.drop(columns=['center_lat', 'center_lon'], errors='ignore')\n",
    "\n",
    "# 병합\n",
    "features = features_all.merge(grid, on='grid_id', how='inner')\n",
    "\n",
    "# cluster 정수형 처리\n",
    "features['cluster'] = features['cluster'].astype(int)\n",
    "\n",
    "# 저장 전 좌표 정리: 이미 이름이 정돈돼 있음\n",
    "# → center_lat, center_lon 이 grid 기준으로만 존재\n",
    "features = features.loc[:, ~features.columns.duplicated()]  # 혹시 모를 중복 제거\n",
    "\n",
    "# 저장\n",
    "features.to_csv(f\"{OUTPUT_DIR}/kmeans_grid_features.csv\", index=False)\n",
    "print(\"✅ 좌표 컬럼 중복 없이 정리 및 저장 완료\")\n",
    "\n",
    "# 확인\n",
    "print(f\"전체 feature 수: {len(features_all)}\")\n",
    "print(f\"수요 밀집 클러스터 feature 수: {len(features)}\")\n",
    "print(f\"병합 후 유지된 비율: {len(features) / len(features_all) * 100:.2f}%\")\n",
    "print(f\"사용 가능한 feature 컬럼: {features.columns.tolist()}\")"
   ]
  },
  {
   "cell_type": "code",
   "execution_count": null,
   "id": "2af8cb16",
   "metadata": {},
   "outputs": [
    {
     "name": "stdout",
     "output_type": "stream",
     "text": [
      "🧾 입력 데이터 이름: features\n",
      "🔢 shape: (526, 13)\n",
      "🔑 컬럼 목록:\n",
      "['grid_id', 'demand_score', 'supply_score', 'commercial_count', 'station_count', 'supply_demand_ratio', 'population_density', 'accessibility_score', 'transport_score', 'center_lat', 'center_lon', 'cluster', 'predicted_demand_score']\n",
      "\n",
      "🧾 예시 5개:\n",
      "        grid_id  demand_score  supply_score  commercial_count  station_count  \\\n",
      "0  GRID_011_036        1372.5      27.15053               200              1   \n",
      "1  GRID_011_037         911.5      27.15053               200              0   \n",
      "2  GRID_012_035         883.0      27.15053               200              1   \n",
      "3  GRID_012_036         952.5      27.15053               200              0   \n",
      "4  GRID_014_033         946.5      27.15053               200              0   \n",
      "\n",
      "   supply_demand_ratio  population_density  accessibility_score  \\\n",
      "0            50.551499                2400                  0.0   \n",
      "1            33.572089                2400                  0.0   \n",
      "2            32.522385                2400                  0.0   \n",
      "3            35.082188                2400                  0.0   \n",
      "4            34.861198                2400                  0.0   \n",
      "\n",
      "   transport_score  center_lat  center_lon cluster  predicted_demand_score  \n",
      "0        41.979882    37.45175    126.9044       1             1513.096802  \n",
      "1        23.028949    37.45175    126.9100       1              912.192810  \n",
      "2        31.888855    37.45625    126.8988       1              931.310364  \n",
      "3        33.980204    37.45625    126.9044       1              954.096436  \n",
      "4        32.423406    37.46525    126.8876       1              942.937134  \n",
      "\n",
      "📈 수치형 통계 요약:\n",
      "       demand_score  supply_score  commercial_count  station_count  \\\n",
      "count    526.000000    526.000000             526.0     526.000000   \n",
      "mean    1360.575095    134.098127             200.0       2.060837   \n",
      "std      697.995900     76.372686               0.0       2.544107   \n",
      "min      708.500000     27.150530             200.0       0.000000   \n",
      "25%      869.625000     73.798750             200.0       0.000000   \n",
      "50%     1112.250000    116.867130             200.0       1.000000   \n",
      "75%     1593.000000    188.963790             200.0       3.000000   \n",
      "max     4967.000000    433.931640             200.0      14.000000   \n",
      "\n",
      "       supply_demand_ratio  population_density  accessibility_score  \\\n",
      "count           526.000000               526.0           526.000000   \n",
      "mean             15.183425              2400.0            30.367475   \n",
      "std              15.044833                 0.0            26.986941   \n",
      "min               2.049583              2400.0             0.000000   \n",
      "25%               6.413556              2400.0             5.145555   \n",
      "50%              10.147542              2400.0            27.610586   \n",
      "75%              17.450190              2400.0            46.553664   \n",
      "max             122.041816              2400.0            98.089607   \n",
      "\n",
      "       transport_score  center_lat  center_lon  predicted_demand_score  \n",
      "count       526.000000  526.000000  526.000000              526.000000  \n",
      "mean         63.835298   37.541237  126.994245             1361.383462  \n",
      "std          21.133278    0.046968    0.083000              695.152696  \n",
      "min          20.607642   37.451750  126.809200              711.299988  \n",
      "25%          46.929032   37.501250  126.921200              870.075516  \n",
      "50%          63.642179   37.537250  127.010800             1112.893433  \n",
      "75%          79.540405   37.568750  127.055600             1590.636597  \n",
      "max         100.000000   37.676750  127.173200             4967.239258  \n",
      "✅ 클러스터 지도 저장 완료: ../outputs/maps/kmeans_visualization.html\n"
     ]
    }
   ],
   "source": [
    "# 선택시항\n",
    "\n",
    "from utils.inspect_dataframe import inspect_dataframe\n",
    "from visualization.map_visualizer import visualize_cluster_map\n",
    "\n",
    "# 1. kmeans_grid_features.csv 특징\n",
    "inspect_dataframe(features, name=\"features\")\n",
    "\n",
    "# 2. kmeans 시각화 - 서울 전체 (회색) - 수요 (빨간색)\n",
    "visualize_cluster_map(\n",
    "    all_features_path=f\"{DATA_DIR}/grid_features.csv\",\n",
    "    filtered_features_path=f\"{OUTPUT_DIR}/kmeans_grid_features.csv\",\n",
    "    output_path=f\"../outputs/maps/kmeans_visualization.html\"\n",
    ")"
   ]
  },
  {
   "cell_type": "markdown",
   "id": "be9420f0",
   "metadata": {},
   "source": [
    "# XGBoost"
   ]
  },
  {
   "cell_type": "code",
   "execution_count": 232,
   "id": "4fd5b562",
   "metadata": {},
   "outputs": [
    {
     "name": "stdout",
     "output_type": "stream",
     "text": [
      "XGBoost 성능:\n",
      "MAE: 51.13\n",
      "RMSE: 81.49\n",
      "R²: 0.9826\n"
     ]
    }
   ],
   "source": [
    "from modeling.xgboost_model import train_and_predict\n",
    "\n",
    "# 학습 feature\n",
    "selected_features = [\n",
    "    'supply_score',\n",
    "    'station_count',\n",
    "    'commercial_count',\n",
    "    'supply_demand_ratio',\n",
    "    'population_density',\n",
    "    'accessibility_score',\n",
    "    'transport_score',\n",
    "    'cluster'\n",
    "]\n",
    "\n",
    "# 범주형 처리\n",
    "features['cluster'] = features['cluster'].astype('category')\n",
    "\n",
    "# XGBoost 학습 및 예측\n",
    "features_with_pred, metrics, model = train_and_predict(\n",
    "    df=features,\n",
    "    features=selected_features,\n",
    "    label='demand_score',\n",
    "    n_estimators=XGB_N_ESTIMATORS,\n",
    "    verbose=True\n",
    ")\n",
    "\n",
    "# 저장\n",
    "features_with_pred.to_csv(f\"{OUTPUT_DIR}/xgboost_grid_features.csv\", index=False)\n"
   ]
  },
  {
   "cell_type": "code",
   "execution_count": 233,
   "id": "d357bfa8",
   "metadata": {},
   "outputs": [
    {
     "name": "stdout",
     "output_type": "stream",
     "text": [
      "XGBoost 입력 feature 타입:\n",
      "grid_id                     object\n",
      "demand_score               float64\n",
      "supply_score               float64\n",
      "commercial_count             int64\n",
      "station_count                int64\n",
      "supply_demand_ratio        float64\n",
      "population_density           int64\n",
      "accessibility_score        float64\n",
      "transport_score            float64\n",
      "center_lat                 float64\n",
      "center_lon                 float64\n",
      "cluster                   category\n",
      "predicted_demand_score     float64\n",
      "dtype: object\n",
      "\n",
      "중요도 시각화 저장 완료: ../outputs/image/xgboost_importance.png\n"
     ]
    },
    {
     "data": {
      "image/png": "[encoded data removed]",
      "text/plain": [
       "<Figure size 640x480 with 1 Axes>"
      ]
     },
     "metadata": {},
     "output_type": "display_data"
    }
   ],
   "source": [
    "# 선택 사항\n",
    "\n",
    "# 1. XGBoost 입력 feature 타입\n",
    "print(\"XGBoost 입력 feature 타입:\")\n",
    "print(features_with_pred.dtypes)\n",
    "print(\"\")\n",
    "\n",
    "from visualization.xgboost_visualizer import plot_feature_importance\n",
    "\n",
    "# 2. 시각화\n",
    "plot_feature_importance(model, max_num_features=10, save_path=f\"{OUTPUT_IMG}/xgboost_importance.png\")\n",
    "\n",
    "# 3. metrics 저장\n",
    "pd.DataFrame([metrics]).to_csv(f\"{OUTPUT_DIR}/xgboost_metrics.csv\", index=False)"
   ]
  },
  {
   "cell_type": "markdown",
   "id": "5cf9f9fe",
   "metadata": {},
   "source": [
    "# MCLP"
   ]
  },
  {
   "cell_type": "code",
   "execution_count": 255,
   "id": "acc7a48c",
   "metadata": {},
   "outputs": [
    {
     "name": "stdout",
     "output_type": "stream",
     "text": [
      "\n",
      "반경 0.555km, 설치 20개 시나리오 실행 중...\n"
     ]
    },
    {
     "name": "stderr",
     "output_type": "stream",
     "text": [
      "커버리지 행렬 생성: 100%|██████████| 526/526 [00:21<00:00, 24.27it/s]\n"
     ]
    },
    {
     "name": "stdout",
     "output_type": "stream",
     "text": [
      "커버 수요: 205,707.64, 커버율: 28.73%\n",
      "\n",
      "반경 0.555km, 설치 30개 시나리오 실행 중...\n"
     ]
    },
    {
     "name": "stderr",
     "output_type": "stream",
     "text": [
      "커버리지 행렬 생성: 100%|██████████| 526/526 [00:21<00:00, 24.30it/s]\n"
     ]
    },
    {
     "name": "stdout",
     "output_type": "stream",
     "text": [
      "커버 수요: 274,334.71, 커버율: 38.31%\n",
      "\n",
      "반경 0.555km, 설치 40개 시나리오 실행 중...\n"
     ]
    },
    {
     "name": "stderr",
     "output_type": "stream",
     "text": [
      "커버리지 행렬 생성: 100%|██████████| 526/526 [00:21<00:00, 24.28it/s]\n"
     ]
    },
    {
     "name": "stdout",
     "output_type": "stream",
     "text": [
      "커버 수요: 331,398.83, 커버율: 46.28%\n",
      "\n",
      "반경 0.555km, 설치 50개 시나리오 실행 중...\n"
     ]
    },
    {
     "name": "stderr",
     "output_type": "stream",
     "text": [
      "커버리지 행렬 생성: 100%|██████████| 526/526 [00:21<00:00, 24.67it/s]\n"
     ]
    },
    {
     "name": "stdout",
     "output_type": "stream",
     "text": [
      "커버 수요: 380,194.92, 커버율: 53.09%\n",
      "\n",
      "반경 0.555km, 설치 60개 시나리오 실행 중...\n"
     ]
    },
    {
     "name": "stderr",
     "output_type": "stream",
     "text": [
      "커버리지 행렬 생성: 100%|██████████| 526/526 [00:21<00:00, 24.74it/s]\n"
     ]
    },
    {
     "name": "stdout",
     "output_type": "stream",
     "text": [
      "커버 수요: 423,914.29, 커버율: 59.20%\n",
      "\n",
      "반경 0.555km, 설치 70개 시나리오 실행 중...\n"
     ]
    },
    {
     "name": "stderr",
     "output_type": "stream",
     "text": [
      "커버리지 행렬 생성: 100%|██████████| 526/526 [00:21<00:00, 24.71it/s]\n"
     ]
    },
    {
     "name": "stdout",
     "output_type": "stream",
     "text": [
      "커버 수요: 462,473.55, 커버율: 64.58%\n",
      "\n",
      "반경 0.555km, 설치 80개 시나리오 실행 중...\n"
     ]
    },
    {
     "name": "stderr",
     "output_type": "stream",
     "text": [
      "커버리지 행렬 생성: 100%|██████████| 526/526 [00:21<00:00, 24.63it/s]\n"
     ]
    },
    {
     "name": "stdout",
     "output_type": "stream",
     "text": [
      "커버 수요: 497,837.65, 커버율: 69.52%\n",
      "\n",
      "반경 0.555km, 설치 90개 시나리오 실행 중...\n"
     ]
    },
    {
     "name": "stderr",
     "output_type": "stream",
     "text": [
      "커버리지 행렬 생성: 100%|██████████| 526/526 [00:21<00:00, 24.58it/s]\n"
     ]
    },
    {
     "name": "stdout",
     "output_type": "stream",
     "text": [
      "커버 수요: 530,302.57, 커버율: 74.06%\n",
      "\n",
      "반경 0.555km, 설치 100개 시나리오 실행 중...\n"
     ]
    },
    {
     "name": "stderr",
     "output_type": "stream",
     "text": [
      "커버리지 행렬 생성: 100%|██████████| 526/526 [00:21<00:00, 24.42it/s]\n"
     ]
    },
    {
     "name": "stdout",
     "output_type": "stream",
     "text": [
      "커버 수요: 558,514.35, 커버율: 78.00%\n",
      "\n",
      "민감도 분석 결과 요약\n",
      " - 최적 설치 수 기준 (best_limit): 100개\n",
      "   → 커버 수요: 558514.35, 커버율: 78.00%\n",
      " - 꺾이는 지점 기준 (elbow_point): 70개\n",
      "   → 커버 수요: 462473.55, 커버율: 64.58%\n"
     ]
    },
    {
     "name": "stderr",
     "output_type": "stream",
     "text": [
      "커버리지 행렬 생성: 100%|██████████| 526/526 [00:21<00:00, 24.57it/s]\n"
     ]
    },
    {
     "name": "stdout",
     "output_type": "stream",
     "text": [
      "설치지 수: 70개\n",
      "커버 수요: 462,473.55 / 총 수요: 716,087.70\n",
      "커버율: 64.58%\n",
      "결과 저장 완료\n"
     ]
    }
   ],
   "source": [
    "from modeling.mclp_model import solve_mclp, run_sensitivity_analysis, print_elbow_summary, find_elbow_point\n",
    "\n",
    "USE_MOCK_ELBOW = False  # True : mock 데이터 사용, False : 민감도 분석 실행\n",
    "\n",
    "if USE_MOCK_ELBOW:\n",
    "    # mock 데이터 정의\n",
    "    elbow_candidates = pd.DataFrame([{\n",
    "        'coverage_radius_km': 0.55,  # ≒ 0.005 degree\n",
    "        'facility_limit': 70,\n",
    "        'covered_demand': 462473.550,\n",
    "        'coverage_rate': 64.58,\n",
    "        'demand_satisfaction_ratio': 6606.76\n",
    "    }])\n",
    "    print(\"mock elbow_candidates 사용 중 (디버깅/테스트 목적)\")\n",
    "    \n",
    "else:\n",
    "    # 1. 민감도 분석 실행\n",
    "    sensitivity_df = run_sensitivity_analysis(\n",
    "        df=features,\n",
    "        coverage_radii_km=[COVERAGE_RADIUS * 111],\n",
    "        facility_limits=list(range(20, 101, 10)),\n",
    "        demand_column='predicted_demand_score',\n",
    "        verbose=True\n",
    "    )\n",
    "\n",
    "    # 2. delta 기반 elbow 지점 탐색\n",
    "    elbow_candidates = find_elbow_point(sensitivity_df, threshold_ratio=0.6)\n",
    "\n",
    "# 3. MCLP 실행\n",
    "if not elbow_candidates.empty:\n",
    "    best_row = sensitivity_df.loc[sensitivity_df['covered_demand'].idxmax()]\n",
    "    elbow_row = elbow_candidates.iloc[0]\n",
    "\n",
    "    # 출력\n",
    "    print_elbow_summary(best_row, elbow_row)\n",
    "\n",
    "    final_df, final_summary, _ = solve_mclp(\n",
    "        df=features,\n",
    "        coverage_radius=0.55 / 111.0,  # 반경 km → degree 환산\n",
    "        facility_limit=int(elbow_row['facility_limit']),\n",
    "        demand_column='predicted_demand_score',\n",
    "        verbose=True\n",
    "    )\n",
    "\n",
    "    final_df.to_csv(f\"{OUTPUT_DIR}/mclp_grid_features.csv\", index=False)\n",
    "    print(\"결과 저장 완료\")\n",
    "else:\n",
    "    print(\"꺾이는 지점이 없어 저장을 건너뜁니다.\")"
   ]
  },
  {
   "cell_type": "code",
   "execution_count": 256,
   "id": "c4a2cf66",
   "metadata": {},
   "outputs": [
    {
     "name": "stdout",
     "output_type": "stream",
     "text": [
      "설치지 시각화 저장 완료: ../outputs/maps/mclp_result_map.html\n"
     ]
    }
   ],
   "source": [
    "# 선택사항 - mclp 후 지역 시각화\n",
    "\n",
    "from visualization.map_visualizer import visualize_selected_sites_map\n",
    "\n",
    "visualize_selected_sites_map(\n",
    "    features_path=f\"{OUTPUT_DIR}/mclp_grid_features.csv\",\n",
    "    output_path=f\"../outputs/maps/mclp_result_map.html\"\n",
    ")"
   ]
  },
  {
   "cell_type": "markdown",
   "id": "f752d41d",
   "metadata": {},
   "source": [
    "# 평가"
   ]
  },
  {
   "cell_type": "code",
   "execution_count": 257,
   "id": "b9114df5",
   "metadata": {},
   "outputs": [
    {
     "name": "stdout",
     "output_type": "stream",
     "text": [
      "[Baseline ① 기존 충전소 기준]\n",
      "- 설치 격자 수: 523\n",
      "- 커버 수요: 712,847.65\n",
      "- 전체 수요: 716,087.70\n",
      "- 커버율: 99.55%\n",
      "[Baseline ② 랜덤 설치]\n",
      "- 설치 격자 수: 30\n",
      "- 커버 수요: 38,727.62\n",
      "- 전체 수요: 716,087.70\n",
      "- 커버율: 5.41%\n",
      "[Baseline ③ 클러스터 중심 설치]\n",
      "- 설치 격자 수: 1\n",
      "- 커버 수요: 797.63\n",
      "- 전체 수요: 716,087.70\n",
      "- 커버율: 0.11%\n",
      "[📊 MCLP 성능 평가]\n",
      "- 설치 개수: 70\n",
      "- 총 수요: 716,087.70\n",
      "- 커버 수요: 110,704.64\n",
      "- Coverage Rate: 15.46%\n",
      "- Demand Satisfaction Ratio (DSR): 1,581.49\n",
      "- 설치 효율성 (grid 단위): 1,581.49\n"
     ]
    }
   ],
   "source": [
    "features = pd.read_csv(f\"{OUTPUT_DIR}/mclp_grid_features.csv\")\n",
    "\n",
    "# ✅ 기존 충전소 데이터 변경\n",
    "stations = pd.read_csv(f\"{DATA_DIR}/charging_stations_seoul_gridded.csv\")\n",
    "\n",
    "# 📊 평가 실행\n",
    "baseline1 = evaluate_existing_stations(\n",
    "    features=features,\n",
    "    station_df=stations,\n",
    "    lat_col='위도',\n",
    "    lon_col='경도'\n",
    ")\n",
    "baseline2 = evaluate_random_installation(features, n=FACILITY_LIMIT)\n",
    "baseline3 = evaluate_cluster_centers(features)\n",
    "actual_facility_count = features['selected'].sum()\n",
    "\n",
    "baseline4 = evaluate_mclp_result(\n",
    "    df=features,\n",
    "    facility_limit=actual_facility_count  # 🔁 여기를 실제 설치 수로!\n",
    ")"
   ]
  },
  {
   "cell_type": "code",
   "execution_count": 157,
   "id": "172884fb",
   "metadata": {},
   "outputs": [
    {
     "name": "stdout",
     "output_type": "stream",
     "text": [
      "[Baseline ① 기존 충전소 기준]\n",
      "- 설치 격자 수: 523\n",
      "- 커버 수요: 712,847.65\n",
      "- 전체 수요: 716,087.70\n",
      "- 커버율: 99.55%\n",
      "[Baseline ② 랜덤 설치]\n",
      "- 설치 격자 수: 60\n",
      "- 커버 수요: 78,115.31\n",
      "- 전체 수요: 716,087.70\n",
      "- 커버율: 10.91%\n",
      "[📊 MCLP 성능 평가]\n",
      "- 설치 개수: 60\n",
      "- 총 수요: 716,087.70\n",
      "- 커버 수요: 101,921.86\n",
      "- Coverage Rate: 14.23%\n",
      "- Demand Satisfaction Ratio (DSR): 1,698.70\n",
      "- 설치 효율성 (grid 단위): 1,698.70\n"
     ]
    }
   ],
   "source": [
    "from evaluation.baseline_evaluator import (\n",
    "    evaluate_existing_stations,\n",
    "    evaluate_random_installation,\n",
    "    evaluate_cluster_centers,\n",
    "    evaluate_mclp_result\n",
    ")\n",
    "\n",
    "# 🔁 기준 데이터\n",
    "features = pd.read_csv(f\"{OUTPUT_DIR}/mclp_selected_optimal.csv\")\n",
    "stations = pd.read_csv(f\"{DATA_DIR}/charging_stations_seoul_gridded.csv\")\n",
    "optimal_facility_count = int(features['selected'].sum())  # 현재 60개\n",
    "\n",
    "# 📊 평가 실행\n",
    "baseline1 = evaluate_existing_stations(\n",
    "    features=features,\n",
    "    station_df=stations,\n",
    "    lat_col='위도',\n",
    "    lon_col='경도'\n",
    ")\n",
    "\n",
    "baseline2 = evaluate_random_installation(features, n=optimal_facility_count)\n",
    "\n",
    "# baseline3 = evaluate_cluster_centers(features, n=optimal_facility_count)\n",
    "\n",
    "baseline4 = evaluate_mclp_result(df=features, facility_limit=optimal_facility_count)"
   ]
  },
  {
   "cell_type": "code",
   "execution_count": 158,
   "id": "2a4b352d",
   "metadata": {},
   "outputs": [
    {
     "data": {
      "text/html": [
       "<div>\n",
       "<style scoped>\n",
       "    .dataframe tbody tr th:only-of-type {\n",
       "        vertical-align: middle;\n",
       "    }\n",
       "\n",
       "    .dataframe tbody tr th {\n",
       "        vertical-align: top;\n",
       "    }\n",
       "\n",
       "    .dataframe thead th {\n",
       "        text-align: right;\n",
       "    }\n",
       "</style>\n",
       "<table border=\"1\" class=\"dataframe\">\n",
       "  <thead>\n",
       "    <tr style=\"text-align: right;\">\n",
       "      <th></th>\n",
       "      <th>baseline</th>\n",
       "      <th>coverage</th>\n",
       "      <th>coverage_rate</th>\n",
       "      <th>covered_grids</th>\n",
       "      <th>dsr</th>\n",
       "      <th>efficiency</th>\n",
       "      <th>selected</th>\n",
       "      <th>total_demand</th>\n",
       "    </tr>\n",
       "  </thead>\n",
       "  <tbody>\n",
       "    <tr>\n",
       "      <th>0</th>\n",
       "      <td>① 기존 충전소</td>\n",
       "      <td>712847.646545</td>\n",
       "      <td>99.547534</td>\n",
       "      <td>523.0</td>\n",
       "      <td>NaN</td>\n",
       "      <td>NaN</td>\n",
       "      <td>NaN</td>\n",
       "      <td>NaN</td>\n",
       "    </tr>\n",
       "    <tr>\n",
       "      <th>1</th>\n",
       "      <td>② 랜덤 설치</td>\n",
       "      <td>78115.313782</td>\n",
       "      <td>10.908624</td>\n",
       "      <td>60.0</td>\n",
       "      <td>NaN</td>\n",
       "      <td>NaN</td>\n",
       "      <td>NaN</td>\n",
       "      <td>NaN</td>\n",
       "    </tr>\n",
       "    <tr>\n",
       "      <th>2</th>\n",
       "      <td>③ 클러스터 중심</td>\n",
       "      <td>797.631165</td>\n",
       "      <td>0.111387</td>\n",
       "      <td>1.0</td>\n",
       "      <td>NaN</td>\n",
       "      <td>NaN</td>\n",
       "      <td>NaN</td>\n",
       "      <td>NaN</td>\n",
       "    </tr>\n",
       "    <tr>\n",
       "      <th>3</th>\n",
       "      <td>④ MCLP 최적화</td>\n",
       "      <td>101921.863525</td>\n",
       "      <td>14.233154</td>\n",
       "      <td>NaN</td>\n",
       "      <td>1698.697725</td>\n",
       "      <td>1698.697725</td>\n",
       "      <td>60.0</td>\n",
       "      <td>716087.700928</td>\n",
       "    </tr>\n",
       "  </tbody>\n",
       "</table>\n",
       "</div>"
      ],
      "text/plain": [
       "     baseline       coverage  coverage_rate  covered_grids          dsr  \\\n",
       "0    ① 기존 충전소  712847.646545      99.547534          523.0          NaN   \n",
       "1     ② 랜덤 설치   78115.313782      10.908624           60.0          NaN   \n",
       "2   ③ 클러스터 중심     797.631165       0.111387            1.0          NaN   \n",
       "3  ④ MCLP 최적화  101921.863525      14.233154            NaN  1698.697725   \n",
       "\n",
       "    efficiency  selected   total_demand  \n",
       "0          NaN       NaN            NaN  \n",
       "1          NaN       NaN            NaN  \n",
       "2          NaN       NaN            NaN  \n",
       "3  1698.697725      60.0  716087.700928  "
      ]
     },
     "metadata": {},
     "output_type": "display_data"
    }
   ],
   "source": [
    "results = pd.DataFrame([\n",
    "    {'baseline': '① 기존 충전소', **baseline1},\n",
    "    {'baseline': '② 랜덤 설치', **baseline2},\n",
    "    {'baseline': '③ 클러스터 중심', **baseline3},\n",
    "    {'baseline': '④ MCLP 최적화', **baseline4}\n",
    "])\n",
    "\n",
    "from IPython.display import display\n",
    "display(results)"
   ]
  },
  {
   "cell_type": "code",
   "execution_count": 159,
   "id": "149e2abb",
   "metadata": {},
   "outputs": [
    {
     "name": "stderr",
     "output_type": "stream",
     "text": [
      "/var/folders/g0/wf5k560d45g5_rq_z1jbdpq40000gn/T/ipykernel_1131/1391480480.py:21: UserWarning: Glyph 9889 (\\N{HIGH VOLTAGE SIGN}) missing from font(s) AppleGothic.\n",
      "  plt.tight_layout()\n",
      "/opt/anaconda3/envs/25bigdata/lib/python3.10/site-packages/IPython/core/pylabtools.py:170: UserWarning: Glyph 9889 (\\N{HIGH VOLTAGE SIGN}) missing from font(s) AppleGothic.\n",
      "  fig.canvas.print_figure(bytes_io, **kw)\n"
     ]
    },
    {
     "data": {
      "image/png": "[encoded data removed]",
      "text/plain": [
       "<Figure size 1000x600 with 1 Axes>"
      ]
     },
     "metadata": {},
     "output_type": "display_data"
    }
   ],
   "source": [
    "import matplotlib.pyplot as plt\n",
    "import matplotlib.font_manager as fm\n",
    "import matplotlib as mpl\n",
    "\n",
    "# ✅ 한글 폰트 설정 (OS에 맞게 선택)\n",
    "mpl.rcParams['font.family'] = 'AppleGothic'  # macOS\n",
    "# mpl.rcParams['font.family'] = 'Malgun Gothic'  # Windows\n",
    "mpl.rcParams['axes.unicode_minus'] = False\n",
    "\n",
    "df = results.copy()\n",
    "df['selected'] = df['selected'].fillna(df['covered_grids'])\n",
    "\n",
    "plt.figure(figsize=(10, 6))\n",
    "plt.bar(df['baseline'], df['coverage'], color='skyblue', label='커버 수요')\n",
    "plt.plot(df['baseline'], df['coverage'] / df['selected'], color='orange', marker='o', label='설치 효율 (1곳당 수요)')\n",
    "\n",
    "plt.xticks(rotation=30)\n",
    "plt.ylabel(\"수요\")\n",
    "plt.title(\"⚡ 설치 전략별 커버 수요 및 효율 비교\")\n",
    "plt.legend()\n",
    "plt.tight_layout()\n",
    "plt.show()"
   ]
  },
  {
   "cell_type": "code",
   "execution_count": 94,
   "id": "b2654111",
   "metadata": {},
   "outputs": [],
   "source": [
    "import folium\n",
    "from geopy.distance import geodesic\n",
    "import matplotlib.cm as cm\n",
    "import matplotlib.colors as mcolors\n",
    "\n",
    "def plot_all_coverage_strategies(features, strategy_dict, radius_km=2.0):\n",
    "    \"\"\"\n",
    "    여러 설치 전략을 한 지도에 격자 커버리지를 색상별로 구분하여 시각화\n",
    "\n",
    "    Parameters:\n",
    "    - features: 전체 grid DataFrame (center_lat, center_lon 포함)\n",
    "    - strategy_dict: {label: 설치지 DataFrame} 형식\n",
    "    - radius_km: 커버 반경\n",
    "    \"\"\"\n",
    "    # 지도 초기화 (서울 중심)\n",
    "    m = folium.Map(location=[37.55, 126.98], zoom_start=11, tiles='cartodbpositron')\n",
    "\n",
    "    # 고유 색상 설정\n",
    "    color_map = {\n",
    "        '① 기존 충전소': 'red',\n",
    "        '② 랜덤 설치': 'green',\n",
    "        '③ 클러스터 중심': 'purple',\n",
    "        '④ MCLP 최적화': 'blue'\n",
    "    }\n",
    "\n",
    "    for label, install_df in strategy_dict.items():\n",
    "        color = color_map[label]\n",
    "\n",
    "        for _, grid in features.iterrows():\n",
    "            grid_center = (grid['center_lat'], grid['center_lon'])\n",
    "            for _, site in install_df.iterrows():\n",
    "                site_center = (site['center_lat'], site['center_lon'])\n",
    "                if geodesic(grid_center, site_center).km <= radius_km:\n",
    "                    folium.CircleMarker(\n",
    "                        location=grid_center,\n",
    "                        radius=2.5,\n",
    "                        color=color,\n",
    "                        fill=True,\n",
    "                        fill_opacity=0.3,\n",
    "                        popup=f\"{label} 커버\"\n",
    "                    ).add_to(m)\n",
    "                    break\n",
    "\n",
    "        # 설치 위치 강조\n",
    "        for _, site in install_df.iterrows():\n",
    "            folium.Marker(\n",
    "                location=(site['center_lat'], site['center_lon']),\n",
    "                icon=folium.Icon(color=color, icon='bolt', prefix='fa'),\n",
    "                popup=f\"{label} 설치지\"\n",
    "            ).add_to(m)\n",
    "\n",
    "    return m"
   ]
  },
  {
   "cell_type": "code",
   "execution_count": null,
   "id": "320ee8eb",
   "metadata": {},
   "outputs": [],
   "source": [
    "# 기존 충전소\n",
    "existing_stations_df = pd.read_csv(f\"{DATA_DIR}/charging_stations_seoul_gridded.csv\")\n",
    "existing_stations_df = existing_stations_df.dropna(subset=['위도', '경도']).copy()\n",
    "existing_stations_df = existing_stations_df.rename(columns={'위도': 'center_lat', '경도': 'center_lon'})\n",
    "\n",
    "# MCLP 설치지\n",
    "mclp_selected_df = features[features['selected'] == 1][['grid_id', 'center_lat', 'center_lon']].copy()\n",
    "\n",
    "# 랜덤 설치\n",
    "np.random.seed(42)\n",
    "random_sites_df = features.sample(n=FACILITY_LIMIT)[['grid_id', 'center_lat', 'center_lon']].copy()\n",
    "\n",
    "# 클러스터 중심 (각 클러스터마다 중심 1개씩)\n",
    "cluster_center_df = features.groupby('cluster')[['center_lat', 'center_lon']].mean().reset_index()\n",
    "\n",
    "# 전략별 dict\n",
    "strategy_dict = {\n",
    "    \"① 기존 충전소\": existing_stations_df,\n",
    "    \"② 랜덤 설치\": random_sites_df,\n",
    "    \"③ 클러스터 중심\": cluster_center_df,\n",
    "    \"④ MCLP 최적화\": mclp_selected_df\n",
    "}\n",
    "\n",
    "# 지도 생성 및 저장\n",
    "map_all = plot_all_coverage_strategies(features, strategy_dict, radius_km=2.0)\n",
    "map_all.save(\"../outputs/maps/coverage_comparison_map.html\")\n",
    "map_all"
   ]
  },
  {
   "cell_type": "code",
   "execution_count": null,
   "id": "28590c55",
   "metadata": {},
   "outputs": [],
   "source": []
  }
 ],
 "metadata": {
  "kernelspec": {
   "display_name": "25bigdata",
   "language": "python",
   "name": "python3"
  },
  "language_info": {
   "codemirror_mode": {
    "name": "ipython",
    "version": 3
   },
   "file_extension": ".py",
   "mimetype": "text/x-python",
   "name": "python",
   "nbconvert_exporter": "python",
   "pygments_lexer": "ipython3",
   "version": "3.10.13"
  }
 },
 "nbformat": 4,
 "nbformat_minor": 5
}
