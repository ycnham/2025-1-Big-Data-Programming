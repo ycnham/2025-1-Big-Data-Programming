{
 "cells": [
  {
   "cell_type": "code",
   "execution_count": 1,
   "id": "a6fa295b",
   "metadata": {},
   "outputs": [],
   "source": [
    "%load_ext autoreload\n",
    "%autoreload 2"
   ]
  },
  {
   "cell_type": "code",
   "execution_count": 2,
   "id": "9e95fbaf",
   "metadata": {},
   "outputs": [],
   "source": [
    "# 공통 패키지 import\n",
    "import pandas as pd\n",
    "import numpy as np\n",
    "import matplotlib.pyplot as plt\n",
    "import seaborn as sns\n",
    "from tqdm import tqdm\n",
    "import os\n",
    "import sys\n",
    "\n",
    "# src 경로 추가\n",
    "PROJECT_ROOT = os.path.abspath(os.path.join(\"..\"))\n",
    "SRC_DIR = os.path.join(PROJECT_ROOT, \"src\")\n",
    "if SRC_DIR not in sys.path:\n",
    "    sys.path.append(SRC_DIR)\n",
    "\n",
    "# seaborn 스타일 설정\n",
    "sns.set(style=\"whitegrid\")\n",
    "\n",
    "# 경로 및 상수 설정\n",
    "DATA_DIR = \"../data/processed\"\n",
    "RAW_DIR = \"../data/raw\"\n",
    "OUTPUT_IMG = \"../outputs/image\"\n",
    "OUTPUT_DIR = \"../data/modeling\"\n",
    "os.makedirs(OUTPUT_DIR, exist_ok=True)\n",
    "\n",
    "# KMeans 설정\n",
    "KMEANS_MODE = \"auto\"  # auto, manual\n",
    "KMEANS_MANUAL_K = 5\n",
    "\n",
    "# XGBoost 설정\n",
    "XGB_N_ESTIMATORS = 100\n",
    "\n",
    "# MCLP 설정\n",
    "COVERAGE_RADIUS = 0.005\n",
    "FACILITY_LIMIT = 30\n",
    "\n",
    "# 평가 함수 import\n",
    "from evaluation.baseline_evaluator import (\n",
    "    evaluate_existing_stations,\n",
    "    evaluate_random_installation,\n",
    "    evaluate_cluster_centers,\n",
    "    evaluate_mclp_result\n",
    ")"
   ]
  },
  {
   "cell_type": "markdown",
   "id": "1e1156b6",
   "metadata": {},
   "source": [
    "# 추가 전처리\n",
    "\n",
    "### 전기차 충전소 위치 매핑 및 격자 시스템 적용"
   ]
  },
  {
   "cell_type": "code",
   "execution_count": 4,
   "id": "05be22c2",
   "metadata": {},
   "outputs": [
    {
     "name": "stderr",
     "output_type": "stream",
     "text": [
      "/Users/masterj/Documents/GitHub/2025-1-Big-Data-Programming/src/preprocessing/map_stations_to_grid.py:6: DtypeWarning: Columns (11) have mixed types. Specify dtype option on import or set low_memory=False.\n",
      "  env_station = pd.read_csv(env_path, encoding=encoding)\n",
      "100%|██████████| 56351/56351 [00:08<00:00, 6517.10it/s]\n"
     ]
    },
    {
     "name": "stdout",
     "output_type": "stream",
     "text": [
      "✅ 저장 완료: ../data/processed/charging_stations_seoul_gridded.csv\n"
     ]
    }
   ],
   "source": [
    "# 위치 매핑 함수 import\n",
    "from preprocessing.map_stations_to_grid import map_stations_to_grid\n",
    "\n",
    "# 위치 매핑 실행\n",
    "map_stations_to_grid(\n",
    "    env_path=os.path.join(RAW_DIR, \"한국환경공단_전기차 충전소 위치 및 운영정보(충전소 ID 포함)_20230531.csv\"),\n",
    "    grid_path=os.path.join(DATA_DIR, \"grid_system_processed.csv\"),\n",
    "    output_path=os.path.join(DATA_DIR, \"charging_stations_seoul_gridded.csv\")\n",
    ")"
   ]
  },
  {
   "cell_type": "markdown",
   "id": "2f320036",
   "metadata": {},
   "source": [
    "# 기존 충전소"
   ]
  },
  {
   "cell_type": "code",
   "execution_count": 5,
   "id": "3c4652d0",
   "metadata": {},
   "outputs": [
    {
     "name": "stdout",
     "output_type": "stream",
     "text": [
      "기존 충전소 기반 분석 결과\n",
      "- 전체 서울 격자 수: 6030\n",
      "- 설치 격자 수: 1753\n",
      "- 서울 전체 기준 설치 비율: 29.07%\n",
      "- 수요 기준 커버율: 96.18%\n"
     ]
    }
   ],
   "source": [
    "# 기존 충전소 기반 설치 커버율 분석\n",
    "\n",
    "# 평가 함수 import\n",
    "from evaluation.grid_coverage_eval import evaluate_installed_coverage\n",
    "\n",
    "# 경로 상수 지정\n",
    "GRID_FEATURES_PATH = os.path.join(DATA_DIR, \"grid_features.csv\")\n",
    "INSTALLED_STATION_PATH = os.path.join(DATA_DIR, \"charging_stations_seoul_gridded.csv\")\n",
    "\n",
    "# 평가 실행\n",
    "coverage_result = evaluate_installed_coverage(\n",
    "    grid_path=GRID_FEATURES_PATH,\n",
    "    station_path=INSTALLED_STATION_PATH,\n",
    "    verbose=True\n",
    ")"
   ]
  },
  {
   "cell_type": "markdown",
   "id": "1c9a210f",
   "metadata": {},
   "source": [
    "# K Means"
   ]
  },
  {
   "cell_type": "code",
   "execution_count": 6,
   "id": "7956909e",
   "metadata": {},
   "outputs": [
    {
     "name": "stderr",
     "output_type": "stream",
     "text": [
      "Finding optimal k: 100%|██████████| 9/9 [00:00<00:00, 17.41it/s]"
     ]
    },
    {
     "name": "stdout",
     "output_type": "stream",
     "text": [
      "[AUTO MODE] 최적 k = 2\n",
      "Inertia by k: {2: 394878040.6060905, 3: 182752136.7917526, 4: 111630868.37625773, 5: 83130803.13068569, 6: 65292788.3815513, 7: 54917904.7908943, 8: 48181642.39693806, 9: 36633734.731904596, 10: 32347245.131689377}\n",
      "\n",
      "[Cluster별 평균 수요]\n",
      "cluster\n",
      "1.0    1360.575095\n",
      "0.0      57.366915\n",
      "Name: demand_score, dtype: float64\n",
      "\n",
      "[필터링] 수요가 가장 높은 클러스터 (cluster=1.0)만 반환됨.\n",
      "✅ 저장 완료: ../data/modeling/kmeans_grid_features.csv\n",
      "사용 가능한 feature 컬럼: ['grid_id', 'demand_score', 'supply_score', 'commercial_count', 'station_count', 'supply_demand_ratio', 'population_density', 'accessibility_score', 'transport_score', 'center_lat', 'center_lon', 'cluster']\n",
      "[클러스터링 기반 분석 결과]\n",
      "- 전체 서울 격자 수: 6030\n",
      "- 선택된 격자 수: 526\n",
      "- 서울 전체 기준 설치 비율: 8.72%\n",
      "- 수요 기준 커버율: 69.39%\n"
     ]
    },
    {
     "name": "stderr",
     "output_type": "stream",
     "text": [
      "\n"
     ]
    },
    {
     "data": {
      "text/plain": [
       "{'total_grids': 6030,\n",
       " 'selected_grids': 526,\n",
       " 'install_ratio': 8.723051409618574,\n",
       " 'total_demand': 1031410.0,\n",
       " 'covered_demand': 715662.5,\n",
       " 'coverage_rate': 69.38681028882792}"
      ]
     },
     "execution_count": 6,
     "metadata": {},
     "output_type": "execute_result"
    }
   ],
   "source": [
    "from modeling.kmeans_runner import generate_kmeans_features\n",
    "from evaluation.grid_coverage_eval import evaluate_grid_coverage\n",
    "\n",
    "# 경로 설정\n",
    "GRID_PROCESSED_PATH = os.path.join(DATA_DIR, \"grid_system_processed.csv\")\n",
    "FEATURES_ALL_PATH = os.path.join(DATA_DIR, \"grid_features.csv\")\n",
    "KMEANS_OUTPUT_PATH = os.path.join(OUTPUT_DIR, \"kmeans_grid_features.csv\")\n",
    "\n",
    "# KMeans 실행\n",
    "features_kmeans, used_k = generate_kmeans_features(\n",
    "    grid_path=GRID_PROCESSED_PATH,\n",
    "    features_path=FEATURES_ALL_PATH,\n",
    "    output_path=KMEANS_OUTPUT_PATH,\n",
    "    mode=KMEANS_MODE,\n",
    "    manual_k=KMEANS_MANUAL_K,\n",
    "    return_top_cluster_only=True\n",
    ")\n",
    "\n",
    "# 커버율 평가\n",
    "all_df = pd.read_csv(FEATURES_ALL_PATH)\n",
    "evaluate_grid_coverage(\n",
    "    df_selected=features_kmeans,\n",
    "    df_all=all_df,\n",
    "    demand_col=\"demand_score\",\n",
    "    label=\"클러스터링 기반\"\n",
    ")"
   ]
  },
  {
   "cell_type": "markdown",
   "id": "42599554",
   "metadata": {},
   "source": [
    "# XG Boost"
   ]
  },
  {
   "cell_type": "code",
   "execution_count": 7,
   "id": "4ee1bc36",
   "metadata": {},
   "outputs": [
    {
     "name": "stdout",
     "output_type": "stream",
     "text": [
      "XGBoost 성능:\n",
      "MAE: 50.72\n",
      "RMSE: 81.40\n",
      "R²: 0.9826\n"
     ]
    }
   ],
   "source": [
    "from modeling.xgboost_model import train_and_predict\n",
    "\n",
    "# 전처리된 KMeans 기반 feature 불러오기\n",
    "XGB_INPUT_PATH = os.path.join(OUTPUT_DIR, \"kmeans_grid_features.csv\")\n",
    "features = pd.read_csv(XGB_INPUT_PATH)\n",
    "\n",
    "# 학습 feature 지정\n",
    "selected_features = [\n",
    "    'supply_score',\n",
    "    'station_count',\n",
    "    'commercial_count',\n",
    "    'supply_demand_ratio',\n",
    "    'population_density',\n",
    "    'accessibility_score',\n",
    "    'transport_score',\n",
    "    'cluster'\n",
    "]\n",
    "\n",
    "# cluster 컬럼이 있으면 범주형 처리\n",
    "if 'cluster' in features.columns:\n",
    "    features['cluster'] = features['cluster'].astype('category')\n",
    "\n",
    "# 모델 학습 및 예측\n",
    "features_with_pred, metrics, model = train_and_predict(\n",
    "    df=features,\n",
    "    features=selected_features,\n",
    "    label='demand_score',\n",
    "    n_estimators=XGB_N_ESTIMATORS,\n",
    "    verbose=True\n",
    ")\n",
    "\n",
    "# 예측 결과 저장\n",
    "XGB_OUTPUT_PATH = os.path.join(OUTPUT_DIR, \"xgboost_grid_features.csv\")\n",
    "features_with_pred.to_csv(XGB_OUTPUT_PATH, index=False)\n"
   ]
  },
  {
   "cell_type": "markdown",
   "id": "d9c895db",
   "metadata": {},
   "source": [
    "# MCLP\n",
    "\n",
    "## MCLP 모델 최적화 및 설정 이유\n",
    "\n",
    "## 1. 왜 300m를 설정했는가?\n",
    "전기차 충전소의 **커버리지를 평가**하는 데 있어 각 충전소가 **효율적으로 서비스할 수 있는 범위**를 정의하는 것이 중요합니다. 실험을 통해 여러 반경을 테스트한 결과, **0.3km (300m)** 반경이 최적의 커버리지를 제공한다고 판단되었습니다. 이 값은 도시 환경에서 **충전소의 일반적인 서비스 범위**로, 수요 밀집 지역을 적절히 커버할 수 있는 범위로 설정되었습니다.\n",
    "\n",
    "### 실험 결과:\n",
    "- **0.3 km 반경**을 설정했을 때 가장 효율적으로 충전소가 수요를 커버할 수 있다는 분석 결과가 나왔습니다.\n",
    "- 실험을 통해 다른 반경(0.4, 0.5 등)도 테스트했으나, **0.3 km**가 가장 적합한 선택으로 결정되었습니다.\n",
    "\n",
    "## 2. 왜 280개의 충전소 설치수를 설정했는가?\n",
    "MCLP 모델에서 **최소 설치 수로 목표 커버율을 달성**하는 실험을 진행했습니다. 목표 커버율을 **69.39%**로 설정하고, 이를 만족하는 **최소 설치 수**를 찾기 위한 실험을 수행한 결과, **280개**의 충전소가 **70.08%**의 커버리지를 제공한다고 분석되었습니다.\n",
    "\n",
    "### 실험 과정:\n",
    "- **민감도 분석**을 통해 **커버리지 반경과 설치 수**에 따른 커버리지 변화를 확인했습니다.\n",
    "- **Elbow Point** 분석을 통해, 설치 수가 증가할 때 커버리지의 증가율이 급격히 감소하는 지점을 찾았습니다.\n",
    "- 최적의 설치 수는 **280개**로, 이 수로 목표 커버율을 초과하는 **70.08%**를 달성할 수 있었습니다.\n",
    "- 따라서, 목표 커버율을 달성하기 위해 **280개 충전소 설치**가 최적의 선택으로 결정되었습니다.\n",
    "\n",
    "### 결과 요약:\n",
    "- **최적 설치 수**: 280개\n",
    "- **예상 커버율**: 70.08%\n",
    "- **설치 1개당 커버 수요**: 1792.40\n",
    "\n",
    "### 결론:\n",
    "- **0.3 km** 반경과 **280개 충전소** 설치가 **목표 커버율**을 만족하는 최적의 선택으로 도출되었습니다."
   ]
  },
  {
   "cell_type": "code",
   "execution_count": 8,
   "id": "3c27d022",
   "metadata": {},
   "outputs": [
    {
     "name": "stdout",
     "output_type": "stream",
     "text": [
      "설치지 수: 280개\n",
      "커버 수요: 501,872.89 / 총 수요: 716,109.91\n",
      "커버율: 70.08%\n",
      "\n",
      "MCLP 요약 결과:\n",
      "- selected_count: 280.00\n",
      "- covered_demand: 501872.89\n",
      "- total_demand: 716109.91\n",
      "- coverage_rate: 70.08\n",
      "- demand_satisfaction_ratio: 1792.40\n",
      "- coverage_radius_km: 33.30\n",
      "- facility_limit: 280.00\n"
     ]
    }
   ],
   "source": [
    "from modeling.mclp_model import solve_mclp\n",
    "\n",
    "# 1. 설정\n",
    "COVERAGE_RADIUS_KM = 0.3  # 반경 300m\n",
    "FACILITY_LIMIT = 280\n",
    "\n",
    "# 2. 데이터 로드\n",
    "XGB_INPUT_PATH = os.path.join(OUTPUT_DIR, \"xgboost_grid_features.csv\")\n",
    "features_with_pred = pd.read_csv(XGB_INPUT_PATH)\n",
    "\n",
    "# 3. MCLP 실행\n",
    "final_df, final_summary, _ = solve_mclp(\n",
    "    df=features_with_pred,\n",
    "    coverage_radius=COVERAGE_RADIUS_KM,\n",
    "    facility_limit=FACILITY_LIMIT,\n",
    "    demand_column='predicted_demand_score',\n",
    "    verbose=True\n",
    ")\n",
    "\n",
    "# 4. 저장 경로 지정\n",
    "MCLP_ALL_PATH = os.path.join(OUTPUT_DIR, \"mclp_grid_features.csv\")\n",
    "MCLP_SELECTED_PATH = os.path.join(OUTPUT_DIR, \"mclp_selected_grid_features.csv\")\n",
    "\n",
    "# 5. 결과 저장\n",
    "final_df.to_csv(MCLP_ALL_PATH, index=False)\n",
    "final_df[final_df['selected'] == 1].to_csv(MCLP_SELECTED_PATH, index=False)\n",
    "\n",
    "# 6. 요약 출력\n",
    "print(\"\\nMCLP 요약 결과:\")\n",
    "for k, v in final_summary.items():\n",
    "    print(f\"- {k}: {v:.2f}\")\n"
   ]
  },
  {
   "cell_type": "markdown",
   "id": "38f86372",
   "metadata": {},
   "source": [
    "# 평가"
   ]
  },
  {
   "cell_type": "code",
   "execution_count": 9,
   "id": "d7c76ca1",
   "metadata": {},
   "outputs": [
    {
     "name": "stdout",
     "output_type": "stream",
     "text": [
      "XGBoost 성능:\n",
      "MAE: 12.89\n",
      "RMSE: 61.18\n",
      "R²: 0.9798\n",
      "전체 격자 기준 XGBoost 예측 결과 저장 완료.\n"
     ]
    }
   ],
   "source": [
    "from modeling.xgboost_model import train_and_predict\n",
    "\n",
    "# 1. 경로 설정\n",
    "INPUT_PATH = os.path.join(DATA_DIR, \"grid_features.csv\")\n",
    "OUTPUT_PATH = os.path.join(OUTPUT_DIR, \"xgboost_grid_features_test.csv\")\n",
    "\n",
    "# 2. 데이터 로드\n",
    "features_all = pd.read_csv(INPUT_PATH)\n",
    "\n",
    "# 3. 사용할 피처 선택\n",
    "selected_features = [\n",
    "    'supply_score',\n",
    "    'station_count',\n",
    "    'commercial_count',\n",
    "    'supply_demand_ratio',\n",
    "    'population_density',\n",
    "    'accessibility_score',\n",
    "    'transport_score'\n",
    "]\n",
    "\n",
    "# 4. 학습 실행\n",
    "features_with_pred, metrics, model = train_and_predict(\n",
    "    df=features_all,\n",
    "    features=selected_features,\n",
    "    label='demand_score',\n",
    "    n_estimators=100,\n",
    "    verbose=True\n",
    ")\n",
    "\n",
    "# 5. 결과 저장\n",
    "features_with_pred.to_csv(OUTPUT_PATH, index=False)\n",
    "print(\"전체 격자 기준 XGBoost 예측 결과 저장 완료.\")"
   ]
  },
  {
   "cell_type": "code",
   "execution_count": 10,
   "id": "a79a8063",
   "metadata": {},
   "outputs": [
    {
     "name": "stdout",
     "output_type": "stream",
     "text": [
      "\n",
      "[기존 충전소 전체]\n",
      "- 설치 격자 수: 1753\n",
      "- 커버 수요: 978,846.38\n",
      "- 전체 수요: 1,026,048.11\n",
      "- 커버율: 95.40%\n",
      "- 설치 1개당 커버 수요 (효율): 558.38\n",
      "\n",
      "[랜덤 설치]\n",
      "- 설치 격자 수: 526\n",
      "- 커버 수요: 299,406.57\n",
      "- 전체 수요: 1,026,048.11\n",
      "- 커버율: 29.18%\n",
      "- 설치 1개당 커버 수요 (효율): 569.21\n",
      "\n",
      "[클러스터 기반 설치]\n",
      "- 설치 격자 수: 526\n",
      "- 커버 수요: 702,554.73\n",
      "- 전체 수요: 1,026,048.11\n",
      "- 커버율: 68.47%\n",
      "- 설치 1개당 커버 수요 (효율): 1,335.66\n",
      "\n",
      "[MCLP 추천 설치]\n",
      "- 설치 격자 수: 280\n",
      "- 커버 수요: 491,258.41\n",
      "- 전체 수요: 1,026,048.11\n",
      "- 커버율: 47.88%\n",
      "- 설치 1개당 커버 수요 (효율): 1,754.49\n"
     ]
    }
   ],
   "source": [
    "from evaluation.strategy_comparator import evaluate_strategy\n",
    "\n",
    "# 1. 데이터 로드\n",
    "DATA_DIR = \"../data/processed\"\n",
    "MODEL_DIR = \"../data/modeling\"\n",
    "\n",
    "stations = pd.read_csv(os.path.join(DATA_DIR, \"charging_stations_seoul_gridded.csv\"))\n",
    "features_with_pred = pd.read_csv(os.path.join(MODEL_DIR, \"xgboost_grid_features_test.csv\"))\n",
    "kmeans_features = pd.read_csv(os.path.join(MODEL_DIR, \"kmeans_grid_features.csv\"))\n",
    "mclp_features = pd.read_csv(os.path.join(MODEL_DIR, \"mclp_grid_features.csv\"))\n",
    "\n",
    "# 2. 전략별 격자 셋 정의\n",
    "strategy_sets = {\n",
    "    \"기존 충전소 전체\": set(stations['grid_id']),\n",
    "    \"랜덤 설치\": set(stations['grid_id'].drop_duplicates().sample(n=526, random_state=42)),\n",
    "    \"클러스터 기반 설치\": set(kmeans_features['grid_id'].dropna()),\n",
    "    \"MCLP 추천 설치\": set(mclp_features[mclp_features['selected'] == 1]['grid_id']),\n",
    "}\n",
    "\n",
    "# 3. 평가 실행\n",
    "for label, grid_set in strategy_sets.items():\n",
    "    evaluate_strategy(label, grid_set, features_with_pred)"
   ]
  },
  {
   "cell_type": "code",
   "execution_count": 11,
   "id": "836ece96",
   "metadata": {},
   "outputs": [
    {
     "name": "stdout",
     "output_type": "stream",
     "text": [
      "랜덤 설치가 새롭게 커버한 격자 수: 0\n",
      "랜덤 설치가 새롭게 커버한 수요: 0.00\n",
      "클러스터 기반 설치가 새롭게 커버한 격자 수: 15\n",
      "클러스터 기반 설치가 새롭게 커버한 수요: 18,020.96\n",
      "MCLP 추천 설치가 새롭게 커버한 격자 수: 7\n",
      "MCLP 추천 설치가 새롭게 커버한 수요: 11,093.12\n",
      "\n",
      "[신규 커버 격자 상위 수요 비율 분석]\n",
      "     grid_id  predicted_demand_score  rank  percentile   strategy\n",
      "GRID_039_048             3131.772461    15    0.248756 클러스터 기반 설치\n",
      "GRID_039_048             3131.772461    15    0.248756 MCLP 추천 설치\n",
      "GRID_018_043             1656.161133   108    1.791045 클러스터 기반 설치\n",
      "GRID_018_043             1656.161133   108    1.791045 MCLP 추천 설치\n",
      "GRID_024_073             1493.979004   137    2.271973 클러스터 기반 설치\n",
      "GRID_024_073             1493.979004   137    2.271973 MCLP 추천 설치\n",
      "GRID_035_042             1337.928223   189    3.134328 클러스터 기반 설치\n",
      "GRID_035_042             1337.928223   189    3.134328 MCLP 추천 설치\n",
      "GRID_031_066             1330.269287   192    3.184080 클러스터 기반 설치\n",
      "GRID_031_066             1330.269287   192    3.184080 MCLP 추천 설치\n",
      "GRID_038_054             1088.735840   265    4.394693 클러스터 기반 설치\n",
      "GRID_038_054             1088.735840   265    4.394693 MCLP 추천 설치\n",
      "GRID_022_073             1054.273193   283    4.693201 MCLP 추천 설치\n",
      "GRID_022_073             1054.273193   283    4.693201 클러스터 기반 설치\n",
      "GRID_046_064             1021.814514   298    4.941957 클러스터 기반 설치\n",
      "GRID_045_067             1002.286926   310    5.140962 클러스터 기반 설치\n",
      "GRID_025_043              950.255615   331    5.489221 클러스터 기반 설치\n",
      "GRID_034_069              925.564148   347    5.754561 클러스터 기반 설치\n",
      "GRID_032_047              823.199158   424    7.031509 클러스터 기반 설치\n",
      "GRID_021_079              754.627136   475    7.877280 클러스터 기반 설치\n",
      "GRID_019_042              746.121826   483    8.009950 클러스터 기반 설치\n",
      "GRID_036_067              703.971252   521    8.640133 클러스터 기반 설치\n"
     ]
    }
   ],
   "source": [
    "from evaluation.new_coverage_analyzer import analyze_new_coverage, compute_percentiles\n",
    "\n",
    "# 1. 데이터 로드\n",
    "features_with_pred = pd.read_csv(\"../data/modeling/xgboost_grid_features_test.csv\")\n",
    "stations = pd.read_csv(\"../data/processed/charging_stations_seoul_gridded.csv\")\n",
    "kmeans_features = pd.read_csv(\"../data/modeling/kmeans_grid_features.csv\")\n",
    "mclp_features = pd.read_csv(\"../data/modeling/mclp_grid_features.csv\")\n",
    "\n",
    "# 2. 전략별 격자 셋\n",
    "strategy_sets = {\n",
    "    \"기존 충전소 전체\": set(stations['grid_id']),\n",
    "    \"랜덤 설치\": set(stations['grid_id'].drop_duplicates().sample(n=526, random_state=42)),\n",
    "    \"클러스터 기반 설치\": set(kmeans_features['grid_id'].dropna()),\n",
    "    \"MCLP 추천 설치\": set(mclp_features[mclp_features['selected'] == 1]['grid_id']),\n",
    "}\n",
    "\n",
    "# 3. 신규 커버 분석\n",
    "results, uncovered = analyze_new_coverage(features_with_pred, strategy_sets, base_label=\"기존 충전소 전체\")\n",
    "\n",
    "# 4. 백분위 계산\n",
    "percentile_dfs = []\n",
    "for label, info in results.items():\n",
    "    df = compute_percentiles(features_with_pred, info['new_grids'], label=label)\n",
    "    percentile_dfs.append(df)\n",
    "\n",
    "# 5. 결과 통합 및 출력\n",
    "final_df = pd.concat(percentile_dfs).sort_values(by='rank').reset_index(drop=True)\n",
    "print(\"\\n[신규 커버 격자 상위 수요 비율 분석]\")\n",
    "print(final_df.to_string(index=False))"
   ]
  },
  {
   "cell_type": "code",
   "execution_count": 12,
   "id": "95596aa6",
   "metadata": {},
   "outputs": [
    {
     "name": "stdout",
     "output_type": "stream",
     "text": [
      "\n",
      "🗺️ 지도 파일 저장 완료: ../outputs/maps/new_covered_grids_map.html\n"
     ]
    }
   ],
   "source": [
    "from visualization.map_plotter import plot_strategy_map\n",
    "\n",
    "# 저장 경로 설정\n",
    "MAP_OUTPUT_PATH = os.path.join(\"../outputs/maps\", \"new_covered_grids_map.html\")\n",
    "os.makedirs(os.path.dirname(MAP_OUTPUT_PATH), exist_ok=True)\n",
    "\n",
    "# 지도 시각화 실행\n",
    "plot_strategy_map(\n",
    "    final_df=final_df,\n",
    "    coord_df=features_with_pred,\n",
    "    output_path=MAP_OUTPUT_PATH\n",
    ")"
   ]
  }
 ],
 "metadata": {
  "kernelspec": {
   "display_name": "25bigdata",
   "language": "python",
   "name": "python3"
  },
  "language_info": {
   "codemirror_mode": {
    "name": "ipython",
    "version": 3
   },
   "file_extension": ".py",
   "mimetype": "text/x-python",
   "name": "python",
   "nbconvert_exporter": "python",
   "pygments_lexer": "ipython3",
   "version": "3.10.13"
  }
 },
 "nbformat": 4,
 "nbformat_minor": 5
}
